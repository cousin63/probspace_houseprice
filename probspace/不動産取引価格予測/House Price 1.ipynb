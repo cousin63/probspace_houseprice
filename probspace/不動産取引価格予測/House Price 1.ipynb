{
 "cells": [
  {
   "cell_type": "code",
   "execution_count": 0,
   "metadata": {
    "colab": {},
    "colab_type": "code",
    "id": "vtKucb2P222P"
   },
   "outputs": [],
   "source": [
    "import warnings\n",
    "warnings.filterwarnings('ignore')\n",
    "import numpy as np\n",
    "import pandas as pd\n",
    "import matplotlib.pyplot as plt\n",
    "import seaborn as sns\n",
    "from sklearn.preprocessing import LabelEncoder\n",
    "from sklearn.preprocessing import PowerTransformer\n",
    "from collections import Counter\n",
    "import numpy as np # linear algebra\n",
    "import pandas as pd # data processing, CSV file I/O (e.g. pd.read_csv)\n",
    "\n",
    "# Input data files are available in the \"../input/\" directory.\n",
    "# For example, running this (by clicking run or pressing Shift+Enter) will list the files in the input directory\n",
    "\n",
    "from datetime import datetime\n",
    "from scipy.stats import skew  # for some statistics\n",
    "from scipy.special import boxcox1p\n",
    "from scipy.stats import boxcox_normmax\n",
    "from sklearn.linear_model import ElasticNetCV, LassoCV, RidgeCV\n",
    "from sklearn.ensemble import GradientBoostingRegressor\n",
    "from sklearn.svm import SVR\n",
    "from sklearn.pipeline import make_pipeline\n",
    "from sklearn.preprocessing import RobustScaler\n",
    "from sklearn.model_selection import KFold, cross_val_score\n",
    "from sklearn.metrics import mean_squared_error\n",
    "from mlxtend.regressor import StackingCVRegressor\n",
    "from xgboost import XGBRegressor\n",
    "from lightgbm import LGBMRegressor\n",
    "import matplotlib.pyplot as plt\n",
    "import scipy.stats as stats\n",
    "import sklearn.linear_model as linear_model\n",
    "import seaborn as sns\n",
    "from sklearn.manifold import TSNE\n",
    "from sklearn.cluster import KMeans\n",
    "from sklearn.decomposition import PCA\n",
    "from sklearn.preprocessing import StandardScaler\n",
    "\n",
    "import os\n",
    "\n",
    "import warnings\n",
    "warnings.filterwarnings('ignore')\n"
   ]
  },
  {
   "cell_type": "code",
   "execution_count": 0,
   "metadata": {
    "colab": {},
    "colab_type": "code",
    "id": "2gQRCEcj222U"
   },
   "outputs": [],
   "source": [
    "train = pd.read_csv(\"train_data.csv\")"
   ]
  },
  {
   "cell_type": "code",
   "execution_count": 0,
   "metadata": {
    "colab": {},
    "colab_type": "code",
    "id": "h2fvcWSm222W"
   },
   "outputs": [],
   "source": [
    "test = pd.read_csv(\"test_data.csv\")"
   ]
  },
  {
   "cell_type": "code",
   "execution_count": 0,
   "metadata": {
    "colab": {},
    "colab_type": "code",
    "id": "bzwk3ldDOoKx"
   },
   "outputs": [],
   "source": [
    "price=pd.read_csv('published_land_price.csv')"
   ]
  },
  {
   "cell_type": "code",
   "execution_count": 5,
   "metadata": {
    "colab": {
     "base_uri": "https://localhost:8080/",
     "height": 315
    },
    "colab_type": "code",
    "executionInfo": {
     "elapsed": 2658,
     "status": "ok",
     "timestamp": 1586590245210,
     "user": {
      "displayName": "河本紘伸",
      "photoUrl": "",
      "userId": "18373138818416241917"
     },
     "user_tz": -540
    },
    "id": "e9iVEoLz222Z",
    "outputId": "2490022b-4c13-46f0-9bc2-eca57acc595a"
   },
   "outputs": [
    {
     "data": {
      "text/html": [
       "<div>\n",
       "<style scoped>\n",
       "    .dataframe tbody tr th:only-of-type {\n",
       "        vertical-align: middle;\n",
       "    }\n",
       "\n",
       "    .dataframe tbody tr th {\n",
       "        vertical-align: top;\n",
       "    }\n",
       "\n",
       "    .dataframe thead th {\n",
       "        text-align: right;\n",
       "    }\n",
       "</style>\n",
       "<table border=\"1\" class=\"dataframe\">\n",
       "  <thead>\n",
       "    <tr style=\"text-align: right;\">\n",
       "      <th></th>\n",
       "      <th>id</th>\n",
       "      <th>種類</th>\n",
       "      <th>地域</th>\n",
       "      <th>市区町村コード</th>\n",
       "      <th>都道府県名</th>\n",
       "      <th>市区町村名</th>\n",
       "      <th>地区名</th>\n",
       "      <th>最寄駅：名称</th>\n",
       "      <th>最寄駅：距離（分）</th>\n",
       "      <th>間取り</th>\n",
       "      <th>面積（㎡）</th>\n",
       "      <th>土地の形状</th>\n",
       "      <th>間口</th>\n",
       "      <th>延床面積（㎡）</th>\n",
       "      <th>建築年</th>\n",
       "      <th>建物の構造</th>\n",
       "      <th>用途</th>\n",
       "      <th>今後の利用目的</th>\n",
       "      <th>前面道路：方位</th>\n",
       "      <th>前面道路：種類</th>\n",
       "      <th>前面道路：幅員（ｍ）</th>\n",
       "      <th>都市計画</th>\n",
       "      <th>建ぺい率（％）</th>\n",
       "      <th>容積率（％）</th>\n",
       "      <th>取引時点</th>\n",
       "      <th>改装</th>\n",
       "      <th>取引の事情等</th>\n",
       "      <th>y</th>\n",
       "    </tr>\n",
       "  </thead>\n",
       "  <tbody>\n",
       "    <tr>\n",
       "      <th>0</th>\n",
       "      <td>1</td>\n",
       "      <td>中古マンション等</td>\n",
       "      <td>NaN</td>\n",
       "      <td>13101</td>\n",
       "      <td>東京都</td>\n",
       "      <td>千代田区</td>\n",
       "      <td>飯田橋</td>\n",
       "      <td>飯田橋</td>\n",
       "      <td>1</td>\n",
       "      <td>２ＬＤＫ</td>\n",
       "      <td>55</td>\n",
       "      <td>NaN</td>\n",
       "      <td>NaN</td>\n",
       "      <td>NaN</td>\n",
       "      <td>昭和59年</td>\n",
       "      <td>ＳＲＣ</td>\n",
       "      <td>NaN</td>\n",
       "      <td>住宅</td>\n",
       "      <td>NaN</td>\n",
       "      <td>NaN</td>\n",
       "      <td>NaN</td>\n",
       "      <td>商業地域</td>\n",
       "      <td>80.0</td>\n",
       "      <td>600.0</td>\n",
       "      <td>2017年第４四半期</td>\n",
       "      <td>改装済</td>\n",
       "      <td>NaN</td>\n",
       "      <td>66.0</td>\n",
       "    </tr>\n",
       "    <tr>\n",
       "      <th>1</th>\n",
       "      <td>2</td>\n",
       "      <td>中古マンション等</td>\n",
       "      <td>NaN</td>\n",
       "      <td>13101</td>\n",
       "      <td>東京都</td>\n",
       "      <td>千代田区</td>\n",
       "      <td>飯田橋</td>\n",
       "      <td>飯田橋</td>\n",
       "      <td>5</td>\n",
       "      <td>１Ｋ</td>\n",
       "      <td>20</td>\n",
       "      <td>NaN</td>\n",
       "      <td>NaN</td>\n",
       "      <td>NaN</td>\n",
       "      <td>平成15年</td>\n",
       "      <td>ＲＣ</td>\n",
       "      <td>NaN</td>\n",
       "      <td>住宅</td>\n",
       "      <td>NaN</td>\n",
       "      <td>NaN</td>\n",
       "      <td>NaN</td>\n",
       "      <td>商業地域</td>\n",
       "      <td>80.0</td>\n",
       "      <td>500.0</td>\n",
       "      <td>2017年第４四半期</td>\n",
       "      <td>未改装</td>\n",
       "      <td>NaN</td>\n",
       "      <td>19.0</td>\n",
       "    </tr>\n",
       "  </tbody>\n",
       "</table>\n",
       "</div>"
      ],
      "text/plain": [
       "   id        種類   地域  市区町村コード 都道府県名  ... 容積率（％）        取引時点   改装 取引の事情等     y\n",
       "0   1  中古マンション等  NaN    13101   東京都  ...  600.0  2017年第４四半期  改装済    NaN  66.0\n",
       "1   2  中古マンション等  NaN    13101   東京都  ...  500.0  2017年第４四半期  未改装    NaN  19.0\n",
       "\n",
       "[2 rows x 28 columns]"
      ]
     },
     "execution_count": 5,
     "metadata": {
      "tags": []
     },
     "output_type": "execute_result"
    }
   ],
   "source": [
    "train.head(2)"
   ]
  },
  {
   "cell_type": "code",
   "execution_count": 6,
   "metadata": {
    "colab": {
     "base_uri": "https://localhost:8080/",
     "height": 54
    },
    "colab_type": "code",
    "executionInfo": {
     "elapsed": 2625,
     "status": "ok",
     "timestamp": 1586590245210,
     "user": {
      "displayName": "河本紘伸",
      "photoUrl": "",
      "userId": "18373138818416241917"
     },
     "user_tz": -540
    },
    "id": "0c9n7Ra5222c",
    "outputId": "95295c99-aa7b-46f1-c413-a65d004db34f"
   },
   "outputs": [
    {
     "name": "stdout",
     "output_type": "stream",
     "text": [
      "歪度: 63.882934\n",
      "尖度: 7603.439125\n"
     ]
    }
   ],
   "source": [
    "print(\"歪度: %f\" % train['y'].skew())\n",
    "print(\"尖度: %f\" % train['y'].kurt())"
   ]
  },
  {
   "cell_type": "code",
   "execution_count": 7,
   "metadata": {
    "colab": {
     "base_uri": "https://localhost:8080/",
     "height": 108
    },
    "colab_type": "code",
    "executionInfo": {
     "elapsed": 2583,
     "status": "ok",
     "timestamp": 1586590245211,
     "user": {
      "displayName": "河本紘伸",
      "photoUrl": "",
      "userId": "18373138818416241917"
     },
     "user_tz": -540
    },
    "id": "VdQzHHgQ222g",
    "outputId": "5296701d-d7b0-4d24-ee04-e0b9229268ea"
   },
   "outputs": [
    {
     "data": {
      "text/plain": [
       "Index(['id', '種類', '地域', '市区町村コード', '都道府県名', '市区町村名', '地区名', '最寄駅：名称',\n",
       "       '最寄駅：距離（分）', '間取り', '面積（㎡）', '土地の形状', '間口', '延床面積（㎡）', '建築年', '建物の構造',\n",
       "       '用途', '今後の利用目的', '前面道路：方位', '前面道路：種類', '前面道路：幅員（ｍ）', '都市計画', '建ぺい率（％）',\n",
       "       '容積率（％）', '取引時点', '改装', '取引の事情等', 'y'],\n",
       "      dtype='object')"
      ]
     },
     "execution_count": 7,
     "metadata": {
      "tags": []
     },
     "output_type": "execute_result"
    }
   ],
   "source": [
    "train.columns"
   ]
  },
  {
   "cell_type": "code",
   "execution_count": 8,
   "metadata": {
    "colab": {
     "base_uri": "https://localhost:8080/",
     "height": 232
    },
    "colab_type": "code",
    "executionInfo": {
     "elapsed": 2519,
     "status": "ok",
     "timestamp": 1586590245212,
     "user": {
      "displayName": "河本紘伸",
      "photoUrl": "",
      "userId": "18373138818416241917"
     },
     "user_tz": -540
    },
    "id": "jOMH5ck1222j",
    "outputId": "2a35c8f5-f22e-490b-c146-f0b8caaaf6f9"
   },
   "outputs": [
    {
     "data": {
      "text/html": [
       "<div>\n",
       "<style scoped>\n",
       "    .dataframe tbody tr th:only-of-type {\n",
       "        vertical-align: middle;\n",
       "    }\n",
       "\n",
       "    .dataframe tbody tr th {\n",
       "        vertical-align: top;\n",
       "    }\n",
       "\n",
       "    .dataframe thead th {\n",
       "        text-align: right;\n",
       "    }\n",
       "</style>\n",
       "<table border=\"1\" class=\"dataframe\">\n",
       "  <thead>\n",
       "    <tr style=\"text-align: right;\">\n",
       "      <th></th>\n",
       "      <th>id</th>\n",
       "      <th>Type</th>\n",
       "      <th>Region</th>\n",
       "      <th>MunicipalityCode</th>\n",
       "      <th>Prefecture</th>\n",
       "      <th>Municipality</th>\n",
       "      <th>DistrictName</th>\n",
       "      <th>NearestStation</th>\n",
       "      <th>TimeToNearestStation</th>\n",
       "      <th>FloorPlan</th>\n",
       "      <th>Area</th>\n",
       "      <th>LandShape</th>\n",
       "      <th>Frontage</th>\n",
       "      <th>TotalFloorArea</th>\n",
       "      <th>BuildingYear</th>\n",
       "      <th>Structure</th>\n",
       "      <th>Use</th>\n",
       "      <th>Purpose</th>\n",
       "      <th>Direction</th>\n",
       "      <th>Classification</th>\n",
       "      <th>Breadth</th>\n",
       "      <th>CityPlanning</th>\n",
       "      <th>CoverageRatio</th>\n",
       "      <th>FloorAreaRatio</th>\n",
       "      <th>Period</th>\n",
       "      <th>Renovation</th>\n",
       "      <th>Remarks</th>\n",
       "      <th>SalePrice</th>\n",
       "    </tr>\n",
       "  </thead>\n",
       "  <tbody>\n",
       "    <tr>\n",
       "      <th>0</th>\n",
       "      <td>1</td>\n",
       "      <td>中古マンション等</td>\n",
       "      <td>NaN</td>\n",
       "      <td>13101</td>\n",
       "      <td>東京都</td>\n",
       "      <td>千代田区</td>\n",
       "      <td>飯田橋</td>\n",
       "      <td>飯田橋</td>\n",
       "      <td>1</td>\n",
       "      <td>２ＬＤＫ</td>\n",
       "      <td>55</td>\n",
       "      <td>NaN</td>\n",
       "      <td>NaN</td>\n",
       "      <td>NaN</td>\n",
       "      <td>昭和59年</td>\n",
       "      <td>ＳＲＣ</td>\n",
       "      <td>NaN</td>\n",
       "      <td>住宅</td>\n",
       "      <td>NaN</td>\n",
       "      <td>NaN</td>\n",
       "      <td>NaN</td>\n",
       "      <td>商業地域</td>\n",
       "      <td>80.0</td>\n",
       "      <td>600.0</td>\n",
       "      <td>2017年第４四半期</td>\n",
       "      <td>改装済</td>\n",
       "      <td>NaN</td>\n",
       "      <td>66.0</td>\n",
       "    </tr>\n",
       "    <tr>\n",
       "      <th>1</th>\n",
       "      <td>2</td>\n",
       "      <td>中古マンション等</td>\n",
       "      <td>NaN</td>\n",
       "      <td>13101</td>\n",
       "      <td>東京都</td>\n",
       "      <td>千代田区</td>\n",
       "      <td>飯田橋</td>\n",
       "      <td>飯田橋</td>\n",
       "      <td>5</td>\n",
       "      <td>１Ｋ</td>\n",
       "      <td>20</td>\n",
       "      <td>NaN</td>\n",
       "      <td>NaN</td>\n",
       "      <td>NaN</td>\n",
       "      <td>平成15年</td>\n",
       "      <td>ＲＣ</td>\n",
       "      <td>NaN</td>\n",
       "      <td>住宅</td>\n",
       "      <td>NaN</td>\n",
       "      <td>NaN</td>\n",
       "      <td>NaN</td>\n",
       "      <td>商業地域</td>\n",
       "      <td>80.0</td>\n",
       "      <td>500.0</td>\n",
       "      <td>2017年第４四半期</td>\n",
       "      <td>未改装</td>\n",
       "      <td>NaN</td>\n",
       "      <td>19.0</td>\n",
       "    </tr>\n",
       "  </tbody>\n",
       "</table>\n",
       "</div>"
      ],
      "text/plain": [
       "   id      Type Region  ...  Renovation Remarks SalePrice\n",
       "0   1  中古マンション等    NaN  ...         改装済     NaN      66.0\n",
       "1   2  中古マンション等    NaN  ...         未改装     NaN      19.0\n",
       "\n",
       "[2 rows x 28 columns]"
      ]
     },
     "execution_count": 8,
     "metadata": {
      "tags": []
     },
     "output_type": "execute_result"
    }
   ],
   "source": [
    "train = train.rename(columns={\n",
    "    \"種類\": \"Type\",\n",
    "    \"地域\": \"Region\",\n",
    "    \"市区町村コード\": \"MunicipalityCode\",\n",
    "    \"都道府県名\": \"Prefecture\",\n",
    "    \"市区町村名\": \"Municipality\",\n",
    "    \"地区名\": \"DistrictName\",\n",
    "    \"最寄駅：名称\": \"NearestStation\",\n",
    "    \"最寄駅：距離（分）\": \"TimeToNearestStation\",\n",
    "    \"取引価格（総額）\": \"TradePrice\",\n",
    "    \"坪単価\": \"PricePerUnit\",\n",
    "    \"間取り\": \"FloorPlan\",\n",
    "    \"面積（㎡）\": \"Area\",\n",
    "    \"取引価格（平方メートル単価）\": \"UnitPrice\",\n",
    "    \"土地の形状\": \"LandShape\",\n",
    "    \"間口\": \"Frontage\",\n",
    "    \"延床面積（㎡）\": \"TotalFloorArea\",\n",
    "    \"建築年\": \"BuildingYear\",\n",
    "    \"建物の構造\": \"Structure\",\n",
    "    \"用途\": \"Use\",\n",
    "    \"今後の利用目的\": \"Purpose\",\n",
    "    \"前面道路：方位\": \"Direction\",\n",
    "    \"前面道路：種類\": \"Classification\",\n",
    "    \"前面道路：幅員（ｍ）\": \"Breadth\",\n",
    "    \"都市計画\": \"CityPlanning\",\n",
    "    \"建ぺい率（％）\": \"CoverageRatio\",\n",
    "    \"容積率（％）\": \"FloorAreaRatio\",\n",
    "    \"取引時点\": \"Period\",\n",
    "    \"改装\": \"Renovation\",\n",
    "    \"取引の事情等\": \"Remarks\",\n",
    "    \"y\"  :\"SalePrice\"\n",
    "}\n",
    ")\n",
    "train.head(2)"
   ]
  },
  {
   "cell_type": "code",
   "execution_count": 0,
   "metadata": {
    "colab": {},
    "colab_type": "code",
    "id": "L8Yu562k222l"
   },
   "outputs": [],
   "source": [
    "test = test.rename(columns={\n",
    "    \"種類\": \"Type\",\n",
    "    \"地域\": \"Region\",\n",
    "    \"市区町村コード\": \"MunicipalityCode\",\n",
    "    \"都道府県名\": \"Prefecture\",\n",
    "    \"市区町村名\": \"Municipality\",\n",
    "    \"地区名\": \"DistrictName\",\n",
    "    \"最寄駅：名称\": \"NearestStation\",\n",
    "    \"最寄駅：距離（分）\": \"TimeToNearestStation\",\n",
    "    \"取引価格（総額）\": \"TradePrice\",\n",
    "    \"坪単価\": \"PricePerUnit\",\n",
    "    \"間取り\": \"FloorPlan\",\n",
    "    \"面積（㎡）\": \"Area\",\n",
    "    \"取引価格（平方メートル単価）\": \"UnitPrice\",\n",
    "    \"土地の形状\": \"LandShape\",\n",
    "    \"間口\": \"Frontage\",\n",
    "    \"延床面積（㎡）\": \"TotalFloorArea\",\n",
    "    \"建築年\": \"BuildingYear\",\n",
    "    \"建物の構造\": \"Structure\",\n",
    "    \"用途\": \"Use\",\n",
    "    \"今後の利用目的\": \"Purpose\",\n",
    "    \"前面道路：方位\": \"Direction\",\n",
    "    \"前面道路：種類\": \"Classification\",\n",
    "    \"前面道路：幅員（ｍ）\": \"Breadth\",\n",
    "    \"都市計画\": \"CityPlanning\",\n",
    "    \"建ぺい率（％）\": \"CoverageRatio\",\n",
    "    \"容積率（％）\": \"FloorAreaRatio\",\n",
    "    \"取引時点\": \"Period\",\n",
    "    \"改装\": \"Renovation\",\n",
    "    \"取引の事情等\": \"Remarks\"\n",
    "}\n",
    ")"
   ]
  },
  {
   "cell_type": "code",
   "execution_count": 10,
   "metadata": {
    "colab": {
     "base_uri": "https://localhost:8080/",
     "height": 181
    },
    "colab_type": "code",
    "executionInfo": {
     "elapsed": 3017,
     "status": "ok",
     "timestamp": 1586590245735,
     "user": {
      "displayName": "河本紘伸",
      "photoUrl": "",
      "userId": "18373138818416241917"
     },
     "user_tz": -540
    },
    "id": "z9iJaWln222n",
    "outputId": "e2818c4c-6373-49bd-aa0c-3168d66c5e5d"
   },
   "outputs": [
    {
     "data": {
      "text/plain": [
       "count    356344.000000\n",
       "mean         65.434766\n",
       "std         315.011339\n",
       "min           0.000500\n",
       "25%          21.000000\n",
       "50%          35.000000\n",
       "75%          53.000000\n",
       "max       61000.000000\n",
       "Name: SalePrice, dtype: float64"
      ]
     },
     "execution_count": 10,
     "metadata": {
      "tags": []
     },
     "output_type": "execute_result"
    }
   ],
   "source": [
    "train[\"SalePrice\"].describe()"
   ]
  },
  {
   "cell_type": "code",
   "execution_count": 11,
   "metadata": {
    "colab": {
     "base_uri": "https://localhost:8080/",
     "height": 279
    },
    "colab_type": "code",
    "executionInfo": {
     "elapsed": 2997,
     "status": "ok",
     "timestamp": 1586590245736,
     "user": {
      "displayName": "河本紘伸",
      "photoUrl": "",
      "userId": "18373138818416241917"
     },
     "user_tz": -540
    },
    "id": "ZTSd1gNLXOQA",
    "outputId": "f5ce783a-c94d-40d9-ef97-bc37bfa8f99b"
   },
   "outputs": [
    {
     "data": {
      "image/png": "[encoded data removed]",
      "text/plain": [
       "<Figure size 432x288 with 1 Axes>"
      ]
     },
     "metadata": {
      "needs_background": "light",
      "tags": []
     },
     "output_type": "display_data"
    }
   ],
   "source": [
    "ax = sns.distplot(train['SalePrice'])\n",
    "plt.show()"
   ]
  },
  {
   "cell_type": "code",
   "execution_count": 0,
   "metadata": {
    "colab": {
     "base_uri": "https://localhost:8080/",
     "height": 279
    },
    "colab_type": "code",
    "executionInfo": {
     "elapsed": 7040,
     "status": "ok",
     "timestamp": 1585801430278,
     "user": {
      "displayName": "河本紘伸",
      "photoUrl": "",
      "userId": "18373138818416241917"
     },
     "user_tz": -540
    },
    "id": "QJB4aMZWW-Au",
    "outputId": "fc9d8ad1-8885-4e52-f3f7-87c8f4d6b740"
   },
   "outputs": [
    {
     "data": {
      "image/png": "[encoded data removed]",
      "text/plain": [
       "<Figure size 432x288 with 1 Axes>"
      ]
     },
     "metadata": {
      "tags": []
     },
     "output_type": "display_data"
    }
   ],
   "source": [
    "train['SalePrice'] = np.log(train['SalePrice'])\n",
    "\n",
    "ax = sns.distplot(train['SalePrice'])\n",
    "plt.show()"
   ]
  },
  {
   "cell_type": "code",
   "execution_count": 0,
   "metadata": {
    "colab": {},
    "colab_type": "code",
    "id": "-mGH73lH4Wjr"
   },
   "outputs": [],
   "source": []
  },
  {
   "cell_type": "code",
   "execution_count": 0,
   "metadata": {
    "colab": {
     "base_uri": "https://localhost:8080/",
     "height": 35
    },
    "colab_type": "code",
    "executionInfo": {
     "elapsed": 7037,
     "status": "ok",
     "timestamp": 1585801430279,
     "user": {
      "displayName": "河本紘伸",
      "photoUrl": "",
      "userId": "18373138818416241917"
     },
     "user_tz": -540
    },
    "id": "2DPHNwws901T",
    "outputId": "3a3735bb-ebdf-4985-8259-38fe0b31c0f4"
   },
   "outputs": [
    {
     "data": {
      "text/plain": [
       "391188"
      ]
     },
     "execution_count": 40,
     "metadata": {
      "tags": []
     },
     "output_type": "execute_result"
    }
   ],
   "source": [
    "len(train[\"Area\"])+len(test[\"Area\"])"
   ]
  },
  {
   "cell_type": "code",
   "execution_count": 0,
   "metadata": {
    "colab": {
     "base_uri": "https://localhost:8080/",
     "height": 545
    },
    "colab_type": "code",
    "executionInfo": {
     "elapsed": 7035,
     "status": "ok",
     "timestamp": 1585801430280,
     "user": {
      "displayName": "河本紘伸",
      "photoUrl": "",
      "userId": "18373138818416241917"
     },
     "user_tz": -540
    },
    "id": "KoGKncJJ222v",
    "outputId": "24c9f755-1ebc-4f0b-c7b4-d0e5ac236a92"
   },
   "outputs": [
    {
     "data": {
      "text/plain": [
       "id                        int64\n",
       "Type                     object\n",
       "Region                   object\n",
       "MunicipalityCode          int64\n",
       "Prefecture               object\n",
       "Municipality             object\n",
       "DistrictName             object\n",
       "NearestStation           object\n",
       "TimeToNearestStation     object\n",
       "FloorPlan                object\n",
       "Area                     object\n",
       "LandShape                object\n",
       "Frontage                 object\n",
       "TotalFloorArea           object\n",
       "BuildingYear             object\n",
       "Structure                object\n",
       "Use                      object\n",
       "Purpose                  object\n",
       "Direction                object\n",
       "Classification           object\n",
       "Breadth                 float64\n",
       "CityPlanning             object\n",
       "CoverageRatio           float64\n",
       "FloorAreaRatio          float64\n",
       "Period                   object\n",
       "Renovation               object\n",
       "Remarks                  object\n",
       "SalePrice               float64\n",
       "dtype: object"
      ]
     },
     "execution_count": 41,
     "metadata": {
      "tags": []
     },
     "output_type": "execute_result"
    }
   ],
   "source": [
    "train.dtypes"
   ]
  },
  {
   "cell_type": "code",
   "execution_count": 0,
   "metadata": {
    "colab": {
     "base_uri": "https://localhost:8080/",
     "height": 290
    },
    "colab_type": "code",
    "executionInfo": {
     "elapsed": 7034,
     "status": "ok",
     "timestamp": 1585801430281,
     "user": {
      "displayName": "河本紘伸",
      "photoUrl": "",
      "userId": "18373138818416241917"
     },
     "user_tz": -540
    },
    "id": "mVkHDnAG222x",
    "outputId": "bd4c83af-3e18-4e76-ffd7-fca1a5c2f37a"
   },
   "outputs": [
    {
     "data": {
      "text/plain": [
       "array([nan, '330', '460', '250', '500', '1200', '830', '55', '2000㎡以上',\n",
       "       '400', '950', '870', '145', '1100', '195', '670', '310', '210',\n",
       "       '120', '1600', '610', '1000', '240', '580', '800', '600', '280',\n",
       "       '900', '200', '570', '380', '620', '270', '75', '1800', '370',\n",
       "       '70', '125', '230', '560', '60', '260', '185', '430', '85', '470',\n",
       "       '530', '640', '80', '920', '320', '290', '180', '410', '1300',\n",
       "       '115', '350', '440', '300', '100', '590', '140', '980', '155',\n",
       "       '540', '390', '420', '1900', '840', '105', '550', '490', '110',\n",
       "       '480', '940', '750', '135', '760', '1400', '930', '880', '970',\n",
       "       '630', '1700', '170', '690', '340', '820', '990', '220', '890',\n",
       "       '770', '95', '160', '65', '175', '710', '650', '810', '150', '520',\n",
       "       '130', '1500', '360', '90', '450', '510', '740', '40', '50', '45',\n",
       "       '165', '660', '190', '680', '780', '960', '860', '910', '35', '30',\n",
       "       '700', '720', '790', '10', '25', '850', '730', '15', '20',\n",
       "       '10m^2未満'], dtype=object)"
      ]
     },
     "execution_count": 42,
     "metadata": {
      "tags": []
     },
     "output_type": "execute_result"
    }
   ],
   "source": [
    "train[\"TotalFloorArea\"].unique()"
   ]
  },
  {
   "cell_type": "code",
   "execution_count": 0,
   "metadata": {
    "colab": {},
    "colab_type": "code",
    "id": "fbUTemvf222z"
   },
   "outputs": [],
   "source": [
    "train[\"TotalFloorArea\"] = train[\"TotalFloorArea\"].str.replace(\"2000㎡以上\", \"2000\")\n",
    "train[\"TotalFloorArea\"] = train[\"TotalFloorArea\"].str.replace('10m^2未満', \"8\", regex=False)"
   ]
  },
  {
   "cell_type": "code",
   "execution_count": 0,
   "metadata": {
    "colab": {},
    "colab_type": "code",
    "id": "JGVinueK426S"
   },
   "outputs": [],
   "source": [
    "test[\"TotalFloorArea\"] = test[\"TotalFloorArea\"].str.replace(\"2000㎡以上\", \"2000\")\n",
    "test[\"TotalFloorArea\"] = test[\"TotalFloorArea\"].str.replace('10m^2未満', \"8\", regex=False)"
   ]
  },
  {
   "cell_type": "code",
   "execution_count": 0,
   "metadata": {
    "colab": {
     "base_uri": "https://localhost:8080/",
     "height": 297
    },
    "colab_type": "code",
    "executionInfo": {
     "elapsed": 7600,
     "status": "ok",
     "timestamp": 1585801430854,
     "user": {
      "displayName": "河本紘伸",
      "photoUrl": "",
      "userId": "18373138818416241917"
     },
     "user_tz": -540
    },
    "id": "std3PElb2221",
    "outputId": "85a923bb-c860-4ffe-aef5-ccfb90b75a85",
    "scrolled": false
   },
   "outputs": [
    {
     "data": {
      "text/plain": [
       "Text(0, 0.5, 'SalePrice')"
      ]
     },
     "execution_count": 45,
     "metadata": {
      "tags": []
     },
     "output_type": "execute_result"
    },
    {
     "data": {
      "image/png": "[encoded data removed]",
      "text/plain": [
       "<Figure size 432x288 with 1 Axes>"
      ]
     },
     "metadata": {
      "tags": []
     },
     "output_type": "display_data"
    }
   ],
   "source": [
    "plt.figure\n",
    "plt.scatter(train[\"TotalFloorArea\"],train[\"SalePrice\"])\n",
    "plt.xlabel(\"TotalFloorArea\")\n",
    "plt.ylabel(\"SalePrice\")"
   ]
  },
  {
   "cell_type": "code",
   "execution_count": 0,
   "metadata": {
    "colab": {},
    "colab_type": "code",
    "id": "I_QJyFX02224"
   },
   "outputs": [],
   "source": [
    "train['TotalFloorArea'] = pd.to_numeric(train[\"TotalFloorArea\"])"
   ]
  },
  {
   "cell_type": "code",
   "execution_count": 0,
   "metadata": {
    "colab": {},
    "colab_type": "code",
    "id": "oEk9-rVIIUR9"
   },
   "outputs": [],
   "source": [
    "test['TotalFloorArea'] = pd.to_numeric(test[\"TotalFloorArea\"])"
   ]
  },
  {
   "cell_type": "code",
   "execution_count": 0,
   "metadata": {
    "colab": {
     "base_uri": "https://localhost:8080/",
     "height": 297
    },
    "colab_type": "code",
    "executionInfo": {
     "elapsed": 8445,
     "status": "ok",
     "timestamp": 1585801431705,
     "user": {
      "displayName": "河本紘伸",
      "photoUrl": "",
      "userId": "18373138818416241917"
     },
     "user_tz": -540
    },
    "id": "wN2d5mft2226",
    "outputId": "0230774f-452f-43d8-d027-c91410ce4f5f"
   },
   "outputs": [
    {
     "data": {
      "text/plain": [
       "Text(0, 0.5, 'SalePrice')"
      ]
     },
     "execution_count": 48,
     "metadata": {
      "tags": []
     },
     "output_type": "execute_result"
    },
    {
     "data": {
      "image/png": "[encoded data removed]",
      "text/plain": [
       "<Figure size 432x288 with 1 Axes>"
      ]
     },
     "metadata": {
      "tags": []
     },
     "output_type": "display_data"
    }
   ],
   "source": [
    "train = train.drop(train[(train['TotalFloorArea']<=500) & (train['SalePrice']<-5.0)].index)\n",
    "\n",
    "#物件の広さと物件価格の散布図を作成\n",
    "plt.figure\n",
    "plt.scatter(train[\"TotalFloorArea\"],train[\"SalePrice\"])\n",
    "plt.xlabel(\"TotalFloorArea\")\n",
    "plt.ylabel(\"SalePrice\")"
   ]
  },
  {
   "cell_type": "code",
   "execution_count": 0,
   "metadata": {
    "colab": {
     "base_uri": "https://localhost:8080/",
     "height": 35
    },
    "colab_type": "code",
    "executionInfo": {
     "elapsed": 8443,
     "status": "ok",
     "timestamp": 1585801431705,
     "user": {
      "displayName": "河本紘伸",
      "photoUrl": "",
      "userId": "18373138818416241917"
     },
     "user_tz": -540
    },
    "id": "JDThtODm-QsA",
    "outputId": "e46000c1-46d8-4245-fff1-f939af50acc2"
   },
   "outputs": [
    {
     "data": {
      "text/plain": [
       "391185"
      ]
     },
     "execution_count": 49,
     "metadata": {
      "tags": []
     },
     "output_type": "execute_result"
    }
   ],
   "source": [
    "len(train[\"Area\"])+len(test[\"Area\"])"
   ]
  },
  {
   "cell_type": "code",
   "execution_count": 0,
   "metadata": {
    "colab": {},
    "colab_type": "code",
    "id": "RhS4Ig0vrSJw"
   },
   "outputs": [],
   "source": []
  },
  {
   "cell_type": "code",
   "execution_count": 0,
   "metadata": {
    "colab": {},
    "colab_type": "code",
    "id": "s9JlupmwrSDp"
   },
   "outputs": [],
   "source": [
    "all_data = pd.concat([train, test],ignore_index = True)"
   ]
  },
  {
   "cell_type": "code",
   "execution_count": 0,
   "metadata": {
    "colab": {
     "base_uri": "https://localhost:8080/",
     "height": 545
    },
    "colab_type": "code",
    "executionInfo": {
     "elapsed": 8839,
     "status": "ok",
     "timestamp": 1585801432109,
     "user": {
      "displayName": "河本紘伸",
      "photoUrl": "",
      "userId": "18373138818416241917"
     },
     "user_tz": -540
    },
    "id": "MwEfYGHvrSAq",
    "outputId": "6f10498f-3e95-49fb-d114-1016935cfea1"
   },
   "outputs": [
    {
     "data": {
      "text/plain": [
       "id                           0\n",
       "Type                         0\n",
       "Region                  176849\n",
       "MunicipalityCode             0\n",
       "Prefecture                   0\n",
       "Municipality                 0\n",
       "DistrictName               246\n",
       "NearestStation            1688\n",
       "TimeToNearestStation     10290\n",
       "FloorPlan               220758\n",
       "Area                         0\n",
       "LandShape               177248\n",
       "Frontage                195030\n",
       "TotalFloorArea          259647\n",
       "BuildingYear             89505\n",
       "Structure                85466\n",
       "Use                      93195\n",
       "Purpose                 247718\n",
       "Direction               177273\n",
       "Classification          179639\n",
       "Breadth                 180831\n",
       "CityPlanning              3726\n",
       "CoverageRatio             5771\n",
       "FloorAreaRatio            5771\n",
       "Period                       0\n",
       "Renovation              231835\n",
       "Remarks                 360548\n",
       "SalePrice                34844\n",
       "dtype: int64"
      ]
     },
     "execution_count": 51,
     "metadata": {
      "tags": []
     },
     "output_type": "execute_result"
    }
   ],
   "source": [
    "all_data.isnull().sum()"
   ]
  },
  {
   "cell_type": "code",
   "execution_count": 0,
   "metadata": {
    "colab": {},
    "colab_type": "code",
    "id": "L-mnhkGQrR82"
   },
   "outputs": [],
   "source": []
  },
  {
   "cell_type": "code",
   "execution_count": 0,
   "metadata": {
    "colab": {
     "base_uri": "https://localhost:8080/",
     "height": 35
    },
    "colab_type": "code",
    "executionInfo": {
     "elapsed": 8835,
     "status": "ok",
     "timestamp": 1585801432110,
     "user": {
      "displayName": "河本紘伸",
      "photoUrl": "",
      "userId": "18373138818416241917"
     },
     "user_tz": -540
    },
    "id": "MNIoX2GVaVHS",
    "outputId": "59776ced-eee9-4b4a-8f1b-6a3b81f9df5c"
   },
   "outputs": [
    {
     "data": {
      "text/plain": [
       "'昭和59年'"
      ]
     },
     "execution_count": 52,
     "metadata": {
      "tags": []
     },
     "output_type": "execute_result"
    }
   ],
   "source": [
    "all_data[\"BuildingYear\"][0]"
   ]
  },
  {
   "cell_type": "code",
   "execution_count": 0,
   "metadata": {
    "colab": {
     "base_uri": "https://localhost:8080/",
     "height": 181
    },
    "colab_type": "code",
    "executionInfo": {
     "elapsed": 8833,
     "status": "ok",
     "timestamp": 1585801432110,
     "user": {
      "displayName": "河本紘伸",
      "photoUrl": "",
      "userId": "18373138818416241917"
     },
     "user_tz": -540
    },
    "id": "fZQpHE_R2229",
    "outputId": "40c94377-507a-46d7-ea8a-5d49cf3754b6",
    "scrolled": true
   },
   "outputs": [
    {
     "name": "stdout",
     "output_type": "stream",
     "text": [
      "['昭和59年' '平成15年' '平成24年' '昭和61年' '平成11年' '昭和60年' '平成19年' '平成10年' nan\n",
      " '昭和57年' '昭和45年' '昭和47年' '昭和43年' '昭和64年' '平成25年' '平成16年' '平成9年' '平成5年'\n",
      " '昭和51年' '平成13年' '昭和52年' '昭和55年' '昭和54年' '平成2年' '平成21年' '平成22年' '平成18年'\n",
      " '平成14年' '平成6年' '平成17年' '昭和62年' '平成12年' '昭和38年' '昭和41年' '昭和48年' '平成20年'\n",
      " '昭和53年' '昭和49年' '平成26年' '昭和58年' '昭和56年' '昭和35年' '昭和50年' '昭和37年' '平成23年'\n",
      " '平成7年' '平成3年' '昭和63年' '戦前' '平成29年' '昭和36年' '平成28年' '昭和39年' '平成4年' '平成27年'\n",
      " '昭和42年' '昭和31年' '平成30年' '昭和44年' '昭和29年' '平成8年' '昭和27年' '昭和46年' '昭和30年'\n",
      " '昭和33年' '昭和32年' '昭和40年' '昭和26年' '昭和34年' '昭和25年' '昭和28年' '昭和22年' '昭和24年'\n",
      " '昭和23年' '昭和21年' '平成31年']\n"
     ]
    }
   ],
   "source": [
    "print(all_data[\"BuildingYear\"].unique())"
   ]
  },
  {
   "cell_type": "code",
   "execution_count": 0,
   "metadata": {
    "colab": {
     "base_uri": "https://localhost:8080/",
     "height": 35
    },
    "colab_type": "code",
    "executionInfo": {
     "elapsed": 8831,
     "status": "ok",
     "timestamp": 1585801432111,
     "user": {
      "displayName": "河本紘伸",
      "photoUrl": "",
      "userId": "18373138818416241917"
     },
     "user_tz": -540
    },
    "id": "KSS9W-xjDJf2",
    "outputId": "bed35c8c-8065-49a2-9fd3-c979d267f940"
   },
   "outputs": [
    {
     "name": "stdout",
     "output_type": "stream",
     "text": [
      "89505\n"
     ]
    }
   ],
   "source": [
    "print(all_data[\"BuildingYear\"].isnull().sum())"
   ]
  },
  {
   "cell_type": "code",
   "execution_count": 0,
   "metadata": {
    "colab": {},
    "colab_type": "code",
    "id": "gly6sLU6222_"
   },
   "outputs": [],
   "source": [
    "all_data[\"BuildingYear\"] = all_data[\"BuildingYear\"].astype(str)"
   ]
  },
  {
   "cell_type": "code",
   "execution_count": 0,
   "metadata": {
    "colab": {},
    "colab_type": "code",
    "id": "_lBPXxAR223B"
   },
   "outputs": [],
   "source": [
    "all_data[\"BuildingYear\"] = all_data[\"BuildingYear\"].replace(\"nan\", np.nan)"
   ]
  },
  {
   "cell_type": "code",
   "execution_count": 0,
   "metadata": {
    "colab": {},
    "colab_type": "code",
    "id": "pucp5iYQ223D"
   },
   "outputs": [],
   "source": [
    "all_data[\"BuildingYear\"] = all_data[\"BuildingYear\"].str.replace(\"平成2年\", \"1990\")\n",
    "all_data[\"BuildingYear\"] = all_data[\"BuildingYear\"].str.replace(\"平成3年\", \"1991\")\n",
    "all_data[\"BuildingYear\"] = all_data[\"BuildingYear\"].str.replace(\"平成4年\", \"1992\")\n",
    "all_data[\"BuildingYear\"] = all_data[\"BuildingYear\"].str.replace(\"平成5年\", \"1993\")\n",
    "all_data[\"BuildingYear\"] = all_data[\"BuildingYear\"].str.replace(\"平成6年\", \"1994\")\n",
    "all_data[\"BuildingYear\"] = all_data[\"BuildingYear\"].str.replace(\"平成7年\", \"1995\")\n",
    "all_data[\"BuildingYear\"] = all_data[\"BuildingYear\"].str.replace(\"平成8年\", \"1996\")\n",
    "all_data[\"BuildingYear\"] = all_data[\"BuildingYear\"].str.replace(\"平成9年\", \"1997\")\n",
    "all_data[\"BuildingYear\"] = all_data[\"BuildingYear\"].str.replace(\"平成10年\", \"1998\")\n",
    "all_data[\"BuildingYear\"] = all_data[\"BuildingYear\"].str.replace(\"平成11年\", \"1999\")\n",
    "all_data[\"BuildingYear\"] = all_data[\"BuildingYear\"].str.replace(\"平成12年\", \"2000\")\n",
    "all_data[\"BuildingYear\"] = all_data[\"BuildingYear\"].str.replace(\"平成13年\", \"2001\")\n",
    "all_data[\"BuildingYear\"] = all_data[\"BuildingYear\"].str.replace(\"平成14年\", \"2002\")\n",
    "all_data[\"BuildingYear\"] = all_data[\"BuildingYear\"].str.replace(\"平成15年\", \"2003\")\n",
    "all_data[\"BuildingYear\"] = all_data[\"BuildingYear\"].str.replace(\"平成16年\", \"2004\")\n",
    "all_data[\"BuildingYear\"] = all_data[\"BuildingYear\"].str.replace(\"平成17年\", \"2005\")\n",
    "all_data[\"BuildingYear\"] = all_data[\"BuildingYear\"].str.replace(\"平成18年\", \"2006\")\n",
    "all_data[\"BuildingYear\"] = all_data[\"BuildingYear\"].str.replace(\"平成19年\", \"2007\")\n",
    "all_data[\"BuildingYear\"] = all_data[\"BuildingYear\"].str.replace(\"平成20年\", \"2008\")\n",
    "all_data[\"BuildingYear\"] = all_data[\"BuildingYear\"].str.replace(\"平成21年\", \"2009\")\n",
    "all_data[\"BuildingYear\"] = all_data[\"BuildingYear\"].str.replace(\"平成22年\", \"2010\")\n",
    "all_data[\"BuildingYear\"] = all_data[\"BuildingYear\"].str.replace(\"平成23年\", \"2011\")\n",
    "all_data[\"BuildingYear\"] = all_data[\"BuildingYear\"].str.replace(\"平成24年\", \"2012\")\n",
    "all_data[\"BuildingYear\"] = all_data[\"BuildingYear\"].str.replace(\"平成25年\", \"2013\")\n",
    "all_data[\"BuildingYear\"] = all_data[\"BuildingYear\"].str.replace(\"平成26年\", \"2014\")\n",
    "all_data[\"BuildingYear\"] = all_data[\"BuildingYear\"].str.replace(\"平成27年\", \"2015\")\n",
    "all_data[\"BuildingYear\"] = all_data[\"BuildingYear\"].str.replace(\"平成28年\", \"2016\")\n",
    "all_data[\"BuildingYear\"] = all_data[\"BuildingYear\"].str.replace(\"平成29年\", \"2017\")\n",
    "all_data[\"BuildingYear\"] = all_data[\"BuildingYear\"].str.replace(\"平成30年\", \"2018\")\n",
    "all_data[\"BuildingYear\"] = all_data[\"BuildingYear\"].str.replace(\"平成31年\", \"2019\")"
   ]
  },
  {
   "cell_type": "code",
   "execution_count": 0,
   "metadata": {
    "colab": {},
    "colab_type": "code",
    "id": "yYwWIfmj479i"
   },
   "outputs": [],
   "source": [
    "all_data[\"BuildingYear\"] = all_data[\"BuildingYear\"].str.replace(\"昭和64年\", \"1989\")\n",
    "all_data[\"BuildingYear\"] = all_data[\"BuildingYear\"].str.replace(\"昭和63年\", \"1988\")\n",
    "all_data[\"BuildingYear\"] = all_data[\"BuildingYear\"].str.replace(\"昭和62年\", \"1987\")\n",
    "all_data[\"BuildingYear\"] = all_data[\"BuildingYear\"].str.replace(\"昭和61年\", \"1986\")\n",
    "all_data[\"BuildingYear\"] = all_data[\"BuildingYear\"].str.replace(\"昭和60年\", \"1985\")\n",
    "all_data[\"BuildingYear\"] = all_data[\"BuildingYear\"].str.replace(\"昭和59年\", \"1984\")\n",
    "all_data[\"BuildingYear\"] = all_data[\"BuildingYear\"].str.replace(\"昭和58年\", \"1983\")\n",
    "all_data[\"BuildingYear\"] = all_data[\"BuildingYear\"].str.replace(\"昭和57年\", \"1982\")\n",
    "all_data[\"BuildingYear\"] = all_data[\"BuildingYear\"].str.replace(\"昭和56年\", \"1981\")\n",
    "all_data[\"BuildingYear\"] = all_data[\"BuildingYear\"].str.replace(\"昭和55年\", \"1980\")\n",
    "all_data[\"BuildingYear\"] = all_data[\"BuildingYear\"].str.replace(\"昭和54年\", \"1979\")\n",
    "all_data[\"BuildingYear\"] = all_data[\"BuildingYear\"].str.replace(\"昭和53年\", \"1978\")\n",
    "all_data[\"BuildingYear\"] = all_data[\"BuildingYear\"].str.replace(\"昭和52年\", \"1977\")\n",
    "all_data[\"BuildingYear\"] = all_data[\"BuildingYear\"].str.replace(\"昭和51年\", \"1976\")\n",
    "all_data[\"BuildingYear\"] = all_data[\"BuildingYear\"].str.replace(\"昭和50年\", \"1975\")\n",
    "all_data[\"BuildingYear\"] = all_data[\"BuildingYear\"].str.replace(\"昭和49年\", \"1974\")\n",
    "all_data[\"BuildingYear\"] = all_data[\"BuildingYear\"].str.replace(\"昭和48年\", \"1973\")\n",
    "all_data[\"BuildingYear\"] = all_data[\"BuildingYear\"].str.replace(\"昭和47年\", \"1972\")\n",
    "all_data[\"BuildingYear\"] = all_data[\"BuildingYear\"].str.replace(\"昭和46年\", \"1971\")\n",
    "all_data[\"BuildingYear\"] = all_data[\"BuildingYear\"].str.replace(\"昭和45年\", \"1970\")\n",
    "all_data[\"BuildingYear\"] = all_data[\"BuildingYear\"].str.replace(\"昭和44年\", \"1979\")\n",
    "all_data[\"BuildingYear\"] = all_data[\"BuildingYear\"].str.replace(\"昭和43年\", \"1978\")\n",
    "all_data[\"BuildingYear\"] = all_data[\"BuildingYear\"].str.replace(\"昭和42年\", \"1977\")\n",
    "all_data[\"BuildingYear\"] = all_data[\"BuildingYear\"].str.replace(\"昭和41年\", \"1976\")\n",
    "all_data[\"BuildingYear\"] = all_data[\"BuildingYear\"].str.replace(\"昭和40年\", \"1975\")\n",
    "all_data[\"BuildingYear\"] = all_data[\"BuildingYear\"].str.replace(\"昭和39年\", \"1974\")\n",
    "all_data[\"BuildingYear\"] = all_data[\"BuildingYear\"].str.replace(\"昭和38年\", \"1973\")\n",
    "all_data[\"BuildingYear\"] = all_data[\"BuildingYear\"].str.replace(\"昭和37年\", \"1972\")\n",
    "all_data[\"BuildingYear\"] = all_data[\"BuildingYear\"].str.replace(\"昭和36年\", \"1971\")\n",
    "all_data[\"BuildingYear\"] = all_data[\"BuildingYear\"].str.replace(\"昭和35年\", \"1970\")\n",
    "all_data[\"BuildingYear\"] = all_data[\"BuildingYear\"].str.replace(\"昭和34年\", \"1969\")\n",
    "all_data[\"BuildingYear\"] = all_data[\"BuildingYear\"].str.replace(\"昭和33年\", \"1968\")\n",
    "all_data[\"BuildingYear\"] = all_data[\"BuildingYear\"].str.replace(\"昭和32年\", \"1967\")\n",
    "all_data[\"BuildingYear\"] = all_data[\"BuildingYear\"].str.replace(\"昭和31年\", \"1966\")\n",
    "all_data[\"BuildingYear\"] = all_data[\"BuildingYear\"].str.replace(\"昭和30年\", \"1965\")\n",
    "all_data[\"BuildingYear\"] = all_data[\"BuildingYear\"].str.replace(\"昭和29年\", \"1964\")\n",
    "all_data[\"BuildingYear\"] = all_data[\"BuildingYear\"].str.replace(\"昭和28年\", \"1963\")\n",
    "all_data[\"BuildingYear\"] = all_data[\"BuildingYear\"].str.replace(\"昭和27年\", \"1962\")\n",
    "all_data[\"BuildingYear\"] = all_data[\"BuildingYear\"].str.replace(\"昭和26年\", \"1961\")\n",
    "all_data[\"BuildingYear\"] = all_data[\"BuildingYear\"].str.replace(\"昭和25年\", \"1960\")\n",
    "all_data[\"BuildingYear\"] = all_data[\"BuildingYear\"].str.replace(\"昭和24年\", \"1959\")\n",
    "all_data[\"BuildingYear\"] = all_data[\"BuildingYear\"].str.replace(\"昭和23年\", \"1958\")\n",
    "all_data[\"BuildingYear\"] = all_data[\"BuildingYear\"].str.replace(\"昭和22年\", \"1957\")\n",
    "all_data[\"BuildingYear\"] = all_data[\"BuildingYear\"].str.replace(\"昭和21年\", \"1956\")\n",
    "all_data[\"BuildingYear\"] = all_data[\"BuildingYear\"].str.replace(\"昭和20年\", \"1955\")\n",
    "all_data[\"BuildingYear\"] = all_data[\"BuildingYear\"].str.replace(\"昭和19年\", \"1954\")\n",
    "all_data[\"BuildingYear\"] = all_data[\"BuildingYear\"].str.replace(\"昭和18年\", \"1953\")\n",
    "all_data[\"BuildingYear\"] = all_data[\"BuildingYear\"].str.replace(\"昭和17年\", \"1952\")\n",
    "all_data[\"BuildingYear\"] = all_data[\"BuildingYear\"].str.replace(\"昭和16年\", \"1951\")\n",
    "all_data[\"BuildingYear\"] = all_data[\"BuildingYear\"].str.replace(\"昭和15年\", \"1950\")\n",
    "all_data[\"BuildingYear\"] = all_data[\"BuildingYear\"].str.replace(\"昭和14年\", \"1949\")\n",
    "all_data[\"BuildingYear\"] = all_data[\"BuildingYear\"].str.replace(\"昭和13年\", \"1948\")\n",
    "all_data[\"BuildingYear\"] = all_data[\"BuildingYear\"].str.replace(\"昭和12年\", \"1947\")\n",
    "all_data[\"BuildingYear\"] = all_data[\"BuildingYear\"].str.replace(\"昭和11年\", \"1946\")\n",
    "all_data[\"BuildingYear\"] = all_data[\"BuildingYear\"].str.replace(\"戦前\", \"1945\")"
   ]
  },
  {
   "cell_type": "code",
   "execution_count": 0,
   "metadata": {
    "colab": {
     "base_uri": "https://localhost:8080/",
     "height": 35
    },
    "colab_type": "code",
    "executionInfo": {
     "elapsed": 26333,
     "status": "ok",
     "timestamp": 1585801449626,
     "user": {
      "displayName": "河本紘伸",
      "photoUrl": "",
      "userId": "18373138818416241917"
     },
     "user_tz": -540
    },
    "id": "QebbviSC223F",
    "outputId": "e43aeaa2-552e-4655-b85d-184a059234a9"
   },
   "outputs": [
    {
     "name": "stdout",
     "output_type": "stream",
     "text": [
      "89505\n"
     ]
    }
   ],
   "source": [
    "print(all_data[\"BuildingYear\"].isnull().sum())"
   ]
  },
  {
   "cell_type": "code",
   "execution_count": 0,
   "metadata": {
    "colab": {
     "base_uri": "https://localhost:8080/",
     "height": 145
    },
    "colab_type": "code",
    "executionInfo": {
     "elapsed": 26332,
     "status": "ok",
     "timestamp": 1585801449627,
     "user": {
      "displayName": "河本紘伸",
      "photoUrl": "",
      "userId": "18373138818416241917"
     },
     "user_tz": -540
    },
    "id": "0KQPI7QM4k9E",
    "outputId": "67dd8f71-2318-41d1-f1e8-fad41377e471"
   },
   "outputs": [
    {
     "name": "stdout",
     "output_type": "stream",
     "text": [
      "['1984' '2003' '2012' '1986' '1999' '1985' '2007' '1998' nan '1982' '1970'\n",
      " '1972' '1978' '1989' '2013' '2004' '1997' '1993' '1976' '2001' '1977'\n",
      " '1980' '1979' '1990' '2009' '2010' '2006' '2002' '1994' '2005' '1987'\n",
      " '2000' '1973' '2008' '1974' '2014' '1983' '1981' '1975' '2011' '1995'\n",
      " '1991' '1988' '1945' '2017' '1971' '2016' '1992' '2015' '1966' '2018'\n",
      " '1964' '1996' '1962' '1965' '1968' '1967' '1961' '1969' '1960' '1963'\n",
      " '1957' '1959' '1958' '1956' '2019']\n"
     ]
    }
   ],
   "source": [
    "print(all_data[\"BuildingYear\"].unique())"
   ]
  },
  {
   "cell_type": "code",
   "execution_count": 0,
   "metadata": {
    "colab": {},
    "colab_type": "code",
    "id": "Cy0H_N3q223J"
   },
   "outputs": [],
   "source": [
    "def is_int(s):\n",
    "    try:\n",
    "        int(s)\n",
    "        return True\n",
    "    except ValueError:\n",
    "        return False"
   ]
  },
  {
   "cell_type": "code",
   "execution_count": 0,
   "metadata": {
    "colab": {},
    "colab_type": "code",
    "id": "4inppgkTZJ8B"
   },
   "outputs": [],
   "source": [
    "#print(is_int(all_data[\"BuildingYear\"][10000])"
   ]
  },
  {
   "cell_type": "code",
   "execution_count": 0,
   "metadata": {
    "colab": {},
    "colab_type": "code",
    "id": "7Okres_yV3XK"
   },
   "outputs": [],
   "source": [
    "#try:\n",
    "#  all_data[\"BuildingYear\"] = all_data[\"BuildingYear\"].astype(int)\n",
    "#except ValueError:\n",
    "#  pass"
   ]
  },
  {
   "cell_type": "code",
   "execution_count": 0,
   "metadata": {
    "colab": {
     "base_uri": "https://localhost:8080/",
     "height": 35
    },
    "colab_type": "code",
    "executionInfo": {
     "elapsed": 26297,
     "status": "ok",
     "timestamp": 1585801449628,
     "user": {
      "displayName": "河本紘伸",
      "photoUrl": "",
      "userId": "18373138818416241917"
     },
     "user_tz": -540
    },
    "id": "tIpedVCgqyNk",
    "outputId": "6a85edb0-e63d-4672-b36a-505a52371fa2"
   },
   "outputs": [
    {
     "data": {
      "text/plain": [
       "dtype('O')"
      ]
     },
     "execution_count": 64,
     "metadata": {
      "tags": []
     },
     "output_type": "execute_result"
    }
   ],
   "source": [
    "all_data[\"BuildingYear\"].dtypes"
   ]
  },
  {
   "cell_type": "code",
   "execution_count": 0,
   "metadata": {
    "colab": {
     "base_uri": "https://localhost:8080/",
     "height": 181
    },
    "colab_type": "code",
    "executionInfo": {
     "elapsed": 26295,
     "status": "ok",
     "timestamp": 1585801449629,
     "user": {
      "displayName": "河本紘伸",
      "photoUrl": "",
      "userId": "18373138818416241917"
     },
     "user_tz": -540
    },
    "id": "eM_HULHQnNXU",
    "outputId": "3ecc36ec-6822-4a40-b586-555f7e983225"
   },
   "outputs": [
    {
     "data": {
      "text/plain": [
       "array(['1984', '2003', '2012', '1986', '1999', '1985', '2007', '1998',\n",
       "       nan, '1982', '1970', '1972', '1978', '1989', '2013', '2004',\n",
       "       '1997', '1993', '1976', '2001', '1977', '1980', '1979', '1990',\n",
       "       '2009', '2010', '2006', '2002', '1994', '2005', '1987', '2000',\n",
       "       '1973', '2008', '1974', '2014', '1983', '1981', '1975', '2011',\n",
       "       '1995', '1991', '1988', '1945', '2017', '1971', '2016', '1992',\n",
       "       '2015', '1966', '2018', '1964', '1996', '1962', '1965', '1968',\n",
       "       '1967', '1961', '1969', '1960', '1963', '1957', '1959', '1958',\n",
       "       '1956', '2019'], dtype=object)"
      ]
     },
     "execution_count": 65,
     "metadata": {
      "tags": []
     },
     "output_type": "execute_result"
    }
   ],
   "source": [
    "all_data[\"BuildingYear\"].unique()"
   ]
  },
  {
   "cell_type": "code",
   "execution_count": 0,
   "metadata": {
    "colab": {},
    "colab_type": "code",
    "id": "N5O9uIXTo3WZ"
   },
   "outputs": [],
   "source": [
    "all_data[\"BuildingYear\"] =  pd.to_numeric(all_data[\"BuildingYear\"],downcast='signed')"
   ]
  },
  {
   "cell_type": "code",
   "execution_count": 0,
   "metadata": {
    "colab": {},
    "colab_type": "code",
    "id": "atO0N_ykrGsV"
   },
   "outputs": [],
   "source": []
  },
  {
   "cell_type": "code",
   "execution_count": 0,
   "metadata": {
    "colab": {
     "base_uri": "https://localhost:8080/",
     "height": 235
    },
    "colab_type": "code",
    "executionInfo": {
     "elapsed": 26784,
     "status": "ok",
     "timestamp": 1585801450156,
     "user": {
      "displayName": "河本紘伸",
      "photoUrl": "",
      "userId": "18373138818416241917"
     },
     "user_tz": -540
    },
    "id": "F94zbEPnSwXn",
    "outputId": "9269b166-1cf1-4e66-bc8b-0bfc418d23ed"
   },
   "outputs": [
    {
     "name": "stdout",
     "output_type": "stream",
     "text": [
      "0         1984.0\n",
      "1         2003.0\n",
      "2         2012.0\n",
      "3         2003.0\n",
      "4         1986.0\n",
      "           ...  \n",
      "391180       NaN\n",
      "391181       NaN\n",
      "391182       NaN\n",
      "391183       NaN\n",
      "391184       NaN\n",
      "Name: BuildingYear, Length: 391185, dtype: float64\n"
     ]
    }
   ],
   "source": [
    "print(all_data[\"BuildingYear\"])"
   ]
  },
  {
   "cell_type": "code",
   "execution_count": 0,
   "metadata": {
    "colab": {},
    "colab_type": "code",
    "id": "ihG0L7q0cDqD"
   },
   "outputs": [],
   "source": []
  },
  {
   "cell_type": "code",
   "execution_count": 0,
   "metadata": {
    "colab": {
     "base_uri": "https://localhost:8080/",
     "height": 35
    },
    "colab_type": "code",
    "executionInfo": {
     "elapsed": 26781,
     "status": "ok",
     "timestamp": 1585801450156,
     "user": {
      "displayName": "河本紘伸",
      "photoUrl": "",
      "userId": "18373138818416241917"
     },
     "user_tz": -540
    },
    "id": "Qj9Rj2h5zKiW",
    "outputId": "b582df5a-d7a7-4db6-f16f-cebbbc109755"
   },
   "outputs": [
    {
     "data": {
      "text/plain": [
       "0"
      ]
     },
     "execution_count": 68,
     "metadata": {
      "tags": []
     },
     "output_type": "execute_result"
    }
   ],
   "source": [
    "all_data[\"Period\"].isnull().sum()"
   ]
  },
  {
   "cell_type": "code",
   "execution_count": 0,
   "metadata": {
    "colab": {
     "base_uri": "https://localhost:8080/",
     "height": 235
    },
    "colab_type": "code",
    "executionInfo": {
     "elapsed": 28314,
     "status": "ok",
     "timestamp": 1585801451691,
     "user": {
      "displayName": "河本紘伸",
      "photoUrl": "",
      "userId": "18373138818416241917"
     },
     "user_tz": -540
    },
    "id": "Wk97BQtD223Y",
    "outputId": "6aa6c914-1968-47e9-cb92-5c0f149dbda7"
   },
   "outputs": [
    {
     "name": "stdout",
     "output_type": "stream",
     "text": [
      "0         2017\n",
      "1         2017\n",
      "2         2017\n",
      "3         2017\n",
      "4         2017\n",
      "          ... \n",
      "391180    2018\n",
      "391181    2018\n",
      "391182    2018\n",
      "391183    2018\n",
      "391184    2018\n",
      "Name: Period, Length: 391185, dtype: object\n"
     ]
    }
   ],
   "source": [
    "all_data[\"Period\"] = all_data[\"Period\"].str.replace(\"第１四半期\", \"\")\n",
    "all_data[\"Period\"] = all_data[\"Period\"].str.replace(\"第２四半期\", \"\")\n",
    "all_data[\"Period\"] = all_data[\"Period\"].str.replace(\"第３四半期\", \"\")\n",
    "all_data[\"Period\"] = all_data[\"Period\"].str.replace(\"第４四半期\", \"\")\n",
    "all_data[\"Period\"] = all_data[\"Period\"].str.replace(\"年\", \"\")\n",
    "print(all_data[\"Period\"])"
   ]
  },
  {
   "cell_type": "code",
   "execution_count": 0,
   "metadata": {
    "colab": {},
    "colab_type": "code",
    "id": "ry7MSKqg223c"
   },
   "outputs": [],
   "source": [
    "try:\n",
    "  all_data[\"Period\"] = all_data[\"Period\"].astype(int)\n",
    "except ValueError:\n",
    "  pass"
   ]
  },
  {
   "cell_type": "code",
   "execution_count": 0,
   "metadata": {
    "colab": {
     "base_uri": "https://localhost:8080/",
     "height": 54
    },
    "colab_type": "code",
    "executionInfo": {
     "elapsed": 28299,
     "status": "ok",
     "timestamp": 1585801451692,
     "user": {
      "displayName": "河本紘伸",
      "photoUrl": "",
      "userId": "18373138818416241917"
     },
     "user_tz": -540
    },
    "id": "mCKzAauxoJGP",
    "outputId": "b81a82d8-bd9f-447b-d166-da4ee6c20dbe"
   },
   "outputs": [
    {
     "data": {
      "text/plain": [
       "array([2017, 2016, 2015, 2014, 2010, 2011, 2012, 2013, 2009, 2008, 2007,\n",
       "       2006, 2005, 2018, 2019])"
      ]
     },
     "execution_count": 71,
     "metadata": {
      "tags": []
     },
     "output_type": "execute_result"
    }
   ],
   "source": [
    "all_data[\"Period\"].unique()"
   ]
  },
  {
   "cell_type": "code",
   "execution_count": 0,
   "metadata": {
    "colab": {
     "base_uri": "https://localhost:8080/",
     "height": 35
    },
    "colab_type": "code",
    "executionInfo": {
     "elapsed": 28280,
     "status": "ok",
     "timestamp": 1585801451692,
     "user": {
      "displayName": "河本紘伸",
      "photoUrl": "",
      "userId": "18373138818416241917"
     },
     "user_tz": -540
    },
    "id": "72m7nFOEaPpE",
    "outputId": "18b702b6-de01-405a-83c9-2122aed565de"
   },
   "outputs": [
    {
     "data": {
      "text/plain": [
       "2017"
      ]
     },
     "execution_count": 72,
     "metadata": {
      "tags": []
     },
     "output_type": "execute_result"
    }
   ],
   "source": [
    "all_data[\"Period\"][0]"
   ]
  },
  {
   "cell_type": "code",
   "execution_count": 0,
   "metadata": {
    "colab": {},
    "colab_type": "code",
    "id": "n_NdE7Af223f"
   },
   "outputs": [],
   "source": []
  },
  {
   "cell_type": "code",
   "execution_count": 0,
   "metadata": {
    "colab": {},
    "colab_type": "code",
    "id": "J7hXVq63dGUO"
   },
   "outputs": [],
   "source": [
    "try:\n",
    "  all_data[\"YearBuilt\"] = all_data[\"Period\"] - all_data[\"BuildingYear\"]\n",
    "except ValueError:\n",
    "  pass"
   ]
  },
  {
   "cell_type": "code",
   "execution_count": 0,
   "metadata": {
    "colab": {
     "base_uri": "https://localhost:8080/",
     "height": 126
    },
    "colab_type": "code",
    "executionInfo": {
     "elapsed": 28261,
     "status": "ok",
     "timestamp": 1585801451693,
     "user": {
      "displayName": "河本紘伸",
      "photoUrl": "",
      "userId": "18373138818416241917"
     },
     "user_tz": -540
    },
    "id": "-opAy5lXrOHY",
    "outputId": "8c74e822-2fe5-4cf5-b655-9f4d2bfdd5d1"
   },
   "outputs": [
    {
     "data": {
      "text/plain": [
       "array([33., 14.,  5., 31., 18., 32., 10.,  9., nan, 34., 46., 43., 37.,\n",
       "       16.,  8., 26., 30.,  2., 11.,  7., 13., 12., 23.,  4., 41., 45.,\n",
       "       40., 47., 15., 17., 25.,  6.,  3., 35., 42., 38., 44., 20., 28.,\n",
       "       39.,  1., 36., 22., 27., 24., 21., 71., 29.,  0., 19., 48., -1.,\n",
       "       50., 52., 49., 51., 56., 57., -2., 54., 53., 72., 69., 60., 55.,\n",
       "       70., 59., 58., 65., 67., 61., 64., 63., 62., 66., 68., 73., 74.])"
      ]
     },
     "execution_count": 74,
     "metadata": {
      "tags": []
     },
     "output_type": "execute_result"
    }
   ],
   "source": [
    "all_data[\"YearBuilt\"].unique()"
   ]
  },
  {
   "cell_type": "code",
   "execution_count": 0,
   "metadata": {
    "colab": {
     "base_uri": "https://localhost:8080/",
     "height": 54
    },
    "colab_type": "code",
    "executionInfo": {
     "elapsed": 28250,
     "status": "ok",
     "timestamp": 1585801451694,
     "user": {
      "displayName": "河本紘伸",
      "photoUrl": "",
      "userId": "18373138818416241917"
     },
     "user_tz": -540
    },
    "id": "h_N-EhxeRwx5",
    "outputId": "ca31d199-9248-4b55-a08d-4992476f3b5e"
   },
   "outputs": [
    {
     "name": "stdout",
     "output_type": "stream",
     "text": [
      "2017\n",
      "1984.0\n"
     ]
    }
   ],
   "source": [
    "print(all_data[\"Period\"][0])\n",
    "print(all_data[\"BuildingYear\"][0])"
   ]
  },
  {
   "cell_type": "code",
   "execution_count": 0,
   "metadata": {
    "colab": {
     "base_uri": "https://localhost:8080/",
     "height": 35
    },
    "colab_type": "code",
    "executionInfo": {
     "elapsed": 28237,
     "status": "ok",
     "timestamp": 1585801451694,
     "user": {
      "displayName": "河本紘伸",
      "photoUrl": "",
      "userId": "18373138818416241917"
     },
     "user_tz": -540
    },
    "id": "O9stLqjfQpwC",
    "outputId": "c6ff1d23-aa1b-46d6-d25e-e7d664014abd"
   },
   "outputs": [
    {
     "data": {
      "text/plain": [
       "33.0"
      ]
     },
     "execution_count": 76,
     "metadata": {
      "tags": []
     },
     "output_type": "execute_result"
    }
   ],
   "source": [
    "all_data[\"YearBuilt\"][0]"
   ]
  },
  {
   "cell_type": "code",
   "execution_count": 0,
   "metadata": {
    "colab": {
     "base_uri": "https://localhost:8080/",
     "height": 35
    },
    "colab_type": "code",
    "executionInfo": {
     "elapsed": 33770,
     "status": "ok",
     "timestamp": 1585801457229,
     "user": {
      "displayName": "河本紘伸",
      "photoUrl": "",
      "userId": "18373138818416241917"
     },
     "user_tz": -540
    },
    "id": "RNRQiQ6odGNW",
    "outputId": "65cd41b8-d1ee-4d88-fb7b-2e208bab3576"
   },
   "outputs": [
    {
     "name": "stdout",
     "output_type": "stream",
     "text": [
      "3934\n"
     ]
    }
   ],
   "source": [
    "num = 0\n",
    "for i in range(len(all_data[\"YearBuilt\"])):\n",
    "  if all_data[\"YearBuilt\"][i] < 0:\n",
    "    num +=1\n",
    "print(num)"
   ]
  },
  {
   "cell_type": "code",
   "execution_count": 0,
   "metadata": {
    "colab": {},
    "colab_type": "code",
    "id": "P-OXbaT1rD7E"
   },
   "outputs": [],
   "source": [
    "train = all_data.iloc[:train.shape[0],:]\n",
    "test = all_data.iloc[train.shape[0]:,:]"
   ]
  },
  {
   "cell_type": "code",
   "execution_count": 0,
   "metadata": {
    "colab": {
     "base_uri": "https://localhost:8080/",
     "height": 35
    },
    "colab_type": "code",
    "executionInfo": {
     "elapsed": 33755,
     "status": "ok",
     "timestamp": 1585801457230,
     "user": {
      "displayName": "河本紘伸",
      "photoUrl": "",
      "userId": "18373138818416241917"
     },
     "user_tz": -540
    },
    "id": "RNVZuFk5Qdgz",
    "outputId": "336e4f9d-08e7-419d-aa50-2aaca66f08f0"
   },
   "outputs": [
    {
     "data": {
      "text/plain": [
       "356341"
      ]
     },
     "execution_count": 79,
     "metadata": {
      "tags": []
     },
     "output_type": "execute_result"
    }
   ],
   "source": [
    "train.shape[0]"
   ]
  },
  {
   "cell_type": "code",
   "execution_count": 0,
   "metadata": {
    "colab": {
     "base_uri": "https://localhost:8080/",
     "height": 636
    },
    "colab_type": "code",
    "executionInfo": {
     "elapsed": 35622,
     "status": "ok",
     "timestamp": 1585801459098,
     "user": {
      "displayName": "河本紘伸",
      "photoUrl": "",
      "userId": "18373138818416241917"
     },
     "user_tz": -540
    },
    "id": "VQ-eoUdXZaFa",
    "outputId": "d14f2353-5c90-47ae-b3be-d3fd8a148a1f"
   },
   "outputs": [
    {
     "data": {
      "text/plain": [
       "<matplotlib.axes._subplots.AxesSubplot at 0x7f70cdb97470>"
      ]
     },
     "execution_count": 80,
     "metadata": {
      "tags": []
     },
     "output_type": "execute_result"
    },
    {
     "data": {
      "image/png": "[encoded data removed]",
      "text/plain": [
       "<Figure size 1440x720 with 1 Axes>"
      ]
     },
     "metadata": {
      "tags": []
     },
     "output_type": "display_data"
    }
   ],
   "source": [
    "data = pd.concat([train[\"YearBuilt\"],train[\"SalePrice\"]],axis=1)\n",
    "\n",
    "plt.figure(figsize=(20, 10))\n",
    "plt.xticks(rotation='90')\n",
    "sns.boxplot(x=\"YearBuilt\",y=\"SalePrice\",data=data)"
   ]
  },
  {
   "cell_type": "code",
   "execution_count": 0,
   "metadata": {
    "colab": {
     "base_uri": "https://localhost:8080/",
     "height": 636
    },
    "colab_type": "code",
    "executionInfo": {
     "elapsed": 37475,
     "status": "ok",
     "timestamp": 1585801460954,
     "user": {
      "displayName": "河本紘伸",
      "photoUrl": "",
      "userId": "18373138818416241917"
     },
     "user_tz": -540
    },
    "id": "I07HkTMXZZ9X",
    "outputId": "4bb63658-20c5-4e7a-bad7-f435426a1a5d"
   },
   "outputs": [
    {
     "data": {
      "text/plain": [
       "<matplotlib.axes._subplots.AxesSubplot at 0x7f70cdb971d0>"
      ]
     },
     "execution_count": 81,
     "metadata": {
      "tags": []
     },
     "output_type": "execute_result"
    },
    {
     "data": {
      "image/png": "[encoded data removed]",
      "text/plain": [
       "<Figure size 1440x720 with 1 Axes>"
      ]
     },
     "metadata": {
      "tags": []
     },
     "output_type": "display_data"
    }
   ],
   "source": [
    "train = train.drop(train[(train['YearBuilt']<50) & (train['SalePrice']<-2.5)].index)\n",
    "train = train.drop(train[(train['YearBuilt']<50) & (train['SalePrice']>10)].index)\n",
    "\n",
    "data = pd.concat([train[\"YearBuilt\"],train[\"SalePrice\"]],axis=1)\n",
    "\n",
    "plt.figure(figsize=(20, 10))\n",
    "plt.xticks(rotation='90')\n",
    "sns.boxplot(x=\"YearBuilt\",y=\"SalePrice\",data=data)"
   ]
  },
  {
   "cell_type": "code",
   "execution_count": 0,
   "metadata": {
    "colab": {
     "base_uri": "https://localhost:8080/",
     "height": 35
    },
    "colab_type": "code",
    "executionInfo": {
     "elapsed": 37460,
     "status": "ok",
     "timestamp": 1585801460954,
     "user": {
      "displayName": "河本紘伸",
      "photoUrl": "",
      "userId": "18373138818416241917"
     },
     "user_tz": -540
    },
    "id": "uaZOuOIEZZ2p",
    "outputId": "c4319691-f1a4-4652-8f72-4c81c3165bef"
   },
   "outputs": [
    {
     "data": {
      "text/plain": [
       "391175"
      ]
     },
     "execution_count": 82,
     "metadata": {
      "tags": []
     },
     "output_type": "execute_result"
    }
   ],
   "source": [
    "len(train[\"Area\"])+len(test[\"Area\"])"
   ]
  },
  {
   "cell_type": "markdown",
   "metadata": {
    "colab_type": "text",
    "id": "4wQNuahyZZha"
   },
   "source": []
  },
  {
   "cell_type": "code",
   "execution_count": 0,
   "metadata": {
    "colab": {
     "base_uri": "https://localhost:8080/",
     "height": 35
    },
    "colab_type": "code",
    "executionInfo": {
     "elapsed": 37459,
     "status": "ok",
     "timestamp": 1585801460955,
     "user": {
      "displayName": "河本紘伸",
      "photoUrl": "",
      "userId": "18373138818416241917"
     },
     "user_tz": -540
    },
    "id": "KuRTHjBb223j",
    "outputId": "bb1c2f3c-f611-42fe-ea47-5683ea05f8c7"
   },
   "outputs": [
    {
     "name": "stdout",
     "output_type": "stream",
     "text": [
      "328199\n"
     ]
    }
   ],
   "source": [
    "print(train[\"Remarks\"].isnull().sum())"
   ]
  },
  {
   "cell_type": "code",
   "execution_count": 0,
   "metadata": {
    "colab": {
     "base_uri": "https://localhost:8080/",
     "height": 54
    },
    "colab_type": "code",
    "executionInfo": {
     "elapsed": 37445,
     "status": "ok",
     "timestamp": 1585801460955,
     "user": {
      "displayName": "河本紘伸",
      "photoUrl": "",
      "userId": "18373138818416241917"
     },
     "user_tz": -540
    },
    "id": "IluoqsXX223m",
    "outputId": "7e3600d4-2715-4862-96bf-15af438286a8"
   },
   "outputs": [
    {
     "name": "stdout",
     "output_type": "stream",
     "text": [
      "[nan '隣地の購入' '私道を含む取引' '調停・競売等' '関係者間取引' '隣地の購入、私道を含む取引' '調停・競売等、私道を含む取引'\n",
      " '関係者間取引、私道を含む取引' '他の権利・負担付き' '瑕疵有りの可能性' 'その他事情有り' '隣地の購入、調停・競売等']\n"
     ]
    }
   ],
   "source": [
    "print(test[\"Remarks\"].unique())"
   ]
  },
  {
   "cell_type": "code",
   "execution_count": 0,
   "metadata": {
    "colab": {
     "base_uri": "https://localhost:8080/",
     "height": 145
    },
    "colab_type": "code",
    "executionInfo": {
     "elapsed": 37443,
     "status": "ok",
     "timestamp": 1585801460955,
     "user": {
      "displayName": "河本紘伸",
      "photoUrl": "",
      "userId": "18373138818416241917"
     },
     "user_tz": -540
    },
    "id": "Z9aK0FIe223o",
    "outputId": "3b5d6a7c-c5f7-4ca2-b3f0-4c2dd8f07a3c"
   },
   "outputs": [
    {
     "name": "stdout",
     "output_type": "stream",
     "text": [
      "[nan '私道を含む取引' '隣地の購入' '関係者間取引' '調停・競売等' '隣地の購入、私道を含む取引'\n",
      " '隣地の購入、関係者間取引、私道を含む取引' '関係者間取引、私道を含む取引' 'その他事情有り' '調停・競売等、私道を含む取引'\n",
      " '瑕疵有りの可能性' '古屋付き・取壊し前提' '隣地の購入、関係者間取引' '私道を含む取引、その他事情有り' '他の権利・負担付き'\n",
      " '隣地の購入、その他事情有り' '瑕疵有りの可能性、私道を含む取引' '隣地の購入、調停・競売等、私道を含む取引'\n",
      " '古屋付き・取壊し前提、私道を含む取引' '他の権利・負担付き、私道を含む取引' '関係者間取引、調停・競売等、私道を含む取引'\n",
      " '他の権利・負担付き、調停・競売等' '調停・競売等、その他事情有り' '古屋付き・取壊し前提、瑕疵有りの可能性'\n",
      " '隣地の購入、瑕疵有りの可能性' '隣地の購入、調停・競売等']\n"
     ]
    }
   ],
   "source": [
    "print(train[\"Remarks\"].unique())"
   ]
  },
  {
   "cell_type": "code",
   "execution_count": 0,
   "metadata": {
    "colab": {},
    "colab_type": "code",
    "id": "K-AEcB_8223q"
   },
   "outputs": [],
   "source": [
    "train[\"Remarks\"] = train[\"Remarks\"].str.replace('、',\"\")\n",
    "train[\"Remarks\"] = train[\"Remarks\"].str.replace('私道を含む取引',\"-1\")\n",
    "train[\"Remarks\"] = train[\"Remarks\"].str.replace('隣地の購入', \"1\")\n",
    "train[\"Remarks\"] = train[\"Remarks\"].str.replace('関係者間取引', \"-1\")\n",
    "train[\"Remarks\"] = train[\"Remarks\"].str.replace('調停・競売等', \"-1\")\n",
    "#train[\"Remarks\"] = train[\"Remarks\"].str.replace('隣地の購入、私道を含む取引', \"0\")\n",
    "#train[\"Remarks\"] = train[\"Remarks\"].str.replace('隣地の購入、関係者間取引、私道を含む取引', \"-1\")\n",
    "#train[\"Remarks\"] = train[\"Remarks\"].str.replace('関係者間取引、私道を含む取引', \"-2\")\n",
    "train[\"Remarks\"] = train[\"Remarks\"].str.replace('その他事情有り', \"-1\")\n",
    "#train[\"Remarks\"] = train[\"Remarks\"].str.replace('調停・競売等、私道を含む取引', \"-2\")\n",
    "train[\"Remarks\"] = train[\"Remarks\"].str.replace('瑕疵有りの可能性', \"-1\")\n",
    "train[\"Remarks\"] = train[\"Remarks\"].str.replace('古屋付き・取壊し前提', \"-1\")\n",
    "#train[\"Remarks\"] = train[\"Remarks\"].str.replace('隣地の購入、関係者間取引', \"0\")\n",
    "#train[\"Remarks\"] = train[\"Remarks\"].str.replace('私道を含む取引、その他事情有り', \"-2\")\n",
    "train[\"Remarks\"] = train[\"Remarks\"].str.replace('他の権利・負担付き', \"1\")\n",
    "#train[\"Remarks\"] = train[\"Remarks\"].str.replace('隣地の購入、その他事情有り', \"0\")\n",
    "#train[\"Remarks\"] = train[\"Remarks\"].str.replace('瑕疵有りの可能性、私道を含む取引', \"-2\")\n",
    "#train[\"Remarks\"] = train[\"Remarks\"].str.replace('隣地の購入、調停・競売等、私道を含む取引', \"-1\")\n",
    "#train[\"Remarks\"] = train[\"Remarks\"].str.replace('古屋付き・取壊し前提、私道を含む取引', \"-2\")\n",
    "#train[\"Remarks\"] = train[\"Remarks\"].str.replace('他の権利・負担付き、私道を含む取引', \"0\")\n",
    "#train[\"Remarks\"] = train[\"Remarks\"].str.replace('関係者間取引、調停・競売等、私道を含む取引', \"-2\")\n",
    "#train[\"Remarks\"] = train[\"Remarks\"].str.replace('他の権利・負担付き、調停・競売等', \"0\")\n",
    "#train[\"Remarks\"] = train[\"Remarks\"].str.replace('調停・競売等、その他事情有り', \"-2\")\n",
    "#train[\"Remarks\"] = train[\"Remarks\"].str.replace('古屋付き・取壊し前提、瑕疵有りの可能性', \"-2\")\n",
    "#train[\"Remarks\"] = train[\"Remarks\"].str.replace('隣地の購入、瑕疵有りの可能性', \"0\")\n",
    "#train[\"Remarks\"] = train[\"Remarks\"].str.replace('隣地の購入、調停・競売等', \"0\")"
   ]
  },
  {
   "cell_type": "code",
   "execution_count": 0,
   "metadata": {
    "colab": {},
    "colab_type": "code",
    "id": "QOfiN3heLOMR"
   },
   "outputs": [],
   "source": [
    "train[\"Remarks\"] = train[\"Remarks\"].str.replace('1-1',\"0\")"
   ]
  },
  {
   "cell_type": "code",
   "execution_count": 0,
   "metadata": {
    "colab": {},
    "colab_type": "code",
    "id": "loH46DEUQNSK"
   },
   "outputs": [],
   "source": [
    "train[\"Remarks\"] = train[\"Remarks\"].str.replace('-0',\"-2\")\n",
    "train[\"Remarks\"] = train[\"Remarks\"].str.replace('0-1',\"-1\")"
   ]
  },
  {
   "cell_type": "code",
   "execution_count": 0,
   "metadata": {
    "colab": {},
    "colab_type": "code",
    "id": "cvMZO_J3QlC0"
   },
   "outputs": [],
   "source": [
    "train[\"Remarks\"] = train[\"Remarks\"].str.replace('-2-1',\"-3\")"
   ]
  },
  {
   "cell_type": "code",
   "execution_count": 0,
   "metadata": {
    "colab": {},
    "colab_type": "code",
    "id": "-0K9j_mrVt3A"
   },
   "outputs": [],
   "source": [
    "test[\"Remarks\"] = test[\"Remarks\"].str.replace('、',\"\")\n",
    "test[\"Remarks\"] = test[\"Remarks\"].str.replace('私道を含む取引',\"-1\")\n",
    "test[\"Remarks\"] = test[\"Remarks\"].str.replace('隣地の購入', \"1\")\n",
    "test[\"Remarks\"] = test[\"Remarks\"].str.replace('関係者間取引', \"-1\")\n",
    "test[\"Remarks\"] = test[\"Remarks\"].str.replace('調停・競売等', \"-1\")\n",
    "test[\"Remarks\"] = test[\"Remarks\"].str.replace('隣地の購入、私道を含む取引', \"0\")\n",
    "test[\"Remarks\"] = test[\"Remarks\"].str.replace('隣地の購入、関係者間取引、私道を含む取引', \"-1\")\n",
    "test[\"Remarks\"] = test[\"Remarks\"].str.replace('関係者間取引、私道を含む取引', \"-2\")\n",
    "test[\"Remarks\"] = test[\"Remarks\"].str.replace('その他事情有り', \"-1\")\n",
    "test[\"Remarks\"] = test[\"Remarks\"].str.replace('調停・競売等、私道を含む取引', \"-2\")\n",
    "test[\"Remarks\"] = test[\"Remarks\"].str.replace('瑕疵有りの可能性', \"-1\")\n",
    "test[\"Remarks\"] = test[\"Remarks\"].str.replace('古屋付き・取壊し前提', \"-1\")\n",
    "test[\"Remarks\"] = test[\"Remarks\"].str.replace('隣地の購入、関係者間取引', \"0\")\n",
    "test[\"Remarks\"] = test[\"Remarks\"].str.replace('私道を含む取引、その他事情有り', \"-2\")\n",
    "test[\"Remarks\"] = test[\"Remarks\"].str.replace('他の権利・負担付き', \"1\")\n",
    "test[\"Remarks\"] = test[\"Remarks\"].str.replace('隣地の購入、その他事情有り', \"0\")\n",
    "test[\"Remarks\"] = test[\"Remarks\"].str.replace('瑕疵有りの可能性、私道を含む取引', \"-2\")\n",
    "test[\"Remarks\"] = test[\"Remarks\"].str.replace('隣地の購入、調停・競売等、私道を含む取引', \"-1\")\n",
    "test[\"Remarks\"] = test[\"Remarks\"].str.replace('古屋付き・取壊し前提、私道を含む取引', \"-2\")\n",
    "test[\"Remarks\"] = test[\"Remarks\"].str.replace('他の権利・負担付き、私道を含む取引', \"0\")\n",
    "test[\"Remarks\"] = test[\"Remarks\"].str.replace('関係者間取引、調停・競売等、私道を含む取引', \"-2\")\n",
    "test[\"Remarks\"] = test[\"Remarks\"].str.replace('他の権利・負担付き、調停・競売等', \"0\")\n",
    "test[\"Remarks\"] = test[\"Remarks\"].str.replace('調停・競売等、その他事情有り', \"-2\")\n",
    "test[\"Remarks\"] = test[\"Remarks\"].str.replace('古屋付き・取壊し前提、瑕疵有りの可能性', \"-2\")\n",
    "test[\"Remarks\"] = test[\"Remarks\"].str.replace('隣地の購入、瑕疵有りの可能性', \"0\")\n",
    "test[\"Remarks\"] = test[\"Remarks\"].str.replace('隣地の購入、調停・競売等', \"0\")"
   ]
  },
  {
   "cell_type": "code",
   "execution_count": 0,
   "metadata": {
    "colab": {},
    "colab_type": "code",
    "id": "loshC3PyVuDe"
   },
   "outputs": [],
   "source": [
    "test[\"Remarks\"] = test[\"Remarks\"].str.replace('1-1',\"0\")"
   ]
  },
  {
   "cell_type": "code",
   "execution_count": 0,
   "metadata": {
    "colab": {},
    "colab_type": "code",
    "id": "jU7gMzGhVuOe"
   },
   "outputs": [],
   "source": [
    "test[\"Remarks\"] = test[\"Remarks\"].str.replace('-0',\"-2\")"
   ]
  },
  {
   "cell_type": "code",
   "execution_count": 0,
   "metadata": {
    "colab": {},
    "colab_type": "code",
    "id": "2xsg1dfl0gkN"
   },
   "outputs": [],
   "source": [
    "train[\"Remarks\"] = train[\"Remarks\"].astype(str)\n",
    "test[\"Remarks\"] = test[\"Remarks\"].astype(str)"
   ]
  },
  {
   "cell_type": "code",
   "execution_count": 0,
   "metadata": {
    "colab": {},
    "colab_type": "code",
    "id": "tNdY6am_rm7t"
   },
   "outputs": [],
   "source": [
    "train[\"Remarks\"] = train[\"Remarks\"].str.replace('nan',\"0\")\n",
    "test[\"Remarks\"] = test[\"Remarks\"].str.replace('nan',\"0\")"
   ]
  },
  {
   "cell_type": "code",
   "execution_count": 0,
   "metadata": {
    "colab": {},
    "colab_type": "code",
    "id": "xnEnoe1Z1Qbz"
   },
   "outputs": [],
   "source": [
    "train[\"Remarks\"].fillna(0).inplace=True\n",
    "test[\"Remarks\"].fillna(0).inplace=True"
   ]
  },
  {
   "cell_type": "code",
   "execution_count": 0,
   "metadata": {
    "colab": {},
    "colab_type": "code",
    "id": "gpoZ63kb1Qj7"
   },
   "outputs": [],
   "source": [
    "train[\"Remarks\"] = train[\"Remarks\"].astype(int)\n",
    "test[\"Remarks\"] = test[\"Remarks\"].astype(int)"
   ]
  },
  {
   "cell_type": "code",
   "execution_count": 0,
   "metadata": {
    "colab": {
     "base_uri": "https://localhost:8080/",
     "height": 625
    },
    "colab_type": "code",
    "executionInfo": {
     "elapsed": 39527,
     "status": "ok",
     "timestamp": 1585801463272,
     "user": {
      "displayName": "河本紘伸",
      "photoUrl": "",
      "userId": "18373138818416241917"
     },
     "user_tz": -540
    },
    "id": "aFt11gmNbcvX",
    "outputId": "e2ac07bc-33ec-4d75-b671-7f837650431a"
   },
   "outputs": [
    {
     "data": {
      "text/plain": [
       "Text(0, 0.5, 'SalePrice')"
      ]
     },
     "execution_count": 97,
     "metadata": {
      "tags": []
     },
     "output_type": "execute_result"
    },
    {
     "data": {
      "image/png": "[encoded data removed]",
      "text/plain": [
       "<Figure size 1440x720 with 1 Axes>"
      ]
     },
     "metadata": {
      "tags": []
     },
     "output_type": "display_data"
    }
   ],
   "source": [
    "plt.figure(figsize=(20, 10))\n",
    "plt.scatter(train[\"Remarks\"],train[\"SalePrice\"])\n",
    "plt.xlabel(\"Remarks\")\n",
    "plt.ylabel(\"SalePrice\")"
   ]
  },
  {
   "cell_type": "code",
   "execution_count": 0,
   "metadata": {
    "colab": {},
    "colab_type": "code",
    "id": "GyNRU-aR1Qsq"
   },
   "outputs": [],
   "source": []
  },
  {
   "cell_type": "code",
   "execution_count": 0,
   "metadata": {
    "colab": {},
    "colab_type": "code",
    "id": "iWNJAlVa0gyA"
   },
   "outputs": [],
   "source": []
  },
  {
   "cell_type": "code",
   "execution_count": 0,
   "metadata": {
    "colab": {
     "base_uri": "https://localhost:8080/",
     "height": 1000
    },
    "colab_type": "code",
    "executionInfo": {
     "elapsed": 39486,
     "status": "ok",
     "timestamp": 1585801463274,
     "user": {
      "displayName": "河本紘伸",
      "photoUrl": "",
      "userId": "18373138818416241917"
     },
     "user_tz": -540
    },
    "id": "s4oWhSPet8VD",
    "outputId": "522fc6ee-8187-49b2-b0e3-0909a3dafab5"
   },
   "outputs": [
    {
     "data": {
      "text/plain": [
       "array([nan, '6.8', '13.0', '6.4', '9.4', '15.0', '6.5', '6.7', '22.6',\n",
       "       '3.5', '13.1', '10.4', '10.0', '14.7', '3.0', '13.5', '2.5', '5.0',\n",
       "       '9.5', '6.0', '4.6', '6.3', '9.0', '7.0', '4.5', '7.1', '10.5',\n",
       "       '16.0', '5.5', '8.5', '11.5', '15.6', '10.8', '7.5', '12.0', '4.3',\n",
       "       '8.0', '14.8', '8.2', '9.9', '11.7', '5.2', '11.0', '18.0', '7.7',\n",
       "       '3.8', '7.9', '3.7', '18.5', '20.0', '9.3', '6.1', '6.2', '5.6',\n",
       "       '8.7', '12.5', '22.2', '16.5', '30.0', '4.7', '9.1', '4.0', '25.0',\n",
       "       '7.2', '17.0', '14.0', '17.5', '5.8', '7.8', '14.5', '45.0',\n",
       "       '26.0', '9.2', '24.0', '21.5', '31.6', '41.5', '2.4', '9.8', '7.3',\n",
       "       '11.1', '9.7', '22.5', '19.0', '1.9', '12.6', '12.3', '23.0',\n",
       "       '32.0', '22.0', '20.8', '15.5', '11.4', '4.8', '27.0', '23.5',\n",
       "       '5.1', '4.4', '4.2', '6.6', '8.6', '11.3', '2.7', '9.6', '21.0',\n",
       "       '11.8', '18.1', '6.9', '14.2', '29.0', '5.9', '5.4', '24.5',\n",
       "       '15.4', '23.6', '8.4', '8.8', '38.5', '14.1', '3.9', '36.0', '3.6',\n",
       "       '7.6', '8.9', '35.0', '40.0', '12.9', '11.6', '4.9', '10.1', '8.1',\n",
       "       '13.2', '10.9', '14.6', '8.3', '18.2', '10.2', '21.1', '11.9',\n",
       "       '2.2', '28.5', '17.4', '11.2', '18.4', '5.3', '33.0', '33.7',\n",
       "       '19.5', '47.0', '5.7', '44.5', '28.8', '1.4', '28.6', '13.7',\n",
       "       '29.5', '50.0m以上', '3.3', '12.7', '2.0', '12.4', '2.1', '25.5',\n",
       "       '18.3', '3.1', '19.8', '18.6', '13.3', '33.2', '16.4', '17.8',\n",
       "       '16.7', '10.6', '20.5', '20.4', '7.4', '12.1', '28.7', '22.4',\n",
       "       '28.0', '13.9', '10.3', '13.8', '31.0', '26.5', '15.3', '34.0',\n",
       "       '2.9', '40.4', '23.2', '17.3', '20.9', '25.6', '28.3', '12.8',\n",
       "       '2.8', '14.4', '44.0', '4.1', '13.6', '13.4', '3.4', '16.8',\n",
       "       '37.3', '15.8', '17.9', '15.2', '38.6', '16.6', '29.6', '16.1',\n",
       "       '43.5', '0.9', '19.3', '1.8', '3.2', '10.7', '16.3', '17.1',\n",
       "       '38.4', '23.4', '12.2', '1.0', '19.1', '18.7', '18.8', '19.4',\n",
       "       '14.3', '48.0', '21.2', '42.0', '16.2', '26.2', '15.7', '19.7',\n",
       "       '17.7', '2.6', '33.4', '19.6', '21.6', '17.2', '20.2', '34.2',\n",
       "       '21.8', '20.3', '15.9', '32.2', '2.3', '1.3', '22.8', '21.7',\n",
       "       '25.8', '16.9', '1.6', '14.9', '42.2', '30.5', '39.0', '20.1',\n",
       "       '23.8', '29.8', '19.2', '20.6', '24.6', '15.1', '32.5', '26.7',\n",
       "       '22.7', '35.5', '17.6', '24.3', '24.1', '46.5', '29.4', '1.1',\n",
       "       '49.0', '34.8', '45.2', '18.9', '20.7', '24.2', '29.7', '21.9',\n",
       "       '1.2', '27.1', '25.4', '25.2', '21.3', '34.7', '23.1', '24.9',\n",
       "       '27.5', '38.0', '45.6', '19.9', '26.3', '34.5', '37.0', '37.2',\n",
       "       '41.2', '27.2', '45.5', '36.4', '33.5', '22.1', '37.6', '43.0',\n",
       "       '41.0', '26.9', '22.3', '40.6', '39.7', '24.8', '36.1', '26.1',\n",
       "       '23.3', '42.1', '28.9', '23.9', '26.4', '31.4', '24.4', '27.8',\n",
       "       '25.7', '30.9', '1.5', '40.5', '33.3', '36.3', '36.5', '37.5',\n",
       "       '35.9', '31.1', '31.5', '36.2', '21.4', '29.1', '49.4', '22.9',\n",
       "       '42.5', '31.3', '32.4', '41.9', '40.8', '40.2', '32.6', '39.8',\n",
       "       '30.4', '44.7', '28.2', '43.2', '48.6', '30.6', '35.2', '47.5',\n",
       "       '1.7', '0.8', '48.5', '49.8', '41.6', '23.7', '27.9', '49.2',\n",
       "       '40.7', '38.3', '27.3', '35.4', '39.2', '42.4', '0.5', '30.7',\n",
       "       '27.4', '37.7', '29.2', '30.3', '43.7', '26.6', '30.2', '36.8',\n",
       "       '38.2', '31.7', '33.9', '44.1', '47.8', '40.3', '35.7', '33.6',\n",
       "       '35.6', '25.3', '46.0', '35.1', '29.3', '24.7', '37.8', '29.9',\n",
       "       '32.7', '0.4', '30.8', '43.4', '33.1', '28.1', '49.9', '25.9',\n",
       "       '46.6', '27.6', '31.2', '36.6', '32.3', '32.1', '44.2', '41.8',\n",
       "       '47.6', '49.5', '34.4', '46.3', '28.4', '49.3', '38.1', '26.8',\n",
       "       '34.3', '34.6', '41.1', '37.4', '41.3', '48.8', '46.2', '43.8',\n",
       "       '46.7', '32.9', '47.2', '41.7', '43.6', '37.1', '0.6', '31.8',\n",
       "       '38.8', '31.9', '39.5', '41.4', '46.1', '30.1', '37.9', '27.7',\n",
       "       '25.1', '38.7', '32.8', '34.9', '36.9', '40.9', '49.6', '33.8',\n",
       "       '49.1', '45.4', '42.3', '42.7', '38.9', '42.8', '48.3', '39.3',\n",
       "       '35.8', '36.7', '47.7', '44.6', '43.3', '39.4', '44.4', '35.3',\n",
       "       '47.4', '48.1', '34.1', '48.4', '48.9', '44.3'], dtype=object)"
      ]
     },
     "execution_count": 98,
     "metadata": {
      "tags": []
     },
     "output_type": "execute_result"
    }
   ],
   "source": [
    "train[\"Frontage\"].unique()"
   ]
  },
  {
   "cell_type": "code",
   "execution_count": 0,
   "metadata": {
    "colab": {},
    "colab_type": "code",
    "id": "sp8H0gno223s"
   },
   "outputs": [],
   "source": [
    "train[\"Frontage\"] = train[\"Frontage\"].str.replace(\"50.0m以上\", \"50\")\n",
    "test[\"Frontage\"] = test[\"Frontage\"].str.replace(\"50.0m以上\", \"50\")"
   ]
  },
  {
   "cell_type": "code",
   "execution_count": 0,
   "metadata": {
    "colab": {},
    "colab_type": "code",
    "id": "lVs5D_mQ223v"
   },
   "outputs": [],
   "source": [
    "train[\"Frontage\"] = train[\"Frontage\"].astype(float)\n",
    "test[\"Frontage\"] = test[\"Frontage\"].astype(float)"
   ]
  },
  {
   "cell_type": "code",
   "execution_count": 0,
   "metadata": {
    "colab": {
     "base_uri": "https://localhost:8080/",
     "height": 625
    },
    "colab_type": "code",
    "executionInfo": {
     "elapsed": 40206,
     "status": "ok",
     "timestamp": 1585801464009,
     "user": {
      "displayName": "河本紘伸",
      "photoUrl": "",
      "userId": "18373138818416241917"
     },
     "user_tz": -540
    },
    "id": "yT8D51Si223w",
    "outputId": "b88120d3-a4a7-4136-edcc-3ce845be7b49",
    "scrolled": true
   },
   "outputs": [
    {
     "data": {
      "text/plain": [
       "Text(0, 0.5, 'SalePrice')"
      ]
     },
     "execution_count": 101,
     "metadata": {
      "tags": []
     },
     "output_type": "execute_result"
    },
    {
     "data": {
      "image/png": "[encoded data removed]",
      "text/plain": [
       "<Figure size 1440x720 with 1 Axes>"
      ]
     },
     "metadata": {
      "tags": []
     },
     "output_type": "display_data"
    }
   ],
   "source": [
    "plt.figure(figsize=(20, 10))\n",
    "plt.scatter(train[\"Frontage\"],train[\"SalePrice\"])\n",
    "plt.xlabel(\"Frontage\")\n",
    "plt.ylabel(\"SalePrice\")"
   ]
  },
  {
   "cell_type": "code",
   "execution_count": 0,
   "metadata": {
    "colab": {
     "base_uri": "https://localhost:8080/",
     "height": 625
    },
    "colab_type": "code",
    "executionInfo": {
     "elapsed": 41353,
     "status": "ok",
     "timestamp": 1585801465159,
     "user": {
      "displayName": "河本紘伸",
      "photoUrl": "",
      "userId": "18373138818416241917"
     },
     "user_tz": -540
    },
    "id": "fUqGWj_F223z",
    "outputId": "c0477d0e-da0b-4783-e64d-6e7bd2660bab"
   },
   "outputs": [
    {
     "data": {
      "text/plain": [
       "Text(0, 0.5, 'SalePrice')"
      ]
     },
     "execution_count": 102,
     "metadata": {
      "tags": []
     },
     "output_type": "execute_result"
    },
    {
     "data": {
      "image/png": "[encoded data removed]",
      "text/plain": [
       "<Figure size 1440x720 with 1 Axes>"
      ]
     },
     "metadata": {
      "tags": []
     },
     "output_type": "display_data"
    }
   ],
   "source": [
    "train = train.drop(train[(train[\"Frontage\"]<50) & (train['SalePrice']<-3.75)].index)\n",
    "\n",
    "#グラフを描画する\n",
    "plt.figure(figsize=(20, 10))\n",
    "plt.scatter(train[\"Frontage\"],train[\"SalePrice\"])\n",
    "plt.xlabel(\"Frontage\")\n",
    "plt.ylabel(\"SalePrice\")"
   ]
  },
  {
   "cell_type": "code",
   "execution_count": 0,
   "metadata": {
    "colab": {
     "base_uri": "https://localhost:8080/",
     "height": 35
    },
    "colab_type": "code",
    "executionInfo": {
     "elapsed": 41350,
     "status": "ok",
     "timestamp": 1585801465159,
     "user": {
      "displayName": "河本紘伸",
      "photoUrl": "",
      "userId": "18373138818416241917"
     },
     "user_tz": -540
    },
    "id": "hUNjmYgxuOLw",
    "outputId": "be5c8f30-3178-42af-bed7-45023840c448"
   },
   "outputs": [
    {
     "data": {
      "text/plain": [
       "176079"
      ]
     },
     "execution_count": 103,
     "metadata": {
      "tags": []
     },
     "output_type": "execute_result"
    }
   ],
   "source": [
    "train[\"Frontage\"].isnull().sum()"
   ]
  },
  {
   "cell_type": "code",
   "execution_count": 0,
   "metadata": {
    "colab": {
     "base_uri": "https://localhost:8080/",
     "height": 35
    },
    "colab_type": "code",
    "executionInfo": {
     "elapsed": 41348,
     "status": "ok",
     "timestamp": 1585801465160,
     "user": {
      "displayName": "河本紘伸",
      "photoUrl": "",
      "userId": "18373138818416241917"
     },
     "user_tz": -540
    },
    "id": "iJLTc9W-uely",
    "outputId": "a712ae6c-0394-4d9d-96a2-ff0edac249a6"
   },
   "outputs": [
    {
     "name": "stdout",
     "output_type": "stream",
     "text": [
      "9.643329986074537\n"
     ]
    }
   ],
   "source": [
    "print(np.mean(train[\"Frontage\"]))"
   ]
  },
  {
   "cell_type": "code",
   "execution_count": 0,
   "metadata": {
    "colab": {
     "base_uri": "https://localhost:8080/",
     "height": 35
    },
    "colab_type": "code",
    "executionInfo": {
     "elapsed": 41344,
     "status": "ok",
     "timestamp": 1585801465160,
     "user": {
      "displayName": "河本紘伸",
      "photoUrl": "",
      "userId": "18373138818416241917"
     },
     "user_tz": -540
    },
    "id": "HZ0qDGse1JjQ",
    "outputId": "28c83b61-f345-4972-99c9-ecdfa254d72e"
   },
   "outputs": [
    {
     "data": {
      "text/plain": [
       "391170"
      ]
     },
     "execution_count": 105,
     "metadata": {
      "tags": []
     },
     "output_type": "execute_result"
    }
   ],
   "source": [
    "len(train[\"Area\"])+len(test[\"Area\"])"
   ]
  },
  {
   "cell_type": "code",
   "execution_count": 0,
   "metadata": {
    "colab": {},
    "colab_type": "code",
    "id": "UZFpq1Kguehd"
   },
   "outputs": [],
   "source": [
    "all_data = pd.concat([train, test], ignore_index=True)"
   ]
  },
  {
   "cell_type": "code",
   "execution_count": 0,
   "metadata": {
    "colab": {},
    "colab_type": "code",
    "id": "jHCPvXBVHmxh"
   },
   "outputs": [],
   "source": [
    "all_words = pd.read_csv(\"all_words_df.csv\")"
   ]
  },
  {
   "cell_type": "code",
   "execution_count": 0,
   "metadata": {
    "colab": {
     "base_uri": "https://localhost:8080/",
     "height": 217
    },
    "colab_type": "code",
    "executionInfo": {
     "elapsed": 41334,
     "status": "ok",
     "timestamp": 1585801465161,
     "user": {
      "displayName": "河本紘伸",
      "photoUrl": "",
      "userId": "18373138818416241917"
     },
     "user_tz": -540
    },
    "id": "h9GB_XYLHpPz",
    "outputId": "26431c05-0748-42c3-af33-98d4bd81be5c"
   },
   "outputs": [
    {
     "data": {
      "text/plain": [
       "その他      1573.0\n",
       "事務所      9529.0\n",
       "住宅     288663.0\n",
       "作業場      1276.0\n",
       "倉庫       2937.0\n",
       "共同      16104.0\n",
       "工場       1050.0\n",
       "店舗       9258.0\n",
       "秘密      93190.0\n",
       "駐車       1964.0\n",
       "dtype: float64"
      ]
     },
     "execution_count": 108,
     "metadata": {
      "tags": []
     },
     "output_type": "execute_result"
    }
   ],
   "source": [
    "all_words.sum(axis=0)"
   ]
  },
  {
   "cell_type": "code",
   "execution_count": 0,
   "metadata": {
    "colab": {
     "base_uri": "https://localhost:8080/",
     "height": 407
    },
    "colab_type": "code",
    "executionInfo": {
     "elapsed": 41775,
     "status": "ok",
     "timestamp": 1585801465722,
     "user": {
      "displayName": "河本紘伸",
      "photoUrl": "",
      "userId": "18373138818416241917"
     },
     "user_tz": -540
    },
    "id": "vyawBWbkH-bI",
    "outputId": "046e9bc3-d689-4d20-b6d3-c8f620631271"
   },
   "outputs": [
    {
     "data": {
      "text/html": [
       "<div>\n",
       "<style scoped>\n",
       "    .dataframe tbody tr th:only-of-type {\n",
       "        vertical-align: middle;\n",
       "    }\n",
       "\n",
       "    .dataframe tbody tr th {\n",
       "        vertical-align: top;\n",
       "    }\n",
       "\n",
       "    .dataframe thead th {\n",
       "        text-align: right;\n",
       "    }\n",
       "</style>\n",
       "<table border=\"1\" class=\"dataframe\">\n",
       "  <thead>\n",
       "    <tr style=\"text-align: right;\">\n",
       "      <th></th>\n",
       "      <th>その他</th>\n",
       "      <th>事務所</th>\n",
       "      <th>住宅</th>\n",
       "      <th>作業場</th>\n",
       "      <th>倉庫</th>\n",
       "      <th>共同</th>\n",
       "      <th>工場</th>\n",
       "      <th>店舗</th>\n",
       "      <th>秘密</th>\n",
       "      <th>駐車</th>\n",
       "    </tr>\n",
       "  </thead>\n",
       "  <tbody>\n",
       "    <tr>\n",
       "      <th>0</th>\n",
       "      <td>NaN</td>\n",
       "      <td>NaN</td>\n",
       "      <td>NaN</td>\n",
       "      <td>NaN</td>\n",
       "      <td>NaN</td>\n",
       "      <td>NaN</td>\n",
       "      <td>NaN</td>\n",
       "      <td>NaN</td>\n",
       "      <td>1.0</td>\n",
       "      <td>NaN</td>\n",
       "    </tr>\n",
       "    <tr>\n",
       "      <th>1</th>\n",
       "      <td>NaN</td>\n",
       "      <td>NaN</td>\n",
       "      <td>NaN</td>\n",
       "      <td>NaN</td>\n",
       "      <td>NaN</td>\n",
       "      <td>NaN</td>\n",
       "      <td>NaN</td>\n",
       "      <td>NaN</td>\n",
       "      <td>1.0</td>\n",
       "      <td>NaN</td>\n",
       "    </tr>\n",
       "    <tr>\n",
       "      <th>2</th>\n",
       "      <td>NaN</td>\n",
       "      <td>NaN</td>\n",
       "      <td>1.0</td>\n",
       "      <td>NaN</td>\n",
       "      <td>NaN</td>\n",
       "      <td>NaN</td>\n",
       "      <td>NaN</td>\n",
       "      <td>NaN</td>\n",
       "      <td>NaN</td>\n",
       "      <td>NaN</td>\n",
       "    </tr>\n",
       "    <tr>\n",
       "      <th>3</th>\n",
       "      <td>NaN</td>\n",
       "      <td>NaN</td>\n",
       "      <td>1.0</td>\n",
       "      <td>NaN</td>\n",
       "      <td>NaN</td>\n",
       "      <td>NaN</td>\n",
       "      <td>NaN</td>\n",
       "      <td>NaN</td>\n",
       "      <td>NaN</td>\n",
       "      <td>NaN</td>\n",
       "    </tr>\n",
       "    <tr>\n",
       "      <th>4</th>\n",
       "      <td>NaN</td>\n",
       "      <td>1.0</td>\n",
       "      <td>1.0</td>\n",
       "      <td>NaN</td>\n",
       "      <td>NaN</td>\n",
       "      <td>NaN</td>\n",
       "      <td>NaN</td>\n",
       "      <td>1.0</td>\n",
       "      <td>NaN</td>\n",
       "      <td>NaN</td>\n",
       "    </tr>\n",
       "    <tr>\n",
       "      <th>...</th>\n",
       "      <td>...</td>\n",
       "      <td>...</td>\n",
       "      <td>...</td>\n",
       "      <td>...</td>\n",
       "      <td>...</td>\n",
       "      <td>...</td>\n",
       "      <td>...</td>\n",
       "      <td>...</td>\n",
       "      <td>...</td>\n",
       "      <td>...</td>\n",
       "    </tr>\n",
       "    <tr>\n",
       "      <th>391165</th>\n",
       "      <td>NaN</td>\n",
       "      <td>NaN</td>\n",
       "      <td>1.0</td>\n",
       "      <td>NaN</td>\n",
       "      <td>NaN</td>\n",
       "      <td>NaN</td>\n",
       "      <td>NaN</td>\n",
       "      <td>NaN</td>\n",
       "      <td>NaN</td>\n",
       "      <td>NaN</td>\n",
       "    </tr>\n",
       "    <tr>\n",
       "      <th>391166</th>\n",
       "      <td>NaN</td>\n",
       "      <td>NaN</td>\n",
       "      <td>NaN</td>\n",
       "      <td>NaN</td>\n",
       "      <td>NaN</td>\n",
       "      <td>NaN</td>\n",
       "      <td>NaN</td>\n",
       "      <td>NaN</td>\n",
       "      <td>1.0</td>\n",
       "      <td>NaN</td>\n",
       "    </tr>\n",
       "    <tr>\n",
       "      <th>391167</th>\n",
       "      <td>NaN</td>\n",
       "      <td>NaN</td>\n",
       "      <td>NaN</td>\n",
       "      <td>NaN</td>\n",
       "      <td>NaN</td>\n",
       "      <td>NaN</td>\n",
       "      <td>NaN</td>\n",
       "      <td>NaN</td>\n",
       "      <td>1.0</td>\n",
       "      <td>NaN</td>\n",
       "    </tr>\n",
       "    <tr>\n",
       "      <th>391168</th>\n",
       "      <td>NaN</td>\n",
       "      <td>NaN</td>\n",
       "      <td>NaN</td>\n",
       "      <td>NaN</td>\n",
       "      <td>NaN</td>\n",
       "      <td>NaN</td>\n",
       "      <td>NaN</td>\n",
       "      <td>NaN</td>\n",
       "      <td>1.0</td>\n",
       "      <td>NaN</td>\n",
       "    </tr>\n",
       "    <tr>\n",
       "      <th>391169</th>\n",
       "      <td>NaN</td>\n",
       "      <td>NaN</td>\n",
       "      <td>NaN</td>\n",
       "      <td>NaN</td>\n",
       "      <td>NaN</td>\n",
       "      <td>NaN</td>\n",
       "      <td>NaN</td>\n",
       "      <td>NaN</td>\n",
       "      <td>1.0</td>\n",
       "      <td>NaN</td>\n",
       "    </tr>\n",
       "  </tbody>\n",
       "</table>\n",
       "<p>391170 rows × 10 columns</p>\n",
       "</div>"
      ],
      "text/plain": [
       "        その他  事務所   住宅  作業場  倉庫  共同  工場   店舗   秘密  駐車\n",
       "0       NaN  NaN  NaN  NaN NaN NaN NaN  NaN  1.0 NaN\n",
       "1       NaN  NaN  NaN  NaN NaN NaN NaN  NaN  1.0 NaN\n",
       "2       NaN  NaN  1.0  NaN NaN NaN NaN  NaN  NaN NaN\n",
       "3       NaN  NaN  1.0  NaN NaN NaN NaN  NaN  NaN NaN\n",
       "4       NaN  1.0  1.0  NaN NaN NaN NaN  1.0  NaN NaN\n",
       "...     ...  ...  ...  ...  ..  ..  ..  ...  ...  ..\n",
       "391165  NaN  NaN  1.0  NaN NaN NaN NaN  NaN  NaN NaN\n",
       "391166  NaN  NaN  NaN  NaN NaN NaN NaN  NaN  1.0 NaN\n",
       "391167  NaN  NaN  NaN  NaN NaN NaN NaN  NaN  1.0 NaN\n",
       "391168  NaN  NaN  NaN  NaN NaN NaN NaN  NaN  1.0 NaN\n",
       "391169  NaN  NaN  NaN  NaN NaN NaN NaN  NaN  1.0 NaN\n",
       "\n",
       "[391170 rows x 10 columns]"
      ]
     },
     "execution_count": 109,
     "metadata": {
      "tags": []
     },
     "output_type": "execute_result"
    }
   ],
   "source": [
    "all_words"
   ]
  },
  {
   "cell_type": "code",
   "execution_count": 0,
   "metadata": {
    "colab": {},
    "colab_type": "code",
    "id": "-8CBW32ZGT94"
   },
   "outputs": [],
   "source": [
    "all_words = all_words.fillna(0)"
   ]
  },
  {
   "cell_type": "code",
   "execution_count": 0,
   "metadata": {
    "colab": {},
    "colab_type": "code",
    "id": "W7x990cR_nY4"
   },
   "outputs": [],
   "source": [
    "all_data = pd.concat([all_data, all_words], axis=1)"
   ]
  },
  {
   "cell_type": "code",
   "execution_count": 0,
   "metadata": {
    "colab": {},
    "colab_type": "code",
    "id": "rYsw2CcrdWKL"
   },
   "outputs": [],
   "source": [
    "all_data.drop(\"Use\", axis = 1, inplace = True)"
   ]
  },
  {
   "cell_type": "code",
   "execution_count": 0,
   "metadata": {
    "colab": {},
    "colab_type": "code",
    "id": "h6WdgJxV_5sY"
   },
   "outputs": [],
   "source": [
    "train = all_data.iloc[:train.shape[0],:]\n",
    "test = all_data.iloc[train.shape[0]:,:]"
   ]
  },
  {
   "cell_type": "markdown",
   "metadata": {
    "colab_type": "text",
    "id": "GCaIy9f2T7fU"
   },
   "source": [
    "# Type "
   ]
  },
  {
   "cell_type": "code",
   "execution_count": 0,
   "metadata": {
    "colab": {
     "base_uri": "https://localhost:8080/",
     "height": 35
    },
    "colab_type": "code",
    "executionInfo": {
     "elapsed": 41753,
     "status": "ok",
     "timestamp": 1585801465724,
     "user": {
      "displayName": "河本紘伸",
      "photoUrl": "",
      "userId": "18373138818416241917"
     },
     "user_tz": -540
    },
    "id": "gzKt7iau0W-a",
    "outputId": "823e298c-2efe-4896-ce84-96de9b4be0ba"
   },
   "outputs": [
    {
     "data": {
      "text/plain": [
       "array(['中古マンション等', '宅地(土地と建物)', '宅地(土地)', '林地', '農地'], dtype=object)"
      ]
     },
     "execution_count": 114,
     "metadata": {
      "tags": []
     },
     "output_type": "execute_result"
    }
   ],
   "source": [
    "test[\"Type\"].unique()"
   ]
  },
  {
   "cell_type": "code",
   "execution_count": 0,
   "metadata": {
    "colab": {
     "base_uri": "https://localhost:8080/",
     "height": 35
    },
    "colab_type": "code",
    "executionInfo": {
     "elapsed": 41747,
     "status": "ok",
     "timestamp": 1585801465724,
     "user": {
      "displayName": "河本紘伸",
      "photoUrl": "",
      "userId": "18373138818416241917"
     },
     "user_tz": -540
    },
    "id": "_n7GHm0Kueda",
    "outputId": "fd4c2948-12ba-4623-d2e3-81ff8264c0f3"
   },
   "outputs": [
    {
     "data": {
      "text/plain": [
       "array(['中古マンション等', '宅地(土地と建物)', '宅地(土地)', '林地', '農地'], dtype=object)"
      ]
     },
     "execution_count": 115,
     "metadata": {
      "tags": []
     },
     "output_type": "execute_result"
    }
   ],
   "source": [
    "train[\"Type\"].unique()"
   ]
  },
  {
   "cell_type": "code",
   "execution_count": 0,
   "metadata": {
    "colab": {
     "base_uri": "https://localhost:8080/",
     "height": 35
    },
    "colab_type": "code",
    "executionInfo": {
     "elapsed": 41741,
     "status": "ok",
     "timestamp": 1585801465725,
     "user": {
      "displayName": "河本紘伸",
      "photoUrl": "",
      "userId": "18373138818416241917"
     },
     "user_tz": -540
    },
    "id": "35tmKKuyx6LQ",
    "outputId": "17e90b91-aa28-4449-e7dd-1cdabb9953e7"
   },
   "outputs": [
    {
     "data": {
      "text/plain": [
       "0"
      ]
     },
     "execution_count": 116,
     "metadata": {
      "tags": []
     },
     "output_type": "execute_result"
    }
   ],
   "source": [
    "train[\"Type\"].isnull().sum()"
   ]
  },
  {
   "cell_type": "code",
   "execution_count": 0,
   "metadata": {
    "colab": {},
    "colab_type": "code",
    "id": "pilZ0dohx6Dn"
   },
   "outputs": [],
   "source": [
    "le = LabelEncoder()\n",
    "le.fit(train[\"Type\"])\n",
    "train[\"Type\"] = le.transform(train[\"Type\"])\n",
    "test[\"Type\"] = le.transform(test[\"Type\"])"
   ]
  },
  {
   "cell_type": "code",
   "execution_count": 0,
   "metadata": {
    "colab": {
     "base_uri": "https://localhost:8080/",
     "height": 297
    },
    "colab_type": "code",
    "executionInfo": {
     "elapsed": 42549,
     "status": "ok",
     "timestamp": 1585801466549,
     "user": {
      "displayName": "河本紘伸",
      "photoUrl": "",
      "userId": "18373138818416241917"
     },
     "user_tz": -540
    },
    "id": "zIQFb9bVwpQD",
    "outputId": "291aad9f-f29f-4513-ebd4-a924af39cef0"
   },
   "outputs": [
    {
     "data": {
      "text/plain": [
       "Text(0, 0.5, 'SalePrice')"
      ]
     },
     "execution_count": 118,
     "metadata": {
      "tags": []
     },
     "output_type": "execute_result"
    },
    {
     "data": {
      "image/png": "[encoded data removed]",
      "text/plain": [
       "<Figure size 432x288 with 1 Axes>"
      ]
     },
     "metadata": {
      "tags": []
     },
     "output_type": "display_data"
    }
   ],
   "source": [
    "plt.figure()\n",
    "plt.scatter(train[\"Type\"],train[\"SalePrice\"])\n",
    "plt.xlabel(\"Type\")\n",
    "plt.ylabel(\"SalePrice\")"
   ]
  },
  {
   "cell_type": "code",
   "execution_count": 0,
   "metadata": {
    "colab": {},
    "colab_type": "code",
    "id": "tddsP_qGwpI2"
   },
   "outputs": [],
   "source": []
  },
  {
   "cell_type": "code",
   "execution_count": 0,
   "metadata": {
    "colab": {},
    "colab_type": "code",
    "id": "YAHRoeK-wo_v"
   },
   "outputs": [],
   "source": []
  },
  {
   "cell_type": "code",
   "execution_count": 0,
   "metadata": {
    "colab": {
     "base_uri": "https://localhost:8080/",
     "height": 35
    },
    "colab_type": "code",
    "executionInfo": {
     "elapsed": 42543,
     "status": "ok",
     "timestamp": 1585801466550,
     "user": {
      "displayName": "河本紘伸",
      "photoUrl": "",
      "userId": "18373138818416241917"
     },
     "user_tz": -540
    },
    "id": "h_Iy7I-i2231",
    "outputId": "c4fbcbb3-3dcc-490f-c66e-6f8d078b5206"
   },
   "outputs": [
    {
     "data": {
      "text/plain": [
       "0"
      ]
     },
     "execution_count": 119,
     "metadata": {
      "tags": []
     },
     "output_type": "execute_result"
    }
   ],
   "source": [
    "train[\"MunicipalityCode\"].isnull().sum()"
   ]
  },
  {
   "cell_type": "code",
   "execution_count": 0,
   "metadata": {
    "colab": {
     "base_uri": "https://localhost:8080/",
     "height": 625
    },
    "colab_type": "code",
    "executionInfo": {
     "elapsed": 43708,
     "status": "ok",
     "timestamp": 1585801467717,
     "user": {
      "displayName": "河本紘伸",
      "photoUrl": "",
      "userId": "18373138818416241917"
     },
     "user_tz": -540
    },
    "id": "jPOjdxwd2235",
    "outputId": "6336f590-54a8-486a-c297-9b92aaab0920"
   },
   "outputs": [
    {
     "data": {
      "text/plain": [
       "Text(0, 0.5, 'SalePrice')"
      ]
     },
     "execution_count": 120,
     "metadata": {
      "tags": []
     },
     "output_type": "execute_result"
    },
    {
     "data": {
      "image/png": "[encoded data removed]",
      "text/plain": [
       "<Figure size 1440x720 with 1 Axes>"
      ]
     },
     "metadata": {
      "tags": []
     },
     "output_type": "display_data"
    }
   ],
   "source": [
    "plt.figure(figsize=(20, 10))\n",
    "plt.scatter(train[\"MunicipalityCode\"],train[\"SalePrice\"])\n",
    "plt.xlabel(\"MunicipalityCode\")\n",
    "plt.ylabel(\"SalePrice\")"
   ]
  },
  {
   "cell_type": "code",
   "execution_count": 0,
   "metadata": {
    "colab": {
     "base_uri": "https://localhost:8080/",
     "height": 145
    },
    "colab_type": "code",
    "executionInfo": {
     "elapsed": 43706,
     "status": "ok",
     "timestamp": 1585801467717,
     "user": {
      "displayName": "河本紘伸",
      "photoUrl": "",
      "userId": "18373138818416241917"
     },
     "user_tz": -540
    },
    "id": "tn5GPHiehOcF",
    "outputId": "a68141f5-a78f-4b35-fbb0-d344f109284b"
   },
   "outputs": [
    {
     "data": {
      "text/plain": [
       "array([13101, 13102, 13103, 13104, 13105, 13106, 13107, 13108, 13109,\n",
       "       13110, 13111, 13112, 13113, 13114, 13115, 13116, 13117, 13118,\n",
       "       13119, 13120, 13121, 13122, 13123, 13201, 13202, 13203, 13204,\n",
       "       13205, 13206, 13207, 13208, 13209, 13210, 13211, 13212, 13213,\n",
       "       13214, 13215, 13218, 13219, 13220, 13221, 13222, 13223, 13224,\n",
       "       13225, 13227, 13228, 13229, 13303, 13305, 13307, 13308, 13361,\n",
       "       13363, 13364, 13381, 13401, 13421])"
      ]
     },
     "execution_count": 121,
     "metadata": {
      "tags": []
     },
     "output_type": "execute_result"
    }
   ],
   "source": [
    "train[\"MunicipalityCode\"].unique()"
   ]
  },
  {
   "cell_type": "code",
   "execution_count": 0,
   "metadata": {
    "colab": {
     "base_uri": "https://localhost:8080/",
     "height": 145
    },
    "colab_type": "code",
    "executionInfo": {
     "elapsed": 43705,
     "status": "ok",
     "timestamp": 1585801467718,
     "user": {
      "displayName": "河本紘伸",
      "photoUrl": "",
      "userId": "18373138818416241917"
     },
     "user_tz": -540
    },
    "id": "yeF6WvhQoCsf",
    "outputId": "9363dce0-05cb-4649-ce90-41ef6e6a39fd"
   },
   "outputs": [
    {
     "data": {
      "text/plain": [
       "array([13101, 13102, 13103, 13104, 13105, 13106, 13107, 13108, 13109,\n",
       "       13110, 13111, 13112, 13113, 13114, 13115, 13116, 13117, 13118,\n",
       "       13119, 13120, 13121, 13122, 13123, 13201, 13202, 13203, 13204,\n",
       "       13205, 13206, 13207, 13208, 13209, 13210, 13211, 13212, 13213,\n",
       "       13214, 13215, 13218, 13219, 13220, 13221, 13222, 13223, 13224,\n",
       "       13225, 13227, 13228, 13229, 13303, 13305, 13307, 13308, 13361,\n",
       "       13363, 13381, 13401, 13421])"
      ]
     },
     "execution_count": 122,
     "metadata": {
      "tags": []
     },
     "output_type": "execute_result"
    }
   ],
   "source": [
    "test[\"MunicipalityCode\"].unique()"
   ]
  },
  {
   "cell_type": "code",
   "execution_count": 0,
   "metadata": {
    "colab": {
     "base_uri": "https://localhost:8080/",
     "height": 726
    },
    "colab_type": "code",
    "executionInfo": {
     "elapsed": 43702,
     "status": "ok",
     "timestamp": 1585801467718,
     "user": {
      "displayName": "河本紘伸",
      "photoUrl": "",
      "userId": "18373138818416241917"
     },
     "user_tz": -540
    },
    "id": "FeCHuMIwmsZ8",
    "outputId": "83867a1e-6967-4df0-f34c-5778ff8b3f38"
   },
   "outputs": [
    {
     "data": {
      "text/plain": [
       "id                        int64\n",
       "Type                      int64\n",
       "Region                   object\n",
       "MunicipalityCode          int64\n",
       "Prefecture               object\n",
       "Municipality             object\n",
       "DistrictName             object\n",
       "NearestStation           object\n",
       "TimeToNearestStation     object\n",
       "FloorPlan                object\n",
       "Area                     object\n",
       "LandShape                object\n",
       "Frontage                float64\n",
       "TotalFloorArea          float64\n",
       "BuildingYear            float64\n",
       "Structure                object\n",
       "Purpose                  object\n",
       "Direction                object\n",
       "Classification           object\n",
       "Breadth                 float64\n",
       "CityPlanning             object\n",
       "CoverageRatio           float64\n",
       "FloorAreaRatio          float64\n",
       "Period                    int64\n",
       "Renovation               object\n",
       "Remarks                   int64\n",
       "SalePrice               float64\n",
       "YearBuilt               float64\n",
       "その他                     float64\n",
       "事務所                     float64\n",
       "住宅                      float64\n",
       "作業場                     float64\n",
       "倉庫                      float64\n",
       "共同                      float64\n",
       "工場                      float64\n",
       "店舗                      float64\n",
       "秘密                      float64\n",
       "駐車                      float64\n",
       "dtype: object"
      ]
     },
     "execution_count": 123,
     "metadata": {
      "tags": []
     },
     "output_type": "execute_result"
    }
   ],
   "source": [
    "train.dtypes"
   ]
  },
  {
   "cell_type": "code",
   "execution_count": 0,
   "metadata": {
    "colab": {},
    "colab_type": "code",
    "id": "nK9XzQhxqjzL"
   },
   "outputs": [],
   "source": []
  },
  {
   "cell_type": "code",
   "execution_count": 0,
   "metadata": {
    "colab": {},
    "colab_type": "code",
    "id": "1CxS--ffrYOO"
   },
   "outputs": [],
   "source": []
  },
  {
   "cell_type": "markdown",
   "metadata": {
    "colab_type": "text",
    "id": "KZsWG9goUFvW"
   },
   "source": [
    "# Region"
   ]
  },
  {
   "cell_type": "code",
   "execution_count": 0,
   "metadata": {
    "colab": {
     "base_uri": "https://localhost:8080/",
     "height": 35
    },
    "colab_type": "code",
    "executionInfo": {
     "elapsed": 43696,
     "status": "ok",
     "timestamp": 1585801467719,
     "user": {
      "displayName": "河本紘伸",
      "photoUrl": "",
      "userId": "18373138818416241917"
     },
     "user_tz": -540
    },
    "id": "sCUMQ7Sbj7Lr",
    "outputId": "72d7a6cc-b002-4dc0-ee67-f5b390ba825a"
   },
   "outputs": [
    {
     "data": {
      "text/plain": [
       "array([nan, '商業地', '住宅地', '工業地', '宅地見込地'], dtype=object)"
      ]
     },
     "execution_count": 124,
     "metadata": {
      "tags": []
     },
     "output_type": "execute_result"
    }
   ],
   "source": [
    "train[\"Region\"].unique()"
   ]
  },
  {
   "cell_type": "code",
   "execution_count": 0,
   "metadata": {
    "colab": {},
    "colab_type": "code",
    "id": "nZFsU4IJcXZ6"
   },
   "outputs": [],
   "source": [
    "train[\"Region\"] = train[\"Region\"].astype(str)"
   ]
  },
  {
   "cell_type": "code",
   "execution_count": 0,
   "metadata": {
    "colab": {},
    "colab_type": "code",
    "id": "haVSQEnxhxeX"
   },
   "outputs": [],
   "source": [
    "test[\"Region\"] = test[\"Region\"].astype(str)"
   ]
  },
  {
   "cell_type": "code",
   "execution_count": 0,
   "metadata": {
    "colab": {
     "base_uri": "https://localhost:8080/",
     "height": 126
    },
    "colab_type": "code",
    "executionInfo": {
     "elapsed": 43644,
     "status": "ok",
     "timestamp": 1585801467719,
     "user": {
      "displayName": "河本紘伸",
      "photoUrl": "",
      "userId": "18373138818416241917"
     },
     "user_tz": -540
    },
    "id": "K3GT7nahcwjo",
    "outputId": "fe814f13-1e08-48ae-b09b-24b995ddfca5"
   },
   "outputs": [
    {
     "data": {
      "text/plain": [
       "住宅地      174754\n",
       "nan      159404\n",
       "商業地       20524\n",
       "工業地        1202\n",
       "宅地見込地       442\n",
       "Name: Region, dtype: int64"
      ]
     },
     "execution_count": 127,
     "metadata": {
      "tags": []
     },
     "output_type": "execute_result"
    }
   ],
   "source": [
    "train[\"Region\"].value_counts()"
   ]
  },
  {
   "cell_type": "code",
   "execution_count": 0,
   "metadata": {
    "colab": {},
    "colab_type": "code",
    "id": "El7SXc97kc_Q"
   },
   "outputs": [],
   "source": [
    "train[\"Region\"] = train[\"Region\"].replace(\"nan\", \"1\")\n",
    "train[\"Region\"] = train[\"Region\"].replace(\"商業地\", \"2\")\n",
    "train[\"Region\"] = train[\"Region\"].replace(\"住宅地\", \"1\")\n",
    "train[\"Region\"] = train[\"Region\"].replace(\"工業地\", \"3\")\n",
    "train[\"Region\"] = train[\"Region\"].replace(\"宅地見込地\", \"4\")"
   ]
  },
  {
   "cell_type": "code",
   "execution_count": 0,
   "metadata": {
    "colab": {},
    "colab_type": "code",
    "id": "w3OvGC8STbpe"
   },
   "outputs": [],
   "source": [
    "train[\"Region\"] = train[\"Region\"].astype(int)"
   ]
  },
  {
   "cell_type": "code",
   "execution_count": 0,
   "metadata": {
    "colab": {},
    "colab_type": "code",
    "id": "9VDQsvhq9LBS"
   },
   "outputs": [],
   "source": [
    "test[\"Region\"] = test[\"Region\"].replace(\"nan\", \"1\")\n",
    "test[\"Region\"] = test[\"Region\"].replace(\"商業地\", \"2\")\n",
    "test[\"Region\"] = test[\"Region\"].replace(\"住宅地\", \"1\")\n",
    "test[\"Region\"] = test[\"Region\"].replace(\"工業地\", \"3\")\n",
    "test[\"Region\"] = test[\"Region\"].replace(\"宅地見込地\", \"4\")"
   ]
  },
  {
   "cell_type": "code",
   "execution_count": 0,
   "metadata": {
    "colab": {},
    "colab_type": "code",
    "id": "8o3D9N7gTgJN"
   },
   "outputs": [],
   "source": [
    "test[\"Region\"] = test[\"Region\"].astype(int)"
   ]
  },
  {
   "cell_type": "code",
   "execution_count": 0,
   "metadata": {
    "colab": {},
    "colab_type": "code",
    "id": "KZbTh7HDro2S"
   },
   "outputs": [],
   "source": [
    "train[\"Region\"] = train[\"Region\"].replace(0, np.nan)\n",
    "test[\"Region\"] = test[\"Region\"].replace(0, np.nan)"
   ]
  },
  {
   "cell_type": "code",
   "execution_count": 0,
   "metadata": {
    "colab": {
     "base_uri": "https://localhost:8080/",
     "height": 297
    },
    "colab_type": "code",
    "executionInfo": {
     "elapsed": 44766,
     "status": "ok",
     "timestamp": 1585801468857,
     "user": {
      "displayName": "河本紘伸",
      "photoUrl": "",
      "userId": "18373138818416241917"
     },
     "user_tz": -540
    },
    "id": "TPqgAtW8iSIQ",
    "outputId": "58cf5cd6-29ff-473c-aa32-552e5f120b25"
   },
   "outputs": [
    {
     "data": {
      "text/plain": [
       "Text(0, 0.5, 'SalePrice')"
      ]
     },
     "execution_count": 133,
     "metadata": {
      "tags": []
     },
     "output_type": "execute_result"
    },
    {
     "data": {
      "image/png": "[encoded data removed]",
      "text/plain": [
       "<Figure size 432x288 with 1 Axes>"
      ]
     },
     "metadata": {
      "tags": []
     },
     "output_type": "display_data"
    }
   ],
   "source": [
    "plt.figure\n",
    "plt.scatter(train[\"Region\"],train[\"SalePrice\"])\n",
    "plt.xlabel(\"Region\")\n",
    "plt.ylabel(\"SalePrice\")"
   ]
  },
  {
   "cell_type": "code",
   "execution_count": 0,
   "metadata": {
    "colab": {},
    "colab_type": "code",
    "id": "-fFXKGumiSEr"
   },
   "outputs": [],
   "source": []
  },
  {
   "cell_type": "code",
   "execution_count": 0,
   "metadata": {
    "colab": {},
    "colab_type": "code",
    "id": "Vztjy_gejpbe"
   },
   "outputs": [],
   "source": []
  },
  {
   "cell_type": "code",
   "execution_count": 0,
   "metadata": {
    "colab": {},
    "colab_type": "code",
    "id": "kw-TVCMR2tG2"
   },
   "outputs": [],
   "source": [
    "train = train.drop([\"Prefecture\"],axis=1)\n",
    "test = test.drop([\"Prefecture\"],axis=1)"
   ]
  },
  {
   "cell_type": "code",
   "execution_count": 0,
   "metadata": {
    "colab": {},
    "colab_type": "code",
    "id": "G8vtUSvOgvN-"
   },
   "outputs": [],
   "source": []
  },
  {
   "cell_type": "code",
   "execution_count": 0,
   "metadata": {
    "colab": {
     "base_uri": "https://localhost:8080/",
     "height": 163
    },
    "colab_type": "code",
    "executionInfo": {
     "elapsed": 44756,
     "status": "ok",
     "timestamp": 1585801468860,
     "user": {
      "displayName": "河本紘伸",
      "photoUrl": "",
      "userId": "18373138818416241917"
     },
     "user_tz": -540
    },
    "id": "W74j0qC6gvWO",
    "outputId": "13757bf7-1bb3-4db5-8096-53d71c9836ee"
   },
   "outputs": [
    {
     "data": {
      "text/plain": [
       "array(['千代田区', '中央区', '港区', '新宿区', '文京区', '台東区', '墨田区', '江東区', '品川区',\n",
       "       '目黒区', '大田区', '世田谷区', '渋谷区', '中野区', '杉並区', '豊島区', '北区', '荒川区',\n",
       "       '板橋区', '練馬区', '足立区', '葛飾区', '江戸川区', '八王子市', '立川市', '武蔵野市', '三鷹市',\n",
       "       '青梅市', '府中市', '昭島市', '調布市', '町田市', '小金井市', '小平市', '日野市', '東村山市',\n",
       "       '国分寺市', '国立市', '福生市', '狛江市', '東大和市', '清瀬市', '東久留米市', '武蔵村山市',\n",
       "       '多摩市', '稲城市', '羽村市', 'あきる野市', '西東京市', '西多摩郡瑞穂町', '西多摩郡日の出町',\n",
       "       '西多摩郡檜原村', '西多摩郡奥多摩町', '大島町', '新島村', '神津島村', '三宅村', '八丈町', '小笠原村'],\n",
       "      dtype=object)"
      ]
     },
     "execution_count": 135,
     "metadata": {
      "tags": []
     },
     "output_type": "execute_result"
    }
   ],
   "source": [
    "train[\"Municipality\"].unique()"
   ]
  },
  {
   "cell_type": "code",
   "execution_count": 0,
   "metadata": {
    "colab": {
     "base_uri": "https://localhost:8080/",
     "height": 35
    },
    "colab_type": "code",
    "executionInfo": {
     "elapsed": 45394,
     "status": "ok",
     "timestamp": 1585801469500,
     "user": {
      "displayName": "河本紘伸",
      "photoUrl": "",
      "userId": "18373138818416241917"
     },
     "user_tz": -540
    },
    "id": "FUArE5Db223-",
    "outputId": "cd113ebf-5a1e-4adf-950b-83dd7e231e4c"
   },
   "outputs": [
    {
     "data": {
      "text/plain": [
       "0"
      ]
     },
     "execution_count": 136,
     "metadata": {
      "tags": []
     },
     "output_type": "execute_result"
    }
   ],
   "source": [
    "train[\"Municipality\"].isnull().sum()"
   ]
  },
  {
   "cell_type": "code",
   "execution_count": 0,
   "metadata": {
    "colab": {},
    "colab_type": "code",
    "id": "B2ExZmUD-wJw"
   },
   "outputs": [],
   "source": [
    "le = LabelEncoder()\n",
    "le.fit(train[\"Municipality\"])\n",
    "train[\"Municipality\"] = le.transform(train[\"Municipality\"])\n",
    "test[\"Municipality\"] = le.transform(test[\"Municipality\"])"
   ]
  },
  {
   "cell_type": "code",
   "execution_count": 0,
   "metadata": {
    "colab": {},
    "colab_type": "code",
    "id": "zdY5lg52-wGO"
   },
   "outputs": [],
   "source": []
  },
  {
   "cell_type": "code",
   "execution_count": 0,
   "metadata": {
    "colab": {
     "base_uri": "https://localhost:8080/",
     "height": 35
    },
    "colab_type": "code",
    "executionInfo": {
     "elapsed": 45390,
     "status": "ok",
     "timestamp": 1585801469502,
     "user": {
      "displayName": "河本紘伸",
      "photoUrl": "",
      "userId": "18373138818416241917"
     },
     "user_tz": -540
    },
    "id": "9bOTh_Dr-wCV",
    "outputId": "a9e7d355-df10-43bd-fad2-3dec1585ed56"
   },
   "outputs": [
    {
     "data": {
      "text/plain": [
       "array(['飯田橋', '一番町', '岩本町', ..., '大字長岡下師岡', '切欠', '字金長'], dtype=object)"
      ]
     },
     "execution_count": 138,
     "metadata": {
      "tags": []
     },
     "output_type": "execute_result"
    }
   ],
   "source": [
    "train[\"DistrictName\"].unique()"
   ]
  },
  {
   "cell_type": "code",
   "execution_count": 0,
   "metadata": {
    "colab": {
     "base_uri": "https://localhost:8080/",
     "height": 35
    },
    "colab_type": "code",
    "executionInfo": {
     "elapsed": 45388,
     "status": "ok",
     "timestamp": 1585801469502,
     "user": {
      "displayName": "河本紘伸",
      "photoUrl": "",
      "userId": "18373138818416241917"
     },
     "user_tz": -540
    },
    "id": "VWZCk19BAdLW",
    "outputId": "01941493-11d1-4d1a-e315-4434eb58f22f"
   },
   "outputs": [
    {
     "data": {
      "text/plain": [
       "array(['飯田橋', '一番町', '岩本町', ..., '三根', '父島', '母島'], dtype=object)"
      ]
     },
     "execution_count": 139,
     "metadata": {
      "tags": []
     },
     "output_type": "execute_result"
    }
   ],
   "source": [
    "test[\"DistrictName\"].unique()"
   ]
  },
  {
   "cell_type": "code",
   "execution_count": 0,
   "metadata": {
    "colab": {
     "base_uri": "https://localhost:8080/",
     "height": 35
    },
    "colab_type": "code",
    "executionInfo": {
     "elapsed": 45386,
     "status": "ok",
     "timestamp": 1585801469502,
     "user": {
      "displayName": "河本紘伸",
      "photoUrl": "",
      "userId": "18373138818416241917"
     },
     "user_tz": -540
    },
    "id": "LthOqdPK_0y2",
    "outputId": "eef4e663-6541-44b7-bc25-ae4759251e66"
   },
   "outputs": [
    {
     "data": {
      "text/plain": [
       "246"
      ]
     },
     "execution_count": 140,
     "metadata": {
      "tags": []
     },
     "output_type": "execute_result"
    }
   ],
   "source": [
    "train[\"DistrictName\"].isnull().sum()"
   ]
  },
  {
   "cell_type": "code",
   "execution_count": 0,
   "metadata": {
    "colab": {
     "base_uri": "https://localhost:8080/",
     "height": 235
    },
    "colab_type": "code",
    "executionInfo": {
     "elapsed": 45385,
     "status": "ok",
     "timestamp": 1585801469503,
     "user": {
      "displayName": "河本紘伸",
      "photoUrl": "",
      "userId": "18373138818416241917"
     },
     "user_tz": -540
    },
    "id": "BBB8s5fXi6tj",
    "outputId": "21a22874-a92c-4264-bd29-473fbe4a9435"
   },
   "outputs": [
    {
     "data": {
      "text/plain": [
       "0         飯田橋\n",
       "1         飯田橋\n",
       "2         飯田橋\n",
       "3         飯田橋\n",
       "4         飯田橋\n",
       "         ... \n",
       "356321     父島\n",
       "356322     父島\n",
       "356323     母島\n",
       "356324     母島\n",
       "356325     母島\n",
       "Name: DistrictName, Length: 356080, dtype: object"
      ]
     },
     "execution_count": 141,
     "metadata": {
      "tags": []
     },
     "output_type": "execute_result"
    }
   ],
   "source": [
    "train[\"DistrictName\"].dropna()"
   ]
  },
  {
   "cell_type": "code",
   "execution_count": 0,
   "metadata": {
    "colab": {
     "base_uri": "https://localhost:8080/",
     "height": 35
    },
    "colab_type": "code",
    "executionInfo": {
     "elapsed": 45382,
     "status": "ok",
     "timestamp": 1585801469503,
     "user": {
      "displayName": "河本紘伸",
      "photoUrl": "",
      "userId": "18373138818416241917"
     },
     "user_tz": -540
    },
    "id": "28D-dLlCivFu",
    "outputId": "3ad354b2-664b-4bec-dc5c-9bf1010ab7b3"
   },
   "outputs": [
    {
     "data": {
      "text/plain": [
       "0"
      ]
     },
     "execution_count": 142,
     "metadata": {
      "tags": []
     },
     "output_type": "execute_result"
    }
   ],
   "source": [
    "test[\"DistrictName\"].isnull().sum()"
   ]
  },
  {
   "cell_type": "code",
   "execution_count": 0,
   "metadata": {
    "colab": {},
    "colab_type": "code",
    "id": "ASmTjJTq_6jW"
   },
   "outputs": [],
   "source": [
    "le = LabelEncoder()\n",
    "le.fit(train[\"DistrictName\"].fillna(\"NA\"))\n",
    "train[\"DistrictName\"] = le.transform(train[\"DistrictName\"].fillna(\"NA\"))\n",
    "test[\"DistrictName\"] = le.transform(test[\"DistrictName\"].fillna(\"NA\"))"
   ]
  },
  {
   "cell_type": "code",
   "execution_count": 0,
   "metadata": {
    "colab": {},
    "colab_type": "code",
    "id": "IgxaAlFttWdZ"
   },
   "outputs": [],
   "source": []
  },
  {
   "cell_type": "code",
   "execution_count": 0,
   "metadata": {
    "colab": {
     "base_uri": "https://localhost:8080/",
     "height": 1000
    },
    "colab_type": "code",
    "executionInfo": {
     "elapsed": 45376,
     "status": "ok",
     "timestamp": 1585801469504,
     "user": {
      "displayName": "河本紘伸",
      "photoUrl": "",
      "userId": "18373138818416241917"
     },
     "user_tz": -540
    },
    "id": "1Gle_dOy_0rz",
    "outputId": "88e9d2e0-8882-465d-b7d9-2612325bea5a"
   },
   "outputs": [
    {
     "data": {
      "text/plain": [
       "array(['飯田橋', '九段下', '水道橋', '麹町', '半蔵門', '秋葉原', '岩本町', '神田(東京)', '小伝馬町',\n",
       "       '新日本橋', '馬喰町', '大手町(東京)', '小川町(東京)', '溜池山王', '淡路町', '新御茶ノ水', '浅草橋',\n",
       "       '神保町', '御茶ノ水', '竹橋', '四ツ谷', '市ケ谷', '末広町(東京)', '湯島', '永田町', '馬喰横山',\n",
       "       '日比谷', '新富町(東京)', '築地', '八丁堀(東京)', '勝どき', '京橋(東京)', '宝町(東京)', '東京',\n",
       "       '銀座', '銀座一丁目', '汐留', '新橋', '築地市場', '東銀座', '茅場町', '月島', '日本橋(東京)',\n",
       "       '水天宮前', '人形町', '三越前', '浜町', '東日本橋', '青山一丁目', '赤坂(東京)', '赤坂見附',\n",
       "       '乃木坂', '六本木', '麻布十番', '神谷町', '六本木一丁目', '芝浦ふ頭', '竹芝', '田町(東京)',\n",
       "       '浜松町', '日の出', '表参道', '外苑前', '北品川', '品川', '天王洲アイル', nan, '赤羽橋',\n",
       "       '芝公園', '大門(東京)', '三田(東京)', '泉岳寺', '御成門', '白金台', '白金高輪', '広尾',\n",
       "       '高輪台', '目黒', '内幸町', 'お台場海浜公園', '虎ノ門', '曙橋', '四谷三丁目', '江戸川橋', '神楽坂',\n",
       "       '牛込柳町', '牛込神楽坂', '早稲田(メトロ)', '新大久保', '高田馬場', '西早稲田', '東新宿', '新宿',\n",
       "       '新宿三丁目', '落合(東京)', '下落合', '中井', '東中野', '若松河田', '大久保(東京)', '中野坂上',\n",
       "       '西新宿', '信濃町', '椎名町', '目白', '新宿御苑前', '国立競技場', '千駄ケ谷', '新井薬師前',\n",
       "       '落合南長崎', '新江古田', '東長崎', '新宿西口', '都庁前', '西新宿五丁目', '初台', '面影橋',\n",
       "       '早稲田(都電)', '西武新宿', '大塚(東京)', '護国寺', '新大塚', '東池袋', '茗荷谷', '春日(東京)',\n",
       "       '後楽園', '根津', '巣鴨', '千石', '千駄木', '田端', '東大前', '西日暮里', '本駒込',\n",
       "       '白山(東京)', '本郷三丁目', '駒込', '雑司が谷(東京メトロ)', '上野広小路', '御徒町',\n",
       "       '浅草(東武・都営・メトロ)', '浅草(つくばＥＸＰ)', '三ノ輪', '蔵前', '南千住', '入谷(東京)', '上野',\n",
       "       '仲御徒町', '鶯谷', '田原町(東京)', '稲荷町(東京)', '新御徒町', '日暮里', '上野御徒町',\n",
       "       'とうきょうスカイツリー', '本所吾妻橋', '錦糸町', '両国', '押上', '曳舟', '菊川(東京)',\n",
       "       '森下(東京)', '小村井', '京成曳舟', '住吉(東京)', '鐘ケ淵', '東向島', '堀切', '八広', '亀戸',\n",
       "       '東あずま', '平井(東京)', '有明テニスの森', '国際展示場', '清澄白河', '門前仲町', '潮見', '豊洲',\n",
       "       '越中島', '大島(東京)', '西大島', '東大島', '亀戸水神', '木場', '南砂町', '東陽町',\n",
       "       '東雲(東京)', '辰巳', '新木場', '新豊洲', '荏原中延', '洗足', '戸越銀座', '西小山', '不動前',\n",
       "       '武蔵小山', '大井町', '大森(東京)', '下神明', '立会川', '西大井', '大崎', '大崎広小路', '五反田',\n",
       "       '戸越', '大井競馬場前', '鮫洲', '恵比寿', '新馬場', '戸越公園', '中延', '荏原町', '馬込',\n",
       "       '旗の台', '北千束', '長原(東京)', '青物横丁', '品川シーサイド', '大森海岸', '池尻大橋', '渋谷',\n",
       "       '神泉', '代官山', '中目黒', '大岡山', '都立大学', '緑が丘(東京)', '駒場東大前', '学芸大学',\n",
       "       '駒沢大学', '祐天寺', '自由が丘(東京)', '多摩川', '洗足池', '池上', '西馬込', '蓮沼', '武蔵新田',\n",
       "       '矢口渡', '石川台', '雪が谷大塚', '鵜の木', '久が原', '沼部', '大森町', '平和島', '梅屋敷(東京)',\n",
       "       '蒲田', '昭和島', '穴守稲荷', '大鳥居', '京急蒲田', '御嶽山', '千鳥町', '下丸子', '流通センター',\n",
       "       '雑色', '九品仏', '田園調布', '六郷土手', '糀谷', '天空橋', '経堂', '豪徳寺', '下高井戸',\n",
       "       '松原(東京)', '池ノ上', '成城学園前', '国会議事堂前', '二子玉川', '梅ケ丘', '松陰神社前',\n",
       "       '祖師ケ谷大蔵', '千歳船橋', '用賀', '笹塚', '下北沢', '新代田', '代田橋', '奥沢', '尾山台',\n",
       "       '千歳烏山', '八幡山', '芦花公園', '三軒茶屋', '若林(東京)', '上北沢', '桜上水', '仙川', '上野毛',\n",
       "       '等々力', '桜新町', '久我山', '富士見ケ丘', '三鷹台', '東北沢', '和泉多摩川', '喜多見', '宮の坂',\n",
       "       '上町', '西太子堂', '世田谷', '世田谷代田', '東松原', '明大前', '代々木上原', '代々木八幡',\n",
       "       '明治神宮前', '代々木公園', '幡ケ谷', '北参道', '原宿', '代々木', '参宮橋', '南新宿',\n",
       "       '中野(東京)', '沼袋', '野方', '鷺ノ宮', '下井草', '中村橋', '富士見台', '都立家政', '阿佐ケ谷',\n",
       "       '新中野', '中野富士見町', '東高円寺', '高円寺', '中野新橋', '方南町', '荻窪', '新高円寺',\n",
       "       '南阿佐ケ谷', '井荻', '上井草', '永福町', '西荻窪', '京成上野', '西永福', '高井戸', '浜田山',\n",
       "       '上石神井', '吉祥寺', '池袋', '要町', '北池袋', '板橋', '下板橋', '千川', '巣鴨新田', '西巣鴨',\n",
       "       '新庚申塚', '学習院下', '有楽町', '赤羽', '赤羽岩淵', '北赤羽', '志村坂上', '十条(東京)',\n",
       "       '本蓮沼', '浮間舟渡', '王子', '王子神谷', '東十条', '板橋本町', '尾久', '梶原', '上中里',\n",
       "       '志茂', '栄町(東京)', '荒川車庫前', '飛鳥山', '新板橋', '滝野川一丁目', '西ケ原', '西ケ原四丁目',\n",
       "       '赤土小学校前', '新三河島', '荒川一中前', '荒川区役所前', '荒川七丁目', '荒川二丁目', '町屋',\n",
       "       '町屋二丁目', '三河島', '荒川遊園地前', '小台', '熊野前', '宮ノ前', '東尾久三丁目', '京成関屋',\n",
       "       '千住大橋', '三ノ輪橋', '志村三丁目', '蓮根', '下赤塚', '新高島平', '地下鉄赤塚', '地下鉄成増',\n",
       "       '成増', '西高島平', '板橋区役所前', '大山(東京)', '西台', '小竹向原', '中板橋', 'ときわ台(東京)',\n",
       "       '江戸川', '上板橋', '東武練馬', '高島平', '江古田', '光が丘', '大泉学園', '石神井公園', '和光市',\n",
       "       '豊島園', '練馬春日町', '平和台(東京)', '武蔵関', '練馬', '新桜台', '桜台(東京)', '氷川台',\n",
       "       '練馬高野台', '青海(東京)', '東伏見', '保谷', '有明(東京)', '青井', '五反野', '六町', '小菅',\n",
       "       '綾瀬', '北綾瀬', '竹ノ塚', '舎人公園', '西新井', '舎人', '見沼代親水公園', '梅島', '扇大橋',\n",
       "       '江北', '高野(東京)', '大師前', '亀有', '足立小台', '谷在家', '北千住', '西新井大師西', '八潮',\n",
       "       '牛田(東京)', '谷塚', '青砥', 'お花茶屋', '京成立石', '小岩', '新小岩', '金町', '京成金町',\n",
       "       '柴又', '京成小岩', '京成高砂', '新柴又', '堀切菖蒲園', '四ツ木', '一之江', '船堀', '瑞江',\n",
       "       '葛西', '篠崎', '西葛西', '葛西臨海公園', '京王八王子', '豊田', '八王子', '北八王子', '小宮',\n",
       "       '西八王子', '高尾(東京)', '片倉', '北野(東京)', '京王片倉', '八王子みなみ野', '大塚・帝京大学',\n",
       "       '京王多摩センター', '中央大学・明星大学', '松が谷', 'めじろ台', '東秋留', '山下(東京)', '武蔵五日市',\n",
       "       '南大沢', '長沼(東京)', '狭間', '山田(東京)', '京王堀之内', '武蔵小杉', '平山城址公園', '高尾山口',\n",
       "       '秋川', '相原', '多摩境', '国立', '高松(東京)', '立川', '西国立', '西武立川', '武蔵砂川',\n",
       "       '泉体育館', '柴崎体育館', '砂川七番', '玉川上水', '東大和市', '立飛', '立川南', '拝島', '西立川',\n",
       "       '鷹の台', '三鷹', '井の頭公園', '武蔵小金井', '武蔵境', '東小金井', '新小金井', '多磨', '調布',\n",
       "       '西調布', 'つつじケ丘', '青梅', '小作', '河辺', '宮ノ平', '東青梅', '御嶽', '飯能', '石神前',\n",
       "       '日向和田', '軍畑', '二俣尾', '白糸台', '武蔵野台', '飛田給', '府中(東京)', '府中本町',\n",
       "       '分倍河原', '西国分寺', '谷保', '北府中', '競艇場前', '多磨霊園', '是政', '東府中', '国分寺',\n",
       "       '中河原', '西府', '府中競馬正門前', '中神', '東中神', '昭島', '京王多摩川', '柴崎', '国領',\n",
       "       '布田', '鬼子母神前', '狛江', '矢野口', '相模原', '橋本(神奈川)', '古淵', '町田', '柿生',\n",
       "       '鶴川', 'すずかけ台', 'つくし野', '成瀬', '小田急永山', '唐木田', '黒川(神奈川)', '京王永山',\n",
       "       '淵野辺', '矢部', '玉川学園前', '南町田', '小田急多摩センター', 'こどもの国(神奈川)', '向原(東京)',\n",
       "       '栗平', '聖蹟桜ケ丘', '小平', '青梅街道', '小川(東京)', '新小平', '萩山', '八坂(東京)',\n",
       "       '一橋学園', '恋ケ窪', '花小金井', '日野(東京)', '高幡不動', '百草園', '甲州街道', '万願寺',\n",
       "       '南平', '多摩動物公園', '程久保', '秋津', '清瀬', '久米川', '新秋津', '東村山', '所沢',\n",
       "       '西武園', '西武遊園地', '武蔵大和', '矢川', '牛浜', '羽村', '福生', '熊川', '東福生', '庚申塚',\n",
       "       '上北台', '桜街道', '新座', '東久留米', 'ひばりケ丘(東京)', '田無', '都電雑司ケ谷', '箱根ケ崎',\n",
       "       '桜ケ丘', '多摩センター', '稲城', '稲城長沼', '南多摩', '若葉台', '京王よみうりランド', '新百合ケ丘',\n",
       "       '武蔵増戸', '武蔵引田', '川口元郷', '南鳩ケ谷', '西武柳沢', '東池袋四丁目', '奥多摩', '川井',\n",
       "       '古里(東京)', '白丸', '鳩ノ巣', '浦安(千葉)', '町屋駅前', '沢井', '長津田', '舞浜', '遊園地西',\n",
       "       '東所沢'], dtype=object)"
      ]
     },
     "execution_count": 144,
     "metadata": {
      "tags": []
     },
     "output_type": "execute_result"
    }
   ],
   "source": [
    "train[\"NearestStation\"].unique()"
   ]
  },
  {
   "cell_type": "code",
   "execution_count": 0,
   "metadata": {
    "colab": {
     "base_uri": "https://localhost:8080/",
     "height": 35
    },
    "colab_type": "code",
    "executionInfo": {
     "elapsed": 45373,
     "status": "ok",
     "timestamp": 1585801469504,
     "user": {
      "displayName": "河本紘伸",
      "photoUrl": "",
      "userId": "18373138818416241917"
     },
     "user_tz": -540
    },
    "id": "vMax9XF0CTGl",
    "outputId": "42c35730-8a37-4e0a-86fe-d78bfc212902"
   },
   "outputs": [
    {
     "data": {
      "text/plain": [
       "34844"
      ]
     },
     "execution_count": 145,
     "metadata": {
      "tags": []
     },
     "output_type": "execute_result"
    }
   ],
   "source": [
    "len(test[\"NearestStation\"])"
   ]
  },
  {
   "cell_type": "code",
   "execution_count": 0,
   "metadata": {
    "colab": {
     "base_uri": "https://localhost:8080/",
     "height": 35
    },
    "colab_type": "code",
    "executionInfo": {
     "elapsed": 45371,
     "status": "ok",
     "timestamp": 1585801469505,
     "user": {
      "displayName": "河本紘伸",
      "photoUrl": "",
      "userId": "18373138818416241917"
     },
     "user_tz": -540
    },
    "id": "UijSQFBoREHv",
    "outputId": "e834741c-6201-4a14-9cb7-5816efbda2b9"
   },
   "outputs": [
    {
     "data": {
      "text/plain": [
       "356326"
      ]
     },
     "execution_count": 146,
     "metadata": {
      "tags": []
     },
     "output_type": "execute_result"
    }
   ],
   "source": [
    "len(train[\"NearestStation\"])"
   ]
  },
  {
   "cell_type": "markdown",
   "metadata": {
    "colab_type": "text",
    "id": "njJlcnbGUsYv"
   },
   "source": [
    "# test の欠損値　確かめ\n",
    "なかったら　train 削除"
   ]
  },
  {
   "cell_type": "code",
   "execution_count": 0,
   "metadata": {
    "colab": {
     "base_uri": "https://localhost:8080/",
     "height": 35
    },
    "colab_type": "code",
    "executionInfo": {
     "elapsed": 45369,
     "status": "ok",
     "timestamp": 1585801469505,
     "user": {
      "displayName": "河本紘伸",
      "photoUrl": "",
      "userId": "18373138818416241917"
     },
     "user_tz": -540
    },
    "id": "ImKkjqdIAr4L",
    "outputId": "a486270b-0901-4ec0-c75f-925867ceb1c2"
   },
   "outputs": [
    {
     "data": {
      "text/plain": [
       "1550"
      ]
     },
     "execution_count": 147,
     "metadata": {
      "tags": []
     },
     "output_type": "execute_result"
    }
   ],
   "source": [
    "train[\"NearestStation\"].isnull().sum()"
   ]
  },
  {
   "cell_type": "code",
   "execution_count": 0,
   "metadata": {
    "colab": {
     "base_uri": "https://localhost:8080/",
     "height": 35
    },
    "colab_type": "code",
    "executionInfo": {
     "elapsed": 46028,
     "status": "ok",
     "timestamp": 1585801470168,
     "user": {
      "displayName": "河本紘伸",
      "photoUrl": "",
      "userId": "18373138818416241917"
     },
     "user_tz": -540
    },
    "id": "c_GlZWvgtah2",
    "outputId": "40530baa-edd7-41d7-e9e6-767b534145d3"
   },
   "outputs": [
    {
     "data": {
      "text/plain": [
       "array(['改装済', '未改装', nan], dtype=object)"
      ]
     },
     "execution_count": 148,
     "metadata": {
      "tags": []
     },
     "output_type": "execute_result"
    }
   ],
   "source": [
    "train[\"Renovation\"].unique()"
   ]
  },
  {
   "cell_type": "code",
   "execution_count": 0,
   "metadata": {
    "colab": {},
    "colab_type": "code",
    "id": "dfinwqd2UjXf"
   },
   "outputs": [],
   "source": [
    "train = train.dropna(subset=[\"NearestStation\"])"
   ]
  },
  {
   "cell_type": "code",
   "execution_count": 0,
   "metadata": {
    "colab": {
     "base_uri": "https://localhost:8080/",
     "height": 35
    },
    "colab_type": "code",
    "executionInfo": {
     "elapsed": 46025,
     "status": "ok",
     "timestamp": 1585801470169,
     "user": {
      "displayName": "河本紘伸",
      "photoUrl": "",
      "userId": "18373138818416241917"
     },
     "user_tz": -540
    },
    "id": "M1_MYNJlj_EM",
    "outputId": "b68cfdd9-9f20-4608-e9fb-01eae64b2800"
   },
   "outputs": [
    {
     "data": {
      "text/plain": [
       "137"
      ]
     },
     "execution_count": 150,
     "metadata": {
      "tags": []
     },
     "output_type": "execute_result"
    }
   ],
   "source": [
    "test[\"NearestStation\"].isnull().sum()"
   ]
  },
  {
   "cell_type": "code",
   "execution_count": 0,
   "metadata": {
    "colab": {},
    "colab_type": "code",
    "id": "-iXC1cDKt6_P"
   },
   "outputs": [],
   "source": [
    "test = test.fillna(method='ffill')"
   ]
  },
  {
   "cell_type": "code",
   "execution_count": 0,
   "metadata": {
    "colab": {
     "base_uri": "https://localhost:8080/",
     "height": 235
    },
    "colab_type": "code",
    "executionInfo": {
     "elapsed": 46022,
     "status": "ok",
     "timestamp": 1585801470170,
     "user": {
      "displayName": "河本紘伸",
      "photoUrl": "",
      "userId": "18373138818416241917"
     },
     "user_tz": -540
    },
    "id": "6QOfSSMauBYH",
    "outputId": "5aca5ac0-bd1a-42f3-ada4-dcd3fbadb4cf"
   },
   "outputs": [
    {
     "data": {
      "text/plain": [
       "八王子        318\n",
       "新小岩        265\n",
       "大森(東京)     231\n",
       "大泉学園       225\n",
       "国立         220\n",
       "          ... \n",
       "新御茶ノ水        1\n",
       "学習院下         1\n",
       "上野御徒町        1\n",
       "黒川(神奈川)      1\n",
       "早稲田(都電)      1\n",
       "Name: NearestStation, Length: 626, dtype: int64"
      ]
     },
     "execution_count": 152,
     "metadata": {
      "tags": []
     },
     "output_type": "execute_result"
    }
   ],
   "source": [
    "test[\"NearestStation\"].value_counts()"
   ]
  },
  {
   "cell_type": "code",
   "execution_count": 0,
   "metadata": {
    "colab": {
     "base_uri": "https://localhost:8080/",
     "height": 235
    },
    "colab_type": "code",
    "executionInfo": {
     "elapsed": 46020,
     "status": "ok",
     "timestamp": 1585801470170,
     "user": {
      "displayName": "河本紘伸",
      "photoUrl": "",
      "userId": "18373138818416241917"
     },
     "user_tz": -540
    },
    "id": "sm1EGIQ3kHE-",
    "outputId": "0a8f5885-e057-468f-9992-bdd6eef001cc"
   },
   "outputs": [
    {
     "data": {
      "text/plain": [
       "八王子       3315\n",
       "大泉学園      3020\n",
       "新小岩       2927\n",
       "金町        2306\n",
       "三鷹        2182\n",
       "          ... \n",
       "東所沢          2\n",
       "青海(東京)       1\n",
       "遊園地西         1\n",
       "桜ケ丘          1\n",
       "武蔵小杉         1\n",
       "Name: NearestStation, Length: 655, dtype: int64"
      ]
     },
     "execution_count": 153,
     "metadata": {
      "tags": []
     },
     "output_type": "execute_result"
    }
   ],
   "source": [
    "train[\"NearestStation\"].value_counts()"
   ]
  },
  {
   "cell_type": "code",
   "execution_count": 0,
   "metadata": {
    "colab": {},
    "colab_type": "code",
    "id": "t9zbEdSGGxE7"
   },
   "outputs": [],
   "source": [
    "all_data = pd.concat([train, test], ignore_index=True)"
   ]
  },
  {
   "cell_type": "code",
   "execution_count": 0,
   "metadata": {
    "colab": {},
    "colab_type": "code",
    "id": "VwznVE41Ar1U"
   },
   "outputs": [],
   "source": [
    "le = LabelEncoder()\n",
    "le.fit(all_data[\"NearestStation\"].fillna(\"NA\"))\n",
    "all_data[\"NearestStation\"] = le.transform(all_data[\"NearestStation\"].fillna(\"NA\"))"
   ]
  },
  {
   "cell_type": "code",
   "execution_count": 0,
   "metadata": {
    "colab": {},
    "colab_type": "code",
    "id": "ccLqRnRoIJeH"
   },
   "outputs": [],
   "source": [
    "train = all_data.iloc[:train.shape[0],:]\n",
    "test = all_data.iloc[train.shape[0]:,:]"
   ]
  },
  {
   "cell_type": "code",
   "execution_count": 0,
   "metadata": {
    "colab": {},
    "colab_type": "code",
    "id": "NlEV2HLioOUP"
   },
   "outputs": [],
   "source": []
  },
  {
   "cell_type": "code",
   "execution_count": 0,
   "metadata": {
    "colab": {
     "base_uri": "https://localhost:8080/",
     "height": 308
    },
    "colab_type": "code",
    "executionInfo": {
     "elapsed": 46437,
     "status": "ok",
     "timestamp": 1585801470600,
     "user": {
      "displayName": "河本紘伸",
      "photoUrl": "",
      "userId": "18373138818416241917"
     },
     "user_tz": -540
    },
    "id": "yqyHlyWmRfpI",
    "outputId": "3265108e-f442-45fc-bf18-8f373517cec9"
   },
   "outputs": [
    {
     "data": {
      "text/plain": [
       "array(['55', '20', '45', '80', '70', '50', '85', '210', '105', '65', '25',\n",
       "       '75', '100', '220', '30', '35', '115', '60', '95', '40', '110',\n",
       "       '1200', '230', '125', '15', '170', '90', '300', '165', '200',\n",
       "       '155', '180', '150', '480', '190', '120', '130', '510', '310',\n",
       "       '195', '10', '260', '650', '500', '330', '140', '135', '380',\n",
       "       '410', '270', '360', '730', '420', '280', '590', '560', '175',\n",
       "       '145', '350', '460', '780', '1700', '240', '185', '160', '870',\n",
       "       '540', '1000', '2000㎡以上', '290', '340', '530', '580', '390', '610',\n",
       "       '1400', '1300', '490', '430', '400', '320', '940', '370', '980',\n",
       "       '670', '1100', '910', '450', '660', '630', '1800', '470', '440',\n",
       "       '250', '520', '550', '820', '1600', '640', '690', '840', '700',\n",
       "       '850', '1500', '570', '900', '620', '920', '790', '890', '750',\n",
       "       '960', '720', '950', '970', '830', '760', '710', '680', '740',\n",
       "       '930', '600', '860', '800', '990', '770', '810', '880', '1900',\n",
       "       '4000', '2200', '2100', '5000㎡以上', '3800', '2700', '2000', '2800',\n",
       "       '3000', '3200', '3500'], dtype=object)"
      ]
     },
     "execution_count": 157,
     "metadata": {
      "tags": []
     },
     "output_type": "execute_result"
    }
   ],
   "source": [
    "all_data[\"Area\"].unique()"
   ]
  },
  {
   "cell_type": "code",
   "execution_count": 0,
   "metadata": {
    "colab": {},
    "colab_type": "code",
    "id": "M-97VsshUrQo"
   },
   "outputs": [],
   "source": [
    "all_data = pd.concat([train, test], ignore_index=True)"
   ]
  },
  {
   "cell_type": "code",
   "execution_count": 0,
   "metadata": {
    "colab": {},
    "colab_type": "code",
    "id": "Y_-aICqGRflO"
   },
   "outputs": [],
   "source": [
    "all_data[\"Area\"] = all_data[\"Area\"].replace(\"2000㎡以上\", \"2000\", regex=False)\n",
    "all_data[\"Area\"] = all_data[\"Area\"].replace(\"5000㎡以上\", \"5000\", regex=False)"
   ]
  },
  {
   "cell_type": "code",
   "execution_count": 0,
   "metadata": {
    "colab": {},
    "colab_type": "code",
    "id": "NZ8oTBnAVSlS"
   },
   "outputs": [],
   "source": [
    "all_data[\"Area\"] = all_data[\"Area\"].astype(int)"
   ]
  },
  {
   "cell_type": "code",
   "execution_count": 0,
   "metadata": {
    "colab": {},
    "colab_type": "code",
    "id": "6ZDIJ5ahRfiU"
   },
   "outputs": [],
   "source": [
    "train = all_data.iloc[:train.shape[0],:]\n",
    "test = all_data.iloc[train.shape[0]:,:]"
   ]
  },
  {
   "cell_type": "code",
   "execution_count": 0,
   "metadata": {
    "colab": {},
    "colab_type": "code",
    "id": "7yIIXD9zRffX"
   },
   "outputs": [],
   "source": []
  },
  {
   "cell_type": "code",
   "execution_count": 0,
   "metadata": {
    "colab": {},
    "colab_type": "code",
    "id": "oZkw2p5VYiJ6"
   },
   "outputs": [],
   "source": []
  },
  {
   "cell_type": "markdown",
   "metadata": {
    "colab_type": "text",
    "id": "ghYX2q86UzMc"
   },
   "source": [
    "#City planning"
   ]
  },
  {
   "cell_type": "code",
   "execution_count": 0,
   "metadata": {
    "colab": {
     "base_uri": "https://localhost:8080/",
     "height": 35
    },
    "colab_type": "code",
    "executionInfo": {
     "elapsed": 46425,
     "status": "ok",
     "timestamp": 1585801470603,
     "user": {
      "displayName": "河本紘伸",
      "photoUrl": "",
      "userId": "18373138818416241917"
     },
     "user_tz": -540
    },
    "id": "epnJXCXvalE5",
    "outputId": "120af433-30bd-4d79-b55c-0bac1191be8a"
   },
   "outputs": [
    {
     "data": {
      "text/plain": [
       "2684"
      ]
     },
     "execution_count": 162,
     "metadata": {
      "tags": []
     },
     "output_type": "execute_result"
    }
   ],
   "source": [
    "all_data[\"CityPlanning\"].isnull().sum()"
   ]
  },
  {
   "cell_type": "code",
   "execution_count": 0,
   "metadata": {
    "colab": {
     "base_uri": "https://localhost:8080/",
     "height": 35
    },
    "colab_type": "code",
    "executionInfo": {
     "elapsed": 46422,
     "status": "ok",
     "timestamp": 1585801470603,
     "user": {
      "displayName": "河本紘伸",
      "photoUrl": "",
      "userId": "18373138818416241917"
     },
     "user_tz": -540
    },
    "id": "LXsjVMdRpU8I",
    "outputId": "632d6c51-719c-40cc-cbf0-5b032563a366"
   },
   "outputs": [
    {
     "data": {
      "text/plain": [
       "2684"
      ]
     },
     "execution_count": 163,
     "metadata": {
      "tags": []
     },
     "output_type": "execute_result"
    }
   ],
   "source": [
    "train[\"CityPlanning\"].isnull().sum()"
   ]
  },
  {
   "cell_type": "code",
   "execution_count": 0,
   "metadata": {
    "colab": {},
    "colab_type": "code",
    "id": "xTB-FjRspsJX"
   },
   "outputs": [],
   "source": [
    "train = train.dropna(subset=[\"CityPlanning\"])"
   ]
  },
  {
   "cell_type": "code",
   "execution_count": 0,
   "metadata": {
    "colab": {},
    "colab_type": "code",
    "id": "SgltlohvYdGE"
   },
   "outputs": [],
   "source": [
    "all_data = pd.concat([train, test], ignore_index=True)"
   ]
  },
  {
   "cell_type": "code",
   "execution_count": 0,
   "metadata": {
    "colab": {
     "base_uri": "https://localhost:8080/",
     "height": 326
    },
    "colab_type": "code",
    "executionInfo": {
     "elapsed": 46883,
     "status": "ok",
     "timestamp": 1585801471070,
     "user": {
      "displayName": "河本紘伸",
      "photoUrl": "",
      "userId": "18373138818416241917"
     },
     "user_tz": -540
    },
    "id": "I3g1FH-Hyx4e",
    "outputId": "ada158d7-2ad6-45f8-f4dc-23758c9f77f7"
   },
   "outputs": [
    {
     "data": {
      "text/plain": [
       "第１種低層住居専用地域               89479\n",
       "商業地域                      61841\n",
       "第１種中高層住居専用地域              50859\n",
       "準工業地域                     48767\n",
       "第１種住居地域                   38652\n",
       "近隣商業地域                    33418\n",
       "第２種中高層住居専用地域               8754\n",
       "第２種住居地域                    7217\n",
       "工業地域                       4790\n",
       "準住居地域                      4776\n",
       "第２種低層住居専用地域                2548\n",
       "市街化調整区域                     602\n",
       "工業専用地域                      266\n",
       "都市計画区域外                     120\n",
       "準都市計画区域                       2\n",
       "市街化区域及び市街化調整区域外の都市計画区域        1\n",
       "Name: CityPlanning, dtype: int64"
      ]
     },
     "execution_count": 166,
     "metadata": {
      "tags": []
     },
     "output_type": "execute_result"
    }
   ],
   "source": [
    "train[\"CityPlanning\"].value_counts()"
   ]
  },
  {
   "cell_type": "code",
   "execution_count": 0,
   "metadata": {
    "colab": {
     "base_uri": "https://localhost:8080/",
     "height": 326
    },
    "colab_type": "code",
    "executionInfo": {
     "elapsed": 46880,
     "status": "ok",
     "timestamp": 1585801471070,
     "user": {
      "displayName": "河本紘伸",
      "photoUrl": "",
      "userId": "18373138818416241917"
     },
     "user_tz": -540
    },
    "id": "XtS-DqZO1QE3",
    "outputId": "40a0af86-d2a9-48c3-bed6-5ffbc79bcd9c"
   },
   "outputs": [
    {
     "data": {
      "text/plain": [
       "第１種低層住居専用地域               8254\n",
       "商業地域                      6678\n",
       "準工業地域                     5077\n",
       "第１種中高層住居専用地域              4646\n",
       "第１種住居地域                   3802\n",
       "近隣商業地域                    3517\n",
       "第２種中高層住居専用地域               829\n",
       "第２種住居地域                    659\n",
       "工業地域                       535\n",
       "準住居地域                      425\n",
       "第２種低層住居専用地域                241\n",
       "市街化区域及び市街化調整区域外の都市計画区域      84\n",
       "市街化調整区域                     49\n",
       "工業専用地域                      23\n",
       "都市計画区域外                     22\n",
       "準都市計画区域                      3\n",
       "Name: CityPlanning, dtype: int64"
      ]
     },
     "execution_count": 167,
     "metadata": {
      "tags": []
     },
     "output_type": "execute_result"
    }
   ],
   "source": [
    "test[\"CityPlanning\"].value_counts()"
   ]
  },
  {
   "cell_type": "code",
   "execution_count": 0,
   "metadata": {
    "colab": {
     "base_uri": "https://localhost:8080/",
     "height": 90
    },
    "colab_type": "code",
    "executionInfo": {
     "elapsed": 46879,
     "status": "ok",
     "timestamp": 1585801471071,
     "user": {
      "displayName": "河本紘伸",
      "photoUrl": "",
      "userId": "18373138818416241917"
     },
     "user_tz": -540
    },
    "id": "ao-tSS3ZctSQ",
    "outputId": "aeb2f541-b455-4831-e384-dea19a17a255"
   },
   "outputs": [
    {
     "data": {
      "text/plain": [
       "array(['商業地域', '第１種住居地域', '第２種住居地域', '準工業地域', '準住居地域', '第１種中高層住居専用地域',\n",
       "       '第２種中高層住居専用地域', '近隣商業地域', '第１種低層住居専用地域', '第２種低層住居専用地域', '工業地域',\n",
       "       '工業専用地域', '市街化調整区域', '準都市計画区域', '都市計画区域外',\n",
       "       '市街化区域及び市街化調整区域外の都市計画区域'], dtype=object)"
      ]
     },
     "execution_count": 168,
     "metadata": {
      "tags": []
     },
     "output_type": "execute_result"
    }
   ],
   "source": [
    "train[\"CityPlanning\"].unique()"
   ]
  },
  {
   "cell_type": "code",
   "execution_count": 0,
   "metadata": {
    "colab": {
     "base_uri": "https://localhost:8080/",
     "height": 90
    },
    "colab_type": "code",
    "executionInfo": {
     "elapsed": 46876,
     "status": "ok",
     "timestamp": 1585801471071,
     "user": {
      "displayName": "河本紘伸",
      "photoUrl": "",
      "userId": "18373138818416241917"
     },
     "user_tz": -540
    },
    "id": "FAL63mLYX57b",
    "outputId": "c1345655-ba97-40b5-8411-8561c7509679"
   },
   "outputs": [
    {
     "data": {
      "text/plain": [
       "array(['商業地域', '第１種住居地域', '第２種住居地域', '準工業地域', '準住居地域', '第１種中高層住居専用地域',\n",
       "       '第２種中高層住居専用地域', '近隣商業地域', '第１種低層住居専用地域', '第２種低層住居専用地域', '工業地域',\n",
       "       '工業専用地域', '市街化調整区域', '準都市計画区域', '都市計画区域外',\n",
       "       '市街化区域及び市街化調整区域外の都市計画区域'], dtype=object)"
      ]
     },
     "execution_count": 169,
     "metadata": {
      "tags": []
     },
     "output_type": "execute_result"
    }
   ],
   "source": [
    "all_data[\"CityPlanning\"].unique()"
   ]
  },
  {
   "cell_type": "code",
   "execution_count": 0,
   "metadata": {
    "colab": {},
    "colab_type": "code",
    "id": "_X7H8j6HX5yZ"
   },
   "outputs": [],
   "source": [
    "le = LabelEncoder()\n",
    "le.fit(all_data[\"CityPlanning\"].fillna(\"NA\"))\n",
    "all_data[\"CityPlanning\"] = le.transform(all_data[\"CityPlanning\"].fillna(\"NA\"))"
   ]
  },
  {
   "cell_type": "code",
   "execution_count": 0,
   "metadata": {
    "colab": {},
    "colab_type": "code",
    "id": "TUxd-MjLb0nv"
   },
   "outputs": [],
   "source": [
    "train = all_data.iloc[:train.shape[0],:]\n",
    "test = all_data.iloc[train.shape[0]:,:]"
   ]
  },
  {
   "cell_type": "code",
   "execution_count": 0,
   "metadata": {
    "colab": {},
    "colab_type": "code",
    "id": "yE1hg-snb0jN"
   },
   "outputs": [],
   "source": []
  },
  {
   "cell_type": "code",
   "execution_count": 0,
   "metadata": {
    "colab": {},
    "colab_type": "code",
    "id": "Im0pQXDqU7Nt"
   },
   "outputs": [],
   "source": []
  },
  {
   "cell_type": "code",
   "execution_count": 0,
   "metadata": {
    "colab": {},
    "colab_type": "code",
    "id": "PF0ak126zfuy"
   },
   "outputs": [],
   "source": [
    "all_data = pd.concat([train, test], ignore_index=True)"
   ]
  },
  {
   "cell_type": "code",
   "execution_count": 0,
   "metadata": {
    "colab": {
     "base_uri": "https://localhost:8080/",
     "height": 283
    },
    "colab_type": "code",
    "executionInfo": {
     "elapsed": 47429,
     "status": "ok",
     "timestamp": 1585801471668,
     "user": {
      "displayName": "河本紘伸",
      "photoUrl": "",
      "userId": "18373138818416241917"
     },
     "user_tz": -540
    },
    "id": "MJvn2he1zifX",
    "outputId": "c4ca8c70-c83c-4901-acec-ef6d478ab21d"
   },
   "outputs": [
    {
     "data": {
      "text/plain": [
       "<matplotlib.axes._subplots.AxesSubplot at 0x7f70c703f908>"
      ]
     },
     "execution_count": 173,
     "metadata": {
      "tags": []
     },
     "output_type": "execute_result"
    },
    {
     "data": {
      "image/png": "[encoded data removed]",
      "text/plain": [
       "<Figure size 432x288 with 1 Axes>"
      ]
     },
     "metadata": {
      "tags": []
     },
     "output_type": "display_data"
    }
   ],
   "source": [
    "all_data[\"Breadth\"].hist()"
   ]
  },
  {
   "cell_type": "code",
   "execution_count": 0,
   "metadata": {
    "colab": {},
    "colab_type": "code",
    "id": "3QXZBpmC1w97"
   },
   "outputs": [],
   "source": [
    "all_data[\"Classification\"] = all_data[\"Classification\"].replace(\"区道\", 1)\n",
    "all_data[\"Classification\"] = all_data[\"Classification\"].replace(\"都道\", 2)\n",
    "all_data[\"Classification\"] = all_data[\"Classification\"].replace(\"国道\", 3)\n",
    "all_data[\"Classification\"] = all_data[\"Classification\"].replace(\"道路\", 4)\n",
    "all_data[\"Classification\"] = all_data[\"Classification\"].replace(\"区画街路\", 5)\n",
    "all_data[\"Classification\"] = all_data[\"Classification\"].replace(\"市道\", 6)\n",
    "all_data[\"Classification\"] = all_data[\"Classification\"].replace(\"私道\", 7)\n",
    "all_data[\"Classification\"] = all_data[\"Classification\"].replace(\"町道\", 8)\n",
    "all_data[\"Classification\"] = all_data[\"Classification\"].replace(\"村道\", 9)\n",
    "all_data[\"Classification\"] = all_data[\"Classification\"].replace(\"道道\", 10)\n",
    "all_data[\"Classification\"] = all_data[\"Classification\"].replace(\"県道\", 11)\n",
    "all_data[\"Classification\"] = all_data[\"Classification\"].replace(\"農道\", 12)\n",
    "all_data[\"Classification\"] = all_data[\"Classification\"].replace(\"林道\", 13)\n",
    "all_data[\"Classification\"] = all_data[\"Classification\"].replace(\"府道\", 14)"
   ]
  },
  {
   "cell_type": "code",
   "execution_count": 0,
   "metadata": {
    "colab": {
     "base_uri": "https://localhost:8080/",
     "height": 297
    },
    "colab_type": "code",
    "executionInfo": {
     "elapsed": 48086,
     "status": "ok",
     "timestamp": 1585801472329,
     "user": {
      "displayName": "河本紘伸",
      "photoUrl": "",
      "userId": "18373138818416241917"
     },
     "user_tz": -540
    },
    "id": "4H8DIjmGz8wN",
    "outputId": "ef33a087-788d-4ccb-add6-5def72c6284d"
   },
   "outputs": [
    {
     "data": {
      "text/plain": [
       "Text(0, 0.5, 'SalePrice')"
      ]
     },
     "execution_count": 175,
     "metadata": {
      "tags": []
     },
     "output_type": "execute_result"
    },
    {
     "data": {
      "image/png": "[encoded data removed]",
      "text/plain": [
       "<Figure size 432x288 with 1 Axes>"
      ]
     },
     "metadata": {
      "tags": []
     },
     "output_type": "display_data"
    }
   ],
   "source": [
    "plt.figure()\n",
    "plt.scatter(all_data[\"Classification\"],all_data[\"SalePrice\"])\n",
    "plt.xlabel(\"Classification\")\n",
    "plt.ylabel(\"SalePrice\")"
   ]
  },
  {
   "cell_type": "code",
   "execution_count": 0,
   "metadata": {
    "colab": {},
    "colab_type": "code",
    "id": "2bzC89LbgD4G"
   },
   "outputs": [],
   "source": [
    "train = all_data.iloc[:train.shape[0],:]\n",
    "test = all_data.iloc[train.shape[0]:,:]"
   ]
  },
  {
   "cell_type": "code",
   "execution_count": 0,
   "metadata": {
    "colab": {
     "base_uri": "https://localhost:8080/",
     "height": 297
    },
    "colab_type": "code",
    "executionInfo": {
     "elapsed": 49308,
     "status": "ok",
     "timestamp": 1585801473555,
     "user": {
      "displayName": "河本紘伸",
      "photoUrl": "",
      "userId": "18373138818416241917"
     },
     "user_tz": -540
    },
    "id": "sJLB9En-fGmq",
    "outputId": "f3c6ec75-9fab-4ef8-904b-e7522f9303d5"
   },
   "outputs": [
    {
     "data": {
      "text/plain": [
       "Text(0, 0.5, 'SalePrice')"
      ]
     },
     "execution_count": 177,
     "metadata": {
      "tags": []
     },
     "output_type": "execute_result"
    },
    {
     "data": {
      "image/png": "[encoded data removed]",
      "text/plain": [
       "<Figure size 432x288 with 1 Axes>"
      ]
     },
     "metadata": {
      "tags": []
     },
     "output_type": "display_data"
    }
   ],
   "source": [
    "train = train.drop(train[(train[\"Classification\"]>12) & (train['SalePrice']>7)].index)\n",
    "train = train.drop(train[(train[\"Classification\"]==12) & (train['SalePrice']<-2)].index)\n",
    "\n",
    "all_data = pd.concat([train, test], ignore_index=True)\n",
    "\n",
    "plt.figure()\n",
    "plt.scatter(all_data[\"Classification\"],all_data[\"SalePrice\"])\n",
    "plt.xlabel(\"Classification\")\n",
    "plt.ylabel(\"SalePrice\")"
   ]
  },
  {
   "cell_type": "code",
   "execution_count": 0,
   "metadata": {
    "colab": {},
    "colab_type": "code",
    "id": "7WwyKpbN_I0D"
   },
   "outputs": [],
   "source": [
    "all_data[\"Classification\"] = all_data[\"Classification\"].fillna(method=\"ffill\")"
   ]
  },
  {
   "cell_type": "code",
   "execution_count": 0,
   "metadata": {
    "colab": {},
    "colab_type": "code",
    "id": "Iqdw-fG6E6tZ"
   },
   "outputs": [],
   "source": [
    "all_data[\"Classification\"] = all_data[\"Classification\"].fillna(1)"
   ]
  },
  {
   "cell_type": "code",
   "execution_count": 0,
   "metadata": {
    "colab": {},
    "colab_type": "code",
    "id": "Y5tTxZkg8lx6"
   },
   "outputs": [],
   "source": [
    "train = all_data.iloc[:train.shape[0],:]\n",
    "test = all_data.iloc[train.shape[0]:,:]"
   ]
  },
  {
   "cell_type": "markdown",
   "metadata": {
    "colab_type": "text",
    "id": "aTlyS1VcU7st"
   },
   "source": [
    "# Classification"
   ]
  },
  {
   "cell_type": "code",
   "execution_count": 0,
   "metadata": {
    "colab": {},
    "colab_type": "code",
    "id": "gYEsbYYu0U-m"
   },
   "outputs": [],
   "source": []
  },
  {
   "cell_type": "code",
   "execution_count": 0,
   "metadata": {
    "colab": {
     "base_uri": "https://localhost:8080/",
     "height": 290
    },
    "colab_type": "code",
    "executionInfo": {
     "elapsed": 49298,
     "status": "ok",
     "timestamp": 1585801473557,
     "user": {
      "displayName": "河本紘伸",
      "photoUrl": "",
      "userId": "18373138818416241917"
     },
     "user_tz": -540
    },
    "id": "5UPrSdJhwVlc",
    "outputId": "fff739bc-f3da-4f78-acbf-93776d033137"
   },
   "outputs": [
    {
     "data": {
      "text/plain": [
       "1.0     183384\n",
       "7.0      93773\n",
       "6.0      73517\n",
       "2.0      18620\n",
       "4.0       9676\n",
       "3.0       4277\n",
       "8.0       1532\n",
       "5.0       1162\n",
       "9.0        384\n",
       "12.0       183\n",
       "11.0       165\n",
       "13.0       128\n",
       "10.0       121\n",
       "14.0        12\n",
       "Name: Classification, dtype: int64"
      ]
     },
     "execution_count": 181,
     "metadata": {
      "tags": []
     },
     "output_type": "execute_result"
    }
   ],
   "source": [
    "all_data[\"Classification\"].value_counts()"
   ]
  },
  {
   "cell_type": "code",
   "execution_count": 0,
   "metadata": {
    "colab": {
     "base_uri": "https://localhost:8080/",
     "height": 35
    },
    "colab_type": "code",
    "executionInfo": {
     "elapsed": 49296,
     "status": "ok",
     "timestamp": 1585801473558,
     "user": {
      "displayName": "河本紘伸",
      "photoUrl": "",
      "userId": "18373138818416241917"
     },
     "user_tz": -540
    },
    "id": "CGWFHvkMyPOB",
    "outputId": "93a44303-33c5-42ec-8166-67a99f58a52f"
   },
   "outputs": [
    {
     "data": {
      "text/plain": [
       "0"
      ]
     },
     "execution_count": 182,
     "metadata": {
      "tags": []
     },
     "output_type": "execute_result"
    }
   ],
   "source": [
    "all_data[\"Classification\"].isnull().sum()"
   ]
  },
  {
   "cell_type": "code",
   "execution_count": 0,
   "metadata": {
    "colab": {
     "base_uri": "https://localhost:8080/",
     "height": 35
    },
    "colab_type": "code",
    "executionInfo": {
     "elapsed": 49256,
     "status": "ok",
     "timestamp": 1585801473558,
     "user": {
      "displayName": "河本紘伸",
      "photoUrl": "",
      "userId": "18373138818416241917"
     },
     "user_tz": -540
    },
    "id": "Y-FFIDvKyW5G",
    "outputId": "508746fa-e9db-4907-dffc-3c73194fa9d7"
   },
   "outputs": [
    {
     "data": {
      "text/plain": [
       "0"
      ]
     },
     "execution_count": 183,
     "metadata": {
      "tags": []
     },
     "output_type": "execute_result"
    }
   ],
   "source": [
    "train[\"Classification\"].isnull().sum()"
   ]
  },
  {
   "cell_type": "code",
   "execution_count": 0,
   "metadata": {
    "colab": {
     "base_uri": "https://localhost:8080/",
     "height": 35
    },
    "colab_type": "code",
    "executionInfo": {
     "elapsed": 49231,
     "status": "ok",
     "timestamp": 1585801473558,
     "user": {
      "displayName": "河本紘伸",
      "photoUrl": "",
      "userId": "18373138818416241917"
     },
     "user_tz": -540
    },
    "id": "8c2f2EN-yWvh",
    "outputId": "ba96f338-a558-47c8-e351-2698f4a1df91"
   },
   "outputs": [
    {
     "data": {
      "text/plain": [
       "0"
      ]
     },
     "execution_count": 184,
     "metadata": {
      "tags": []
     },
     "output_type": "execute_result"
    }
   ],
   "source": [
    "test[\"Classification\"].isnull().sum()"
   ]
  },
  {
   "cell_type": "code",
   "execution_count": 0,
   "metadata": {
    "colab": {
     "base_uri": "https://localhost:8080/",
     "height": 272
    },
    "colab_type": "code",
    "executionInfo": {
     "elapsed": 49229,
     "status": "ok",
     "timestamp": 1585801473559,
     "user": {
      "displayName": "河本紘伸",
      "photoUrl": "",
      "userId": "18373138818416241917"
     },
     "user_tz": -540
    },
    "id": "ydFlntkbr27F",
    "outputId": "058072c3-b5a1-4e1c-c90a-cb0710ca2496"
   },
   "outputs": [
    {
     "data": {
      "text/plain": [
       "1.0     17162\n",
       "7.0      8057\n",
       "6.0      6283\n",
       "2.0      1660\n",
       "4.0      1033\n",
       "3.0       417\n",
       "8.0       115\n",
       "5.0        84\n",
       "9.0        18\n",
       "10.0        8\n",
       "13.0        5\n",
       "12.0        1\n",
       "14.0        1\n",
       "Name: Classification, dtype: int64"
      ]
     },
     "execution_count": 185,
     "metadata": {
      "tags": []
     },
     "output_type": "execute_result"
    }
   ],
   "source": [
    "test[\"Classification\"].value_counts()"
   ]
  },
  {
   "cell_type": "code",
   "execution_count": 0,
   "metadata": {
    "colab": {},
    "colab_type": "code",
    "id": "2TjM6T-QmJyG"
   },
   "outputs": [],
   "source": [
    "all_data = pd.concat([train, test], ignore_index=True)"
   ]
  },
  {
   "cell_type": "code",
   "execution_count": 0,
   "metadata": {
    "colab": {},
    "colab_type": "code",
    "id": "uGl6ReK9b0cf"
   },
   "outputs": [],
   "source": [
    "train = all_data.iloc[:train.shape[0],:]\n",
    "test = all_data.iloc[train.shape[0]:,:]"
   ]
  },
  {
   "cell_type": "code",
   "execution_count": 0,
   "metadata": {
    "colab": {},
    "colab_type": "code",
    "id": "FI8I1v1ZRfby"
   },
   "outputs": [],
   "source": []
  },
  {
   "cell_type": "code",
   "execution_count": 0,
   "metadata": {
    "colab": {
     "base_uri": "https://localhost:8080/",
     "height": 35
    },
    "colab_type": "code",
    "executionInfo": {
     "elapsed": 49663,
     "status": "ok",
     "timestamp": 1585801474016,
     "user": {
      "displayName": "河本紘伸",
      "photoUrl": "",
      "userId": "18373138818416241917"
     },
     "user_tz": -540
    },
    "id": "KNFZQBY_zPdn",
    "outputId": "89522ebf-cd72-4774-a964-6f4457475378"
   },
   "outputs": [
    {
     "data": {
      "text/plain": [
       "210096"
      ]
     },
     "execution_count": 188,
     "metadata": {
      "tags": []
     },
     "output_type": "execute_result"
    }
   ],
   "source": [
    "train[\"Renovation\"].isnull().sum()"
   ]
  },
  {
   "cell_type": "code",
   "execution_count": 0,
   "metadata": {
    "colab": {
     "base_uri": "https://localhost:8080/",
     "height": 72
    },
    "colab_type": "code",
    "executionInfo": {
     "elapsed": 49661,
     "status": "ok",
     "timestamp": 1585801474017,
     "user": {
      "displayName": "河本紘伸",
      "photoUrl": "",
      "userId": "18373138818416241917"
     },
     "user_tz": -540
    },
    "id": "PjZWXs8YtoB9",
    "outputId": "74058b6e-940c-4da9-9b10-f3c675544a98"
   },
   "outputs": [
    {
     "data": {
      "text/plain": [
       "未改装    104940\n",
       "改装済     37054\n",
       "Name: Renovation, dtype: int64"
      ]
     },
     "execution_count": 189,
     "metadata": {
      "tags": []
     },
     "output_type": "execute_result"
    }
   ],
   "source": [
    "train[\"Renovation\"].value_counts()"
   ]
  },
  {
   "cell_type": "markdown",
   "metadata": {
    "colab_type": "text",
    "id": "jebLT3x8VDYP"
   },
   "source": [
    "# Direction"
   ]
  },
  {
   "cell_type": "code",
   "execution_count": 0,
   "metadata": {
    "colab": {},
    "colab_type": "code",
    "id": "iDiZgUQLH9nF"
   },
   "outputs": [],
   "source": [
    "all_data = pd.concat([train, test], ignore_index=True)"
   ]
  },
  {
   "cell_type": "code",
   "execution_count": 0,
   "metadata": {
    "colab": {
     "base_uri": "https://localhost:8080/",
     "height": 35
    },
    "colab_type": "code",
    "executionInfo": {
     "elapsed": 49656,
     "status": "ok",
     "timestamp": 1585801474017,
     "user": {
      "displayName": "河本紘伸",
      "photoUrl": "",
      "userId": "18373138818416241917"
     },
     "user_tz": -540
    },
    "id": "ROTpY5E0s1l-",
    "outputId": "f39e5c81-2506-4a26-8c32-ad4db2cc8d4f"
   },
   "outputs": [
    {
     "data": {
      "text/plain": [
       "156559"
      ]
     },
     "execution_count": 191,
     "metadata": {
      "tags": []
     },
     "output_type": "execute_result"
    }
   ],
   "source": [
    "all_data[\"Direction\"].isnull().sum()"
   ]
  },
  {
   "cell_type": "code",
   "execution_count": 0,
   "metadata": {
    "colab": {
     "base_uri": "https://localhost:8080/",
     "height": 35
    },
    "colab_type": "code",
    "executionInfo": {
     "elapsed": 49656,
     "status": "ok",
     "timestamp": 1585801474019,
     "user": {
      "displayName": "河本紘伸",
      "photoUrl": "",
      "userId": "18373138818416241917"
     },
     "user_tz": -540
    },
    "id": "OBoAdI6_pCes",
    "outputId": "788b7ebb-ab03-4395-e10a-893fc3e4d0c1"
   },
   "outputs": [
    {
     "data": {
      "text/plain": [
       "2"
      ]
     },
     "execution_count": 192,
     "metadata": {
      "tags": []
     },
     "output_type": "execute_result"
    }
   ],
   "source": [
    "test[\"Direction\"].isnull().sum()"
   ]
  },
  {
   "cell_type": "code",
   "execution_count": 0,
   "metadata": {
    "colab": {},
    "colab_type": "code",
    "id": "WXuMP2OSth63"
   },
   "outputs": [],
   "source": [
    "all_data[\"Direction\"] = all_data[\"Direction\"].fillna(\"不明\")"
   ]
  },
  {
   "cell_type": "code",
   "execution_count": 0,
   "metadata": {
    "colab": {
     "base_uri": "https://localhost:8080/",
     "height": 199
    },
    "colab_type": "code",
    "executionInfo": {
     "elapsed": 49653,
     "status": "ok",
     "timestamp": 1585801474020,
     "user": {
      "displayName": "河本紘伸",
      "photoUrl": "",
      "userId": "18373138818416241917"
     },
     "user_tz": -540
    },
    "id": "CJ2Pye6Js9MX",
    "outputId": "7593e74d-f72d-4603-9934-91dfc057ec68"
   },
   "outputs": [
    {
     "data": {
      "text/plain": [
       "南        5304\n",
       "西        5103\n",
       "北        4995\n",
       "東        4962\n",
       "南東       3870\n",
       "北西       3450\n",
       "北東       3390\n",
       "南西       3345\n",
       "接面道路無     423\n",
       "Name: Direction, dtype: int64"
      ]
     },
     "execution_count": 194,
     "metadata": {
      "tags": []
     },
     "output_type": "execute_result"
    }
   ],
   "source": [
    "test[\"Direction\"].value_counts()"
   ]
  },
  {
   "cell_type": "code",
   "execution_count": 0,
   "metadata": {
    "colab": {},
    "colab_type": "code",
    "id": "edt1xcVPmmBQ"
   },
   "outputs": [],
   "source": [
    "all_data = pd.concat([train, test], ignore_index=True)"
   ]
  },
  {
   "cell_type": "code",
   "execution_count": 0,
   "metadata": {
    "colab": {
     "base_uri": "https://localhost:8080/",
     "height": 235
    },
    "colab_type": "code",
    "executionInfo": {
     "elapsed": 49649,
     "status": "ok",
     "timestamp": 1585801474020,
     "user": {
      "displayName": "河本紘伸",
      "photoUrl": "",
      "userId": "18373138818416241917"
     },
     "user_tz": -540
    },
    "id": "NXHBrN6g-p6F",
    "outputId": "9905792d-5eaf-4064-d404-a0dafe39b065"
   },
   "outputs": [
    {
     "data": {
      "text/plain": [
       "0         nan\n",
       "1         nan\n",
       "2         nan\n",
       "3         nan\n",
       "4          南西\n",
       "         ... \n",
       "386929     北西\n",
       "386930      北\n",
       "386931     北東\n",
       "386932      南\n",
       "386933     北東\n",
       "Name: Direction, Length: 386934, dtype: object"
      ]
     },
     "execution_count": 196,
     "metadata": {
      "tags": []
     },
     "output_type": "execute_result"
    }
   ],
   "source": [
    "all_data[\"Direction\"].astype(str)"
   ]
  },
  {
   "cell_type": "code",
   "execution_count": 0,
   "metadata": {
    "colab": {
     "base_uri": "https://localhost:8080/",
     "height": 54
    },
    "colab_type": "code",
    "executionInfo": {
     "elapsed": 49647,
     "status": "ok",
     "timestamp": 1585801474020,
     "user": {
      "displayName": "河本紘伸",
      "photoUrl": "",
      "userId": "18373138818416241917"
     },
     "user_tz": -540
    },
    "id": "Vk5b77ISml-V",
    "outputId": "0e722bc8-3cce-4676-cbb2-7a80941b8f6a"
   },
   "outputs": [
    {
     "data": {
      "text/plain": [
       "array([nan, '南西', '北東', '東', '西', '北', '南東', '北西', '南', '接面道路無'],\n",
       "      dtype=object)"
      ]
     },
     "execution_count": 197,
     "metadata": {
      "tags": []
     },
     "output_type": "execute_result"
    }
   ],
   "source": [
    "all_data[\"Direction\"].unique()"
   ]
  },
  {
   "cell_type": "code",
   "execution_count": 0,
   "metadata": {
    "colab": {},
    "colab_type": "code",
    "id": "sug6raIilHSw"
   },
   "outputs": [],
   "source": []
  },
  {
   "cell_type": "code",
   "execution_count": 0,
   "metadata": {
    "colab": {},
    "colab_type": "code",
    "id": "kWZTz7f5JsU3"
   },
   "outputs": [],
   "source": [
    "all_data[\"Direction\"] = all_data[\"Direction\"].replace('接面道路無', 0)\n",
    "all_data[\"Direction\"] = all_data[\"Direction\"].fillna(1)\n",
    "all_data[\"Direction\"] = all_data[\"Direction\"].replace('北', 2)\n",
    "all_data[\"Direction\"] = all_data[\"Direction\"].replace('北東', 3)\n",
    "all_data[\"Direction\"] = all_data[\"Direction\"].replace('東', 4)\n",
    "all_data[\"Direction\"] = all_data[\"Direction\"].replace( '南東', 5)\n",
    "all_data[\"Direction\"] = all_data[\"Direction\"].replace('西', 6)\n",
    "all_data[\"Direction\"] = all_data[\"Direction\"].replace('南西', 7)\n",
    "all_data[\"Direction\"] = all_data[\"Direction\"].replace('南', 8)\n",
    "all_data[\"Direction\"] = all_data[\"Direction\"].replace('北西', 9)"
   ]
  },
  {
   "cell_type": "code",
   "execution_count": 0,
   "metadata": {
    "colab": {
     "base_uri": "https://localhost:8080/",
     "height": 297
    },
    "colab_type": "code",
    "executionInfo": {
     "elapsed": 50680,
     "status": "ok",
     "timestamp": 1585801475059,
     "user": {
      "displayName": "河本紘伸",
      "photoUrl": "",
      "userId": "18373138818416241917"
     },
     "user_tz": -540
    },
    "id": "weyL7tiEhOxf",
    "outputId": "f325d4ac-235a-4129-8d6d-8c72ed4fb1f6"
   },
   "outputs": [
    {
     "data": {
      "text/plain": [
       "Text(0, 0.5, 'SalePrice')"
      ]
     },
     "execution_count": 199,
     "metadata": {
      "tags": []
     },
     "output_type": "execute_result"
    },
    {
     "data": {
      "image/png": "[encoded data removed]",
      "text/plain": [
       "<Figure size 432x288 with 1 Axes>"
      ]
     },
     "metadata": {
      "tags": []
     },
     "output_type": "display_data"
    }
   ],
   "source": [
    "plt.figure()\n",
    "plt.scatter(all_data[\"Direction\"],all_data[\"SalePrice\"])\n",
    "plt.xlabel(\"Direction\")\n",
    "plt.ylabel(\"SalePrice\")"
   ]
  },
  {
   "cell_type": "code",
   "execution_count": 0,
   "metadata": {
    "colab": {},
    "colab_type": "code",
    "id": "S8HeYUaXtLAk"
   },
   "outputs": [],
   "source": []
  },
  {
   "cell_type": "code",
   "execution_count": 0,
   "metadata": {
    "colab": {},
    "colab_type": "code",
    "id": "-CxjLpeAnAyh"
   },
   "outputs": [],
   "source": []
  },
  {
   "cell_type": "code",
   "execution_count": 0,
   "metadata": {
    "colab": {
     "base_uri": "https://localhost:8080/",
     "height": 35
    },
    "colab_type": "code",
    "executionInfo": {
     "elapsed": 51068,
     "status": "ok",
     "timestamp": 1585801475454,
     "user": {
      "displayName": "河本紘伸",
      "photoUrl": "",
      "userId": "18373138818416241917"
     },
     "user_tz": -540
    },
    "id": "eqN71PURz11l",
    "outputId": "9f6b5de7-870b-4adf-bf4e-c5353502c8a0"
   },
   "outputs": [
    {
     "name": "stdout",
     "output_type": "stream",
     "text": [
      "49\n"
     ]
    }
   ],
   "source": [
    "print(len(all_data[\"FloorPlan\"].unique()))"
   ]
  },
  {
   "cell_type": "code",
   "execution_count": 0,
   "metadata": {
    "colab": {
     "base_uri": "https://localhost:8080/",
     "height": 145
    },
    "colab_type": "code",
    "executionInfo": {
     "elapsed": 51065,
     "status": "ok",
     "timestamp": 1585801475454,
     "user": {
      "displayName": "河本紘伸",
      "photoUrl": "",
      "userId": "18373138818416241917"
     },
     "user_tz": -540
    },
    "id": "5bChfOopnAvU",
    "outputId": "ffcc5d1b-6ec3-4395-91e4-a4ff704e0300"
   },
   "outputs": [
    {
     "data": {
      "text/plain": [
       "array(['２ＬＤＫ', '１Ｋ', '１ＬＤＫ', '１Ｒ', nan, '３ＬＤＫ', '１ＤＫ＋Ｓ', '３ＤＫ', '１ＤＫ',\n",
       "       '２ＤＫ', 'オープンフロア', '４ＬＤＫ', '１Ｋ＋Ｓ', '１ＬＤＫ＋Ｓ', '２ＬＤＫ＋Ｓ', 'スタジオ', '２Ｋ',\n",
       "       '２ＤＫ＋Ｓ', '３ＬＤＫ＋Ｓ', '３Ｋ', '４ＤＫ', '５ＬＤＫ＋Ｓ', '７ＬＤＫ', '２Ｋ＋Ｓ', 'メゾネット',\n",
       "       '５ＬＤＫ', '３ＤＫ＋Ｓ', '４Ｋ', '４ＬＤＫ＋Ｓ', '２ＬＤ', '３ＬＫ', '１Ｒ＋Ｓ', '１ＬＫ',\n",
       "       '２ＬＤ＋Ｓ', '５ＤＫ', '１Ｌ', '２ＬＫ＋Ｓ', '６ＬＤＫ', '２ＬＫ', '１Ｌ＋Ｓ', '６ＬＤＫ＋Ｓ',\n",
       "       '６ＤＫ', '４ＤＫ＋Ｓ', '３Ｋ＋Ｓ', '３ＬＤ＋Ｓ', '１ＬＤ＋Ｓ', '３ＬＤ', '２Ｄ', '３ＬＤＫ＋Ｋ'],\n",
       "      dtype=object)"
      ]
     },
     "execution_count": 201,
     "metadata": {
      "tags": []
     },
     "output_type": "execute_result"
    }
   ],
   "source": [
    "all_data[\"FloorPlan\"].unique()"
   ]
  },
  {
   "cell_type": "code",
   "execution_count": 0,
   "metadata": {
    "colab": {
     "base_uri": "https://localhost:8080/",
     "height": 272
    },
    "colab_type": "code",
    "executionInfo": {
     "elapsed": 51064,
     "status": "ok",
     "timestamp": 1585801475455,
     "user": {
      "displayName": "河本紘伸",
      "photoUrl": "",
      "userId": "18373138818416241917"
     },
     "user_tz": -540
    },
    "id": "-kB0oRgWBvbL",
    "outputId": "4f749dc6-b3fe-4c25-db57-af55fdd79f08"
   },
   "outputs": [
    {
     "name": "stdout",
     "output_type": "stream",
     "text": [
      "            id  Type  Region  MunicipalityCode  ...   工場   店舗   秘密   駐車\n",
      "2033      2047     0       1             13102  ...  0.0  0.0  0.0  0.0\n",
      "2865      2881     0       1             13102  ...  0.0  0.0  0.0  0.0\n",
      "4804      4829     0       1             13103  ...  0.0  0.0  0.0  0.0\n",
      "8426      8510     0       1             13103  ...  0.0  0.0  0.0  0.0\n",
      "9613      9698     0       1             13104  ...  0.0  0.0  0.0  0.0\n",
      "...        ...   ...     ...               ...  ...  ...  ...  ...  ...\n",
      "266948  269521     0       1             13117  ...  0.0  0.0  0.0  0.0\n",
      "310581  313729     0       1             13121  ...  0.0  0.0  0.0  0.0\n",
      "310584  313732     0       1             13121  ...  0.0  0.0  0.0  0.0\n",
      "326182  329612     0       1             13123  ...  0.0  0.0  0.0  0.0\n",
      "366650   14561     0       1             13114  ...  0.0  0.0  0.0  0.0\n",
      "\n",
      "[69 rows x 37 columns]\n"
     ]
    }
   ],
   "source": [
    "print(all_data.query('FloorPlan == \"スタジオ\"'))"
   ]
  },
  {
   "cell_type": "code",
   "execution_count": 0,
   "metadata": {
    "colab": {},
    "colab_type": "code",
    "id": "YBj6ih3j72Q-"
   },
   "outputs": [],
   "source": [
    "all_data[\"FloorPlan\"] = all_data[\"FloorPlan\"].astype(str)"
   ]
  },
  {
   "cell_type": "code",
   "execution_count": 0,
   "metadata": {
    "colab": {
     "base_uri": "https://localhost:8080/",
     "height": 35
    },
    "colab_type": "code",
    "executionInfo": {
     "elapsed": 1100,
     "status": "ok",
     "timestamp": 1585801614292,
     "user": {
      "displayName": "河本紘伸",
      "photoUrl": "",
      "userId": "18373138818416241917"
     },
     "user_tz": -540
    },
    "id": "0v87VXtmJBKM",
    "outputId": "be17a61d-c979-4022-8ceb-e9361d476f83"
   },
   "outputs": [
    {
     "data": {
      "text/plain": [
       "200782"
      ]
     },
     "execution_count": 209,
     "metadata": {
      "tags": []
     },
     "output_type": "execute_result"
    }
   ],
   "source": [
    "all_data[\"FloorPlan\"].isnull().sum()"
   ]
  },
  {
   "cell_type": "code",
   "execution_count": 0,
   "metadata": {
    "colab": {},
    "colab_type": "code",
    "id": "KdG3Z2Pq7mfw"
   },
   "outputs": [],
   "source": [
    "all_data[\"FloorPlan\"] = all_data[\"FloorPlan\"].replace('nan', np.nan)"
   ]
  },
  {
   "cell_type": "code",
   "execution_count": 0,
   "metadata": {
    "colab": {},
    "colab_type": "code",
    "id": "ZSDkhnhhIxlC"
   },
   "outputs": [],
   "source": [
    "all_data[\"FloorPlan\"] = all_data[\"FloorPlan\"].str.replace(\"オープンフロア\", \"\")\n",
    "all_data[\"FloorPlan\"] = all_data[\"FloorPlan\"].str.replace(\"メゾネット\", \"\")\n",
    "all_data[\"FloorPlan\"] = all_data[\"FloorPlan\"].str.replace(\"スタジオ\", \"\")"
   ]
  },
  {
   "cell_type": "code",
   "execution_count": 0,
   "metadata": {
    "colab": {},
    "colab_type": "code",
    "id": "V3JqVh3BJki1"
   },
   "outputs": [],
   "source": [
    "all_data[\"FloorPlan\"] = all_data[\"FloorPlan\"].replace(\"\", np.nan)"
   ]
  },
  {
   "cell_type": "code",
   "execution_count": 0,
   "metadata": {
    "colab": {
     "base_uri": "https://localhost:8080/",
     "height": 35
    },
    "colab_type": "code",
    "executionInfo": {
     "elapsed": 1063,
     "status": "ok",
     "timestamp": 1585801751230,
     "user": {
      "displayName": "河本紘伸",
      "photoUrl": "",
      "userId": "18373138818416241917"
     },
     "user_tz": -540
    },
    "id": "Fk4K-LNPJglU",
    "outputId": "d88c44b1-fe42-4b89-ad0f-8b6bff8dd70e"
   },
   "outputs": [
    {
     "data": {
      "text/plain": [
       "202489"
      ]
     },
     "execution_count": 215,
     "metadata": {
      "tags": []
     },
     "output_type": "execute_result"
    }
   ],
   "source": [
    "all_data[\"FloorPlan\"].isnull().sum()"
   ]
  },
  {
   "cell_type": "code",
   "execution_count": 0,
   "metadata": {
    "colab": {},
    "colab_type": "code",
    "id": "zvBya2tp--CJ"
   },
   "outputs": [],
   "source": [
    "all_data[\"FloorPlan\"] = all_data[\"FloorPlan\"].str.replace(\"ＬＤ\", \"+1.5\", regex = False)\n",
    "all_data[\"FloorPlan\"] = all_data[\"FloorPlan\"].str.replace(\"Ｋ\", \"+0.5\", regex = False)\n",
    "all_data[\"FloorPlan\"] = all_data[\"FloorPlan\"].str.replace(\"＋Ｓ\", \"+0.5\", regex = False)"
   ]
  },
  {
   "cell_type": "code",
   "execution_count": 0,
   "metadata": {
    "colab": {},
    "colab_type": "code",
    "id": "nuyv4mwpvPD8"
   },
   "outputs": [],
   "source": [
    "all_data[\"FloorPlan\"] = all_data[\"FloorPlan\"].str.replace(\"Ｌ\", \"+1.5\", regex = False)\n",
    "all_data[\"FloorPlan\"] = all_data[\"FloorPlan\"].str.replace(\"Ｄ\", \"+1.5\", regex = False)\n",
    "all_data[\"FloorPlan\"] = all_data[\"FloorPlan\"].str.replace(\"Ｒ\", \"\", regex = False)\n",
    "all_data[\"FloorPlan\"] = all_data[\"FloorPlan\"].str.replace(\"＋\", \"\", regex = False)"
   ]
  },
  {
   "cell_type": "code",
   "execution_count": 0,
   "metadata": {
    "colab": {},
    "colab_type": "code",
    "id": "JX_U5xRgub1g"
   },
   "outputs": [],
   "source": [
    "all_data[\"FloorPlan\"] = all_data[\"FloorPlan\"].str.replace(\"１\", \"1\", regex = False)\n",
    "all_data[\"FloorPlan\"] = all_data[\"FloorPlan\"].str.replace(\"２\", \"2\", regex = False)\n",
    "all_data[\"FloorPlan\"] = all_data[\"FloorPlan\"].str.replace(\"３\", \"3\", regex = False)\n",
    "all_data[\"FloorPlan\"] = all_data[\"FloorPlan\"].str.replace(\"４\", \"4\", regex = False)\n",
    "all_data[\"FloorPlan\"] = all_data[\"FloorPlan\"].str.replace(\"５\", \"5\", regex = False)\n",
    "all_data[\"FloorPlan\"] = all_data[\"FloorPlan\"].str.replace(\"６\", \"6\", regex = False)\n",
    "all_data[\"FloorPlan\"] = all_data[\"FloorPlan\"].str.replace(\"７\", \"7\", regex = False)\n",
    "all_data[\"FloorPlan\"] = all_data[\"FloorPlan\"].str.replace(\"８\", \"8\", regex = False)\n",
    "all_data[\"FloorPlan\"] = all_data[\"FloorPlan\"].str.replace(\"９\", \"9\", regex = False)"
   ]
  },
  {
   "cell_type": "code",
   "execution_count": 0,
   "metadata": {
    "colab": {},
    "colab_type": "code",
    "id": "F2dptRt4EyhJ"
   },
   "outputs": [],
   "source": [
    "all_data[\"FloorPlan\"] = all_data[\"FloorPlan\"].str.replace(\"1+1.5+0.5+0.5\", \"3.5\", regex = False)\n",
    "all_data[\"FloorPlan\"] = all_data[\"FloorPlan\"].str.replace(\"2+1.5+0.5+0.5\", \"4.5\", regex = False)\n",
    "all_data[\"FloorPlan\"] = all_data[\"FloorPlan\"].str.replace(\"3+1.5+0.5+0.5\", \"5.5\", regex = False)\n",
    "all_data[\"FloorPlan\"] = all_data[\"FloorPlan\"].str.replace(\"5+1.5+0.5+0.5\", \"7.5\", regex = False)\n",
    "all_data[\"FloorPlan\"] = all_data[\"FloorPlan\"].str.replace(\"4+1.5+0.5+0.5\", \"6.5\", regex = False)"
   ]
  },
  {
   "cell_type": "code",
   "execution_count": 0,
   "metadata": {
    "colab": {},
    "colab_type": "code",
    "id": "HTTY8WTFFPPC"
   },
   "outputs": [],
   "source": [
    "all_data[\"FloorPlan\"] = all_data[\"FloorPlan\"].str.replace(\"2+1.5+0.5\", \"4\", regex = False)\n",
    "all_data[\"FloorPlan\"] = all_data[\"FloorPlan\"].str.replace(\"1+1.5+0.5\", \"3\", regex = False)\n",
    "all_data[\"FloorPlan\"] = all_data[\"FloorPlan\"].str.replace(\"3+1.5+0.5\", \"5\", regex = False)\n",
    "all_data[\"FloorPlan\"] = all_data[\"FloorPlan\"].str.replace(\"4+1.5+0.5\", \"6\", regex = False)\n",
    "all_data[\"FloorPlan\"] = all_data[\"FloorPlan\"].str.replace(\"1+0.5+0.5\", \"2\", regex = False)\n",
    "all_data[\"FloorPlan\"] = all_data[\"FloorPlan\"].str.replace(\"7+1.5+0.5\", \"9\", regex = False)\n",
    "all_data[\"FloorPlan\"] = all_data[\"FloorPlan\"].str.replace(\"2+0.5+0.5\", \"3\", regex = False)\n",
    "all_data[\"FloorPlan\"] = all_data[\"FloorPlan\"].str.replace(\"5+1.5+0.5\", \"7\", regex = False)\n",
    "all_data[\"FloorPlan\"] = all_data[\"FloorPlan\"].str.replace(\"6+1.5+0.5\", \"8\", regex = False)\n",
    "all_data[\"FloorPlan\"] = all_data[\"FloorPlan\"].str.replace(\"3+0.5+0.5\", \"4\", regex = False)"
   ]
  },
  {
   "cell_type": "code",
   "execution_count": 0,
   "metadata": {
    "colab": {},
    "colab_type": "code",
    "id": "4yFWmuQf9xWv"
   },
   "outputs": [],
   "source": [
    "all_data[\"FloorPlan\"] = all_data[\"FloorPlan\"].str.replace(\"1+0.5\", \"1.5\", regex = False)\n",
    "all_data[\"FloorPlan\"] = all_data[\"FloorPlan\"].str.replace(\"2+0.5\", \"2.5\", regex = False)\n",
    "all_data[\"FloorPlan\"] = all_data[\"FloorPlan\"].str.replace(\"3+0.5\", \"3.5\", regex = False)\n",
    "all_data[\"FloorPlan\"] = all_data[\"FloorPlan\"].str.replace(\"4+0.5\", \"4.5\", regex = False)\n",
    "all_data[\"FloorPlan\"] = all_data[\"FloorPlan\"].str.replace(\"2+1.5\", \"3.5\", regex = False)\n",
    "all_data[\"FloorPlan\"] = all_data[\"FloorPlan\"].str.replace(\"1+1.5\", \"2.5\", regex = False)"
   ]
  },
  {
   "cell_type": "code",
   "execution_count": 0,
   "metadata": {
    "colab": {},
    "colab_type": "code",
    "id": "bbQ8H051Cd1S"
   },
   "outputs": [],
   "source": [
    "all_data[\"FloorPlan\"] = all_data[\"FloorPlan\"].str.replace(\"3+1.5\", \"4.5\", regex = False)\n",
    "all_data[\"FloorPlan\"] = all_data[\"FloorPlan\"].str.replace(\"8+0.5\", \"8.5\", regex = False)"
   ]
  },
  {
   "cell_type": "code",
   "execution_count": 0,
   "metadata": {
    "colab": {},
    "colab_type": "code",
    "id": "3kDTffkjhyZr"
   },
   "outputs": [],
   "source": [
    "all_data[\"FloorPlan\"] = all_data[\"FloorPlan\"].astype(float)"
   ]
  },
  {
   "cell_type": "code",
   "execution_count": 0,
   "metadata": {
    "colab": {
     "base_uri": "https://localhost:8080/",
     "height": 54
    },
    "colab_type": "code",
    "executionInfo": {
     "elapsed": 6154,
     "status": "ok",
     "timestamp": 1585801773052,
     "user": {
      "displayName": "河本紘伸",
      "photoUrl": "",
      "userId": "18373138818416241917"
     },
     "user_tz": -540
    },
    "id": "MUo61CBFs02-",
    "outputId": "e79c4875-ba9c-465c-9a0c-da1bfeede6e6"
   },
   "outputs": [
    {
     "data": {
      "text/plain": [
       "array([4. , 1.5, 3. , 1. , nan, 5. , 3.5, 6. , 2. , 4.5, 2.5, 5.5, 7.5,\n",
       "       9. , 7. , 6.5, 8. , 8.5])"
      ]
     },
     "execution_count": 224,
     "metadata": {
      "tags": []
     },
     "output_type": "execute_result"
    }
   ],
   "source": [
    "all_data[\"FloorPlan\"].unique()"
   ]
  },
  {
   "cell_type": "code",
   "execution_count": 0,
   "metadata": {
    "colab": {},
    "colab_type": "code",
    "id": "sDk3GjDkntuK"
   },
   "outputs": [],
   "source": [
    "train = all_data.iloc[:train.shape[0],:]\n",
    "test = all_data.iloc[train.shape[0]:,:]"
   ]
  },
  {
   "cell_type": "code",
   "execution_count": 0,
   "metadata": {
    "colab": {
     "base_uri": "https://localhost:8080/",
     "height": 35
    },
    "colab_type": "code",
    "executionInfo": {
     "elapsed": 6134,
     "status": "ok",
     "timestamp": 1585801773053,
     "user": {
      "displayName": "河本紘伸",
      "photoUrl": "",
      "userId": "18373138818416241917"
     },
     "user_tz": -540
    },
    "id": "cTjeuc1OnZXN",
    "outputId": "c3f4b102-6d5c-4766-dc7e-f089f19ab741"
   },
   "outputs": [
    {
     "data": {
      "text/plain": [
       "202489"
      ]
     },
     "execution_count": 226,
     "metadata": {
      "tags": []
     },
     "output_type": "execute_result"
    }
   ],
   "source": [
    "all_data[\"FloorPlan\"].isnull().sum()"
   ]
  },
  {
   "cell_type": "code",
   "execution_count": 0,
   "metadata": {
    "colab": {
     "base_uri": "https://localhost:8080/",
     "height": 35
    },
    "colab_type": "code",
    "executionInfo": {
     "elapsed": 6757,
     "status": "ok",
     "timestamp": 1585801773686,
     "user": {
      "displayName": "河本紘伸",
      "photoUrl": "",
      "userId": "18373138818416241917"
     },
     "user_tz": -540
    },
    "id": "KcrG6jC1n5Vl",
    "outputId": "b0738695-4808-49b6-c5b2-d8afcd0f67a0"
   },
   "outputs": [
    {
     "data": {
      "text/plain": [
       "202308"
      ]
     },
     "execution_count": 227,
     "metadata": {
      "tags": []
     },
     "output_type": "execute_result"
    }
   ],
   "source": [
    "train[\"FloorPlan\"].isnull().sum()"
   ]
  },
  {
   "cell_type": "code",
   "execution_count": 0,
   "metadata": {
    "colab": {
     "base_uri": "https://localhost:8080/",
     "height": 298
    },
    "colab_type": "code",
    "executionInfo": {
     "elapsed": 6749,
     "status": "ok",
     "timestamp": 1585801773687,
     "user": {
      "displayName": "河本紘伸",
      "photoUrl": "",
      "userId": "18373138818416241917"
     },
     "user_tz": -540
    },
    "id": "fJNvNUygoEGU",
    "outputId": "e3cc31b2-8b1c-4821-9676-ed37442b13e3"
   },
   "outputs": [
    {
     "data": {
      "text/plain": [
       "Text(0, 0.5, 'Area')"
      ]
     },
     "execution_count": 228,
     "metadata": {
      "tags": []
     },
     "output_type": "execute_result"
    },
    {
     "data": {
      "image/png": "[encoded data removed]",
      "text/plain": [
       "<Figure size 432x288 with 1 Axes>"
      ]
     },
     "metadata": {
      "tags": []
     },
     "output_type": "display_data"
    }
   ],
   "source": [
    "plt.figure()\n",
    "plt.scatter(train[\"FloorPlan\"],train[\"Area\"])\n",
    "plt.xlabel(\"FloorPlan\")\n",
    "plt.ylabel(\"Area\")"
   ]
  },
  {
   "cell_type": "code",
   "execution_count": 0,
   "metadata": {
    "colab": {},
    "colab_type": "code",
    "id": "bKpuHg7ap3_p"
   },
   "outputs": [],
   "source": []
  },
  {
   "cell_type": "code",
   "execution_count": 0,
   "metadata": {
    "colab": {
     "base_uri": "https://localhost:8080/",
     "height": 287
    },
    "colab_type": "code",
    "executionInfo": {
     "elapsed": 6731,
     "status": "ok",
     "timestamp": 1585801773688,
     "user": {
      "displayName": "河本紘伸",
      "photoUrl": "",
      "userId": "18373138818416241917"
     },
     "user_tz": -540
    },
    "id": "pyaK6-7Eng8a",
    "outputId": "981c69cd-0e98-4101-ce85-d988e2c63064"
   },
   "outputs": [
    {
     "data": {
      "text/plain": [
       "<matplotlib.axes._subplots.AxesSubplot at 0x7f70c6c386d8>"
      ]
     },
     "execution_count": 229,
     "metadata": {
      "tags": []
     },
     "output_type": "execute_result"
    },
    {
     "data": {
      "image/png": "[encoded data removed]",
      "text/plain": [
       "<Figure size 432x288 with 1 Axes>"
      ]
     },
     "metadata": {
      "tags": []
     },
     "output_type": "display_data"
    }
   ],
   "source": [
    "all_data[\"FloorPlan\"].hist()"
   ]
  },
  {
   "cell_type": "code",
   "execution_count": 0,
   "metadata": {
    "colab": {
     "base_uri": "https://localhost:8080/",
     "height": 35
    },
    "colab_type": "code",
    "executionInfo": {
     "elapsed": 6721,
     "status": "ok",
     "timestamp": 1585801773689,
     "user": {
      "displayName": "河本紘伸",
      "photoUrl": "",
      "userId": "18373138818416241917"
     },
     "user_tz": -540
    },
    "id": "kLcnGyGgorYa",
    "outputId": "00f353ac-b7e2-4ec7-dcef-929fcfc49bf2"
   },
   "outputs": [
    {
     "data": {
      "text/plain": [
       "3.5093198514462305"
      ]
     },
     "execution_count": 230,
     "metadata": {
      "tags": []
     },
     "output_type": "execute_result"
    }
   ],
   "source": [
    "all_data[\"FloorPlan\"].mean()"
   ]
  },
  {
   "cell_type": "code",
   "execution_count": 0,
   "metadata": {
    "colab": {
     "base_uri": "https://localhost:8080/",
     "height": 35
    },
    "colab_type": "code",
    "executionInfo": {
     "elapsed": 7163,
     "status": "ok",
     "timestamp": 1585801774142,
     "user": {
      "displayName": "河本紘伸",
      "photoUrl": "",
      "userId": "18373138818416241917"
     },
     "user_tz": -540
    },
    "id": "FiCrnZl0pBvX",
    "outputId": "d0805fda-8439-4350-81ac-4816164c56a1"
   },
   "outputs": [
    {
     "data": {
      "text/plain": [
       "array(['改装済', '未改装', nan], dtype=object)"
      ]
     },
     "execution_count": 231,
     "metadata": {
      "tags": []
     },
     "output_type": "execute_result"
    }
   ],
   "source": [
    "train[\"Renovation\"].unique()"
   ]
  },
  {
   "cell_type": "code",
   "execution_count": 0,
   "metadata": {
    "colab": {},
    "colab_type": "code",
    "id": "voIxzqZTpBqg"
   },
   "outputs": [],
   "source": []
  },
  {
   "cell_type": "code",
   "execution_count": 0,
   "metadata": {
    "colab": {},
    "colab_type": "code",
    "id": "P0y4A-k6-9_q"
   },
   "outputs": [],
   "source": []
  },
  {
   "cell_type": "markdown",
   "metadata": {
    "colab_type": "text",
    "id": "fxSzwcXMVKad"
   },
   "source": [
    "# LandShape"
   ]
  },
  {
   "cell_type": "code",
   "execution_count": 0,
   "metadata": {
    "colab": {
     "base_uri": "https://localhost:8080/",
     "height": 54
    },
    "colab_type": "code",
    "executionInfo": {
     "elapsed": 7135,
     "status": "ok",
     "timestamp": 1585801774143,
     "user": {
      "displayName": "河本紘伸",
      "photoUrl": "",
      "userId": "18373138818416241917"
     },
     "user_tz": -540
    },
    "id": "gtlpShla-95b",
    "outputId": "459422de-1aae-4e83-e9d5-a9c0bad85307"
   },
   "outputs": [
    {
     "data": {
      "text/plain": [
       "array([nan, 'ほぼ台形', 'ほぼ長方形', 'ほぼ正方形', '不整形', '長方形', '台形', 'ほぼ整形', '正方形',\n",
       "       '袋地等'], dtype=object)"
      ]
     },
     "execution_count": 232,
     "metadata": {
      "tags": []
     },
     "output_type": "execute_result"
    }
   ],
   "source": [
    "all_data[\"LandShape\"].unique()"
   ]
  },
  {
   "cell_type": "code",
   "execution_count": 0,
   "metadata": {
    "colab": {
     "base_uri": "https://localhost:8080/",
     "height": 35
    },
    "colab_type": "code",
    "executionInfo": {
     "elapsed": 7124,
     "status": "ok",
     "timestamp": 1585801774143,
     "user": {
      "displayName": "河本紘伸",
      "photoUrl": "",
      "userId": "18373138818416241917"
     },
     "user_tz": -540
    },
    "id": "rKTpIKi-ml7Z",
    "outputId": "124417ec-e7f9-4aac-eae7-858b6daf772a"
   },
   "outputs": [
    {
     "data": {
      "text/plain": [
       "156541"
      ]
     },
     "execution_count": 233,
     "metadata": {
      "tags": []
     },
     "output_type": "execute_result"
    }
   ],
   "source": [
    "all_data[\"LandShape\"].isnull().sum()"
   ]
  },
  {
   "cell_type": "code",
   "execution_count": 0,
   "metadata": {
    "colab": {},
    "colab_type": "code",
    "id": "AMin2qkQw73c"
   },
   "outputs": [],
   "source": [
    "train = all_data.iloc[:train.shape[0],:]\n",
    "test = all_data.iloc[train.shape[0]:,:]"
   ]
  },
  {
   "cell_type": "code",
   "execution_count": 0,
   "metadata": {
    "colab": {
     "base_uri": "https://localhost:8080/",
     "height": 35
    },
    "colab_type": "code",
    "executionInfo": {
     "elapsed": 7106,
     "status": "ok",
     "timestamp": 1585801774143,
     "user": {
      "displayName": "河本紘伸",
      "photoUrl": "",
      "userId": "18373138818416241917"
     },
     "user_tz": -540
    },
    "id": "-vpBuLxcwPqD",
    "outputId": "5679cd96-9a04-40ff-b0c1-64c9d472b4bf"
   },
   "outputs": [
    {
     "data": {
      "text/plain": [
       "156539"
      ]
     },
     "execution_count": 235,
     "metadata": {
      "tags": []
     },
     "output_type": "execute_result"
    }
   ],
   "source": [
    "train[\"LandShape\"].isnull().sum()"
   ]
  },
  {
   "cell_type": "code",
   "execution_count": 0,
   "metadata": {
    "colab": {
     "base_uri": "https://localhost:8080/",
     "height": 199
    },
    "colab_type": "code",
    "executionInfo": {
     "elapsed": 7099,
     "status": "ok",
     "timestamp": 1585801774144,
     "user": {
      "displayName": "河本紘伸",
      "photoUrl": "",
      "userId": "18373138818416241917"
     },
     "user_tz": -540
    },
    "id": "a2BsCV5HtHse",
    "outputId": "a81e8e01-d8ee-4472-8907-23430331e9d0"
   },
   "outputs": [
    {
     "data": {
      "text/plain": [
       "ほぼ長方形    80736\n",
       "長方形      56852\n",
       "不整形      35453\n",
       "ほぼ台形     17429\n",
       "ほぼ正方形    12118\n",
       "ほぼ整形      9303\n",
       "台形        8602\n",
       "袋地等       8318\n",
       "正方形       1582\n",
       "Name: LandShape, dtype: int64"
      ]
     },
     "execution_count": 236,
     "metadata": {
      "tags": []
     },
     "output_type": "execute_result"
    }
   ],
   "source": [
    "all_data[\"LandShape\"].value_counts()"
   ]
  },
  {
   "cell_type": "code",
   "execution_count": 0,
   "metadata": {
    "colab": {},
    "colab_type": "code",
    "id": "CLPOdDwAwyux"
   },
   "outputs": [],
   "source": [
    "test[\"LandShape\"] = test[\"LandShape\"].fillna(\"ほぼ長方形\")"
   ]
  },
  {
   "cell_type": "code",
   "execution_count": 0,
   "metadata": {
    "colab": {},
    "colab_type": "code",
    "id": "fcEn1gUbxKoX"
   },
   "outputs": [],
   "source": [
    "all_data = pd.concat([train, test], ignore_index=True)"
   ]
  },
  {
   "cell_type": "code",
   "execution_count": 0,
   "metadata": {
    "colab": {},
    "colab_type": "code",
    "id": "F74FBvQ0ml3X"
   },
   "outputs": [],
   "source": [
    "le = LabelEncoder()\n",
    "le.fit(all_data[\"LandShape\"].fillna(\"NA\"))\n",
    "all_data[\"LandShape\"] = le.transform(all_data[\"LandShape\"].fillna(\"NA\"))"
   ]
  },
  {
   "cell_type": "code",
   "execution_count": 0,
   "metadata": {
    "colab": {
     "base_uri": "https://localhost:8080/",
     "height": 35
    },
    "colab_type": "code",
    "executionInfo": {
     "elapsed": 7060,
     "status": "ok",
     "timestamp": 1585801774145,
     "user": {
      "displayName": "河本紘伸",
      "photoUrl": "",
      "userId": "18373138818416241917"
     },
     "user_tz": -540
    },
    "id": "6dIzpr_Yt0X5",
    "outputId": "3ff39fe7-ab33-4dd6-a161-67d5661b0eae"
   },
   "outputs": [
    {
     "data": {
      "text/plain": [
       "array([0, 1, 4, 3, 5, 9, 6, 2, 7, 8])"
      ]
     },
     "execution_count": 240,
     "metadata": {
      "tags": []
     },
     "output_type": "execute_result"
    }
   ],
   "source": [
    "all_data[\"LandShape\"].unique()"
   ]
  },
  {
   "cell_type": "code",
   "execution_count": 0,
   "metadata": {
    "colab": {},
    "colab_type": "code",
    "id": "_QUlep_vvZGi"
   },
   "outputs": [],
   "source": [
    "train = all_data.iloc[:train.shape[0],:]\n",
    "test = all_data.iloc[train.shape[0]:,:]"
   ]
  },
  {
   "cell_type": "code",
   "execution_count": 0,
   "metadata": {
    "colab": {
     "base_uri": "https://localhost:8080/",
     "height": 297
    },
    "colab_type": "code",
    "executionInfo": {
     "elapsed": 8652,
     "status": "ok",
     "timestamp": 1585801775756,
     "user": {
      "displayName": "河本紘伸",
      "photoUrl": "",
      "userId": "18373138818416241917"
     },
     "user_tz": -540
    },
    "id": "ctoywDDVt0oA",
    "outputId": "30a343e7-cfcf-4fd4-9209-a1dc4b817029"
   },
   "outputs": [
    {
     "data": {
      "text/plain": [
       "Text(0, 0.5, 'SalePrice')"
      ]
     },
     "execution_count": 242,
     "metadata": {
      "tags": []
     },
     "output_type": "execute_result"
    },
    {
     "data": {
      "image/png": "[encoded data removed]",
      "text/plain": [
       "<Figure size 432x288 with 1 Axes>"
      ]
     },
     "metadata": {
      "tags": []
     },
     "output_type": "display_data"
    }
   ],
   "source": [
    "plt.figure()\n",
    "plt.scatter(train[\"LandShape\"],train[\"SalePrice\"])\n",
    "plt.xlabel(\"LandShape\")\n",
    "plt.ylabel(\"SalePrice\")"
   ]
  },
  {
   "cell_type": "code",
   "execution_count": 0,
   "metadata": {
    "colab": {
     "base_uri": "https://localhost:8080/",
     "height": 35
    },
    "colab_type": "code",
    "executionInfo": {
     "elapsed": 8644,
     "status": "ok",
     "timestamp": 1585801775757,
     "user": {
      "displayName": "河本紘伸",
      "photoUrl": "",
      "userId": "18373138818416241917"
     },
     "user_tz": -540
    },
    "id": "gJ-MXpIFvgwd",
    "outputId": "ad0bb5f7-7b2a-4e43-8172-a39409fb9a02"
   },
   "outputs": [
    {
     "data": {
      "text/plain": [
       "0"
      ]
     },
     "execution_count": 243,
     "metadata": {
      "tags": []
     },
     "output_type": "execute_result"
    }
   ],
   "source": [
    "train[\"LandShape\"].isnull().sum()"
   ]
  },
  {
   "cell_type": "code",
   "execution_count": 0,
   "metadata": {
    "colab": {},
    "colab_type": "code",
    "id": "BDLB3YxSvq8N"
   },
   "outputs": [],
   "source": []
  },
  {
   "cell_type": "markdown",
   "metadata": {
    "colab_type": "text",
    "id": "Ls2al7l6VPwS"
   },
   "source": [
    "# Renovation"
   ]
  },
  {
   "cell_type": "code",
   "execution_count": 0,
   "metadata": {
    "colab": {
     "base_uri": "https://localhost:8080/",
     "height": 35
    },
    "colab_type": "code",
    "executionInfo": {
     "elapsed": 8625,
     "status": "ok",
     "timestamp": 1585801775757,
     "user": {
      "displayName": "河本紘伸",
      "photoUrl": "",
      "userId": "18373138818416241917"
     },
     "user_tz": -540
    },
    "id": "wLTFvgeBmTVr",
    "outputId": "7fa05962-8ab8-47eb-f4c5-f0eb1f633b5c"
   },
   "outputs": [
    {
     "data": {
      "text/plain": [
       "array(['改装済', '未改装', nan], dtype=object)"
      ]
     },
     "execution_count": 244,
     "metadata": {
      "tags": []
     },
     "output_type": "execute_result"
    }
   ],
   "source": [
    "train[\"Renovation\"].unique()"
   ]
  },
  {
   "cell_type": "code",
   "execution_count": 0,
   "metadata": {
    "colab": {
     "base_uri": "https://localhost:8080/",
     "height": 35
    },
    "colab_type": "code",
    "executionInfo": {
     "elapsed": 8618,
     "status": "ok",
     "timestamp": 1585801775758,
     "user": {
      "displayName": "河本紘伸",
      "photoUrl": "",
      "userId": "18373138818416241917"
     },
     "user_tz": -540
    },
    "id": "a3XK_Lnz__ou",
    "outputId": "f9dce015-47ce-4f91-8c86-434586e1d744"
   },
   "outputs": [
    {
     "data": {
      "text/plain": [
       "array(['改装済', '未改装', nan], dtype=object)"
      ]
     },
     "execution_count": 245,
     "metadata": {
      "tags": []
     },
     "output_type": "execute_result"
    }
   ],
   "source": [
    "all_data[\"Renovation\"].unique()"
   ]
  },
  {
   "cell_type": "code",
   "execution_count": 0,
   "metadata": {
    "colab": {},
    "colab_type": "code",
    "id": "8jm_uSWhoN4b"
   },
   "outputs": [],
   "source": []
  },
  {
   "cell_type": "code",
   "execution_count": 0,
   "metadata": {
    "colab": {},
    "colab_type": "code",
    "id": "GaRtBJ8FyztN"
   },
   "outputs": [],
   "source": [
    "all_data[\"Renovation\"] = all_data[\"Renovation\"].fillna('未改装')"
   ]
  },
  {
   "cell_type": "code",
   "execution_count": 0,
   "metadata": {
    "colab": {
     "base_uri": "https://localhost:8080/",
     "height": 708
    },
    "colab_type": "code",
    "executionInfo": {
     "elapsed": 8590,
     "status": "ok",
     "timestamp": 1585801775758,
     "user": {
      "displayName": "河本紘伸",
      "photoUrl": "",
      "userId": "18373138818416241917"
     },
     "user_tz": -540
    },
    "id": "hC_UOHWO0BBi",
    "outputId": "8fb40787-d6e5-4694-fa0e-8ce608642249"
   },
   "outputs": [
    {
     "data": {
      "text/plain": [
       "id                           0\n",
       "Type                         0\n",
       "Region                       0\n",
       "MunicipalityCode             0\n",
       "Municipality                 0\n",
       "DistrictName                 0\n",
       "NearestStation               0\n",
       "TimeToNearestStation      7532\n",
       "FloorPlan               202489\n",
       "Area                         0\n",
       "LandShape                    0\n",
       "Frontage                172555\n",
       "TotalFloorArea          232323\n",
       "BuildingYear             81091\n",
       "Structure                77094\n",
       "Purpose                 241371\n",
       "Direction                    0\n",
       "Classification               0\n",
       "Breadth                 159631\n",
       "CityPlanning                 0\n",
       "CoverageRatio             1970\n",
       "FloorAreaRatio            1970\n",
       "Period                       0\n",
       "Renovation                   0\n",
       "Remarks                      0\n",
       "SalePrice                34844\n",
       "YearBuilt                81091\n",
       "その他                          0\n",
       "事務所                          0\n",
       "住宅                           0\n",
       "作業場                          0\n",
       "倉庫                           0\n",
       "共同                           0\n",
       "工場                           0\n",
       "店舗                           0\n",
       "秘密                           0\n",
       "駐車                           0\n",
       "dtype: int64"
      ]
     },
     "execution_count": 247,
     "metadata": {
      "tags": []
     },
     "output_type": "execute_result"
    }
   ],
   "source": [
    "all_data.isnull().sum()"
   ]
  },
  {
   "cell_type": "code",
   "execution_count": 0,
   "metadata": {
    "colab": {},
    "colab_type": "code",
    "id": "38BGhfGd__lR"
   },
   "outputs": [],
   "source": [
    "le = LabelEncoder()\n",
    "le.fit(all_data[\"Renovation\"])\n",
    "all_data[\"Renovation\"] = le.transform(all_data[\"Renovation\"])"
   ]
  },
  {
   "cell_type": "code",
   "execution_count": 0,
   "metadata": {
    "colab": {
     "base_uri": "https://localhost:8080/",
     "height": 35
    },
    "colab_type": "code",
    "executionInfo": {
     "elapsed": 8572,
     "status": "ok",
     "timestamp": 1585801775759,
     "user": {
      "displayName": "河本紘伸",
      "photoUrl": "",
      "userId": "18373138818416241917"
     },
     "user_tz": -540
    },
    "id": "sTqkI3Q6uXKd",
    "outputId": "2f1d09bb-06ca-4c49-cc48-15ceaa6b8fc3"
   },
   "outputs": [
    {
     "data": {
      "text/plain": [
       "array([0, 1])"
      ]
     },
     "execution_count": 249,
     "metadata": {
      "tags": []
     },
     "output_type": "execute_result"
    }
   ],
   "source": [
    "all_data[\"Renovation\"].unique()"
   ]
  },
  {
   "cell_type": "code",
   "execution_count": 0,
   "metadata": {
    "colab": {},
    "colab_type": "code",
    "id": "c0JDI_cW__iI"
   },
   "outputs": [],
   "source": []
  },
  {
   "cell_type": "code",
   "execution_count": 0,
   "metadata": {
    "colab": {},
    "colab_type": "code",
    "id": "Yq106A8cVXTH"
   },
   "outputs": [],
   "source": []
  },
  {
   "cell_type": "markdown",
   "metadata": {
    "colab_type": "text",
    "id": "h-lvOq4BVX7y"
   },
   "source": [
    "# Stractre"
   ]
  },
  {
   "cell_type": "code",
   "execution_count": 0,
   "metadata": {
    "colab": {
     "base_uri": "https://localhost:8080/",
     "height": 126
    },
    "colab_type": "code",
    "executionInfo": {
     "elapsed": 8548,
     "status": "ok",
     "timestamp": 1585801775760,
     "user": {
      "displayName": "河本紘伸",
      "photoUrl": "",
      "userId": "18373138818416241917"
     },
     "user_tz": -540
    },
    "id": "UvhdeYR4ffzO",
    "outputId": "cf582b31-77d1-4cf0-e2e4-f639e8f6846f"
   },
   "outputs": [
    {
     "data": {
      "text/plain": [
       "array(['ＳＲＣ', 'ＲＣ', nan, '鉄骨造', '木造', '鉄骨造、軽量鉄骨造', 'ＳＲＣ、ＲＣ', '軽量鉄骨造',\n",
       "       '鉄骨造、木造', 'ＲＣ、鉄骨造', 'ＲＣ、木造', '木造、ブロック造', 'ＳＲＣ、鉄骨造', '木造、軽量鉄骨造',\n",
       "       'ブロック造', 'ＲＣ、木造、ブロック造', '鉄骨造、ブロック造', 'ＲＣ、鉄骨造、木造', 'ＳＲＣ、木造',\n",
       "       'ＲＣ、ブロック造', 'ＲＣ、軽量鉄骨造', 'ブロック造、軽量鉄骨造', '鉄骨造、木造、軽量鉄骨造',\n",
       "       'ＲＣ、鉄骨造、ブロック造', 'ＲＣ、鉄骨造、木造、ブロック造', '鉄骨造、木造、ブロック造', 'ＲＣ、鉄骨造、軽量鉄骨造'],\n",
       "      dtype=object)"
      ]
     },
     "execution_count": 250,
     "metadata": {
      "tags": []
     },
     "output_type": "execute_result"
    }
   ],
   "source": [
    "all_data[\"Structure\"].unique()"
   ]
  },
  {
   "cell_type": "code",
   "execution_count": 0,
   "metadata": {
    "colab": {
     "base_uri": "https://localhost:8080/",
     "height": 35
    },
    "colab_type": "code",
    "executionInfo": {
     "elapsed": 8540,
     "status": "ok",
     "timestamp": 1585801775760,
     "user": {
      "displayName": "河本紘伸",
      "photoUrl": "",
      "userId": "18373138818416241917"
     },
     "user_tz": -540
    },
    "id": "b_jCTh_x0Jc-",
    "outputId": "f656c081-c31f-4529-9579-f83421d9ca33"
   },
   "outputs": [
    {
     "data": {
      "text/plain": [
       "386934"
      ]
     },
     "execution_count": 251,
     "metadata": {
      "tags": []
     },
     "output_type": "execute_result"
    }
   ],
   "source": [
    "len(all_data[\"Structure\"])"
   ]
  },
  {
   "cell_type": "code",
   "execution_count": 0,
   "metadata": {
    "colab": {},
    "colab_type": "code",
    "id": "UItNRCX7ffx1"
   },
   "outputs": [],
   "source": [
    "all_data = pd.get_dummies(all_data, columns=[\"Structure\"])"
   ]
  },
  {
   "cell_type": "code",
   "execution_count": 0,
   "metadata": {
    "colab": {},
    "colab_type": "code",
    "id": "Pj_IIRSKfft4"
   },
   "outputs": [],
   "source": [
    "train = all_data.iloc[:train.shape[0],:].reset_index(drop=True)\n",
    "test = all_data.iloc[train.shape[0]:,:].reset_index(drop=True)"
   ]
  },
  {
   "cell_type": "code",
   "execution_count": 0,
   "metadata": {
    "colab": {},
    "colab_type": "code",
    "id": "6ywtd4jAjHbK"
   },
   "outputs": [],
   "source": []
  },
  {
   "cell_type": "code",
   "execution_count": 0,
   "metadata": {
    "colab": {
     "base_uri": "https://localhost:8080/",
     "height": 90
    },
    "colab_type": "code",
    "executionInfo": {
     "elapsed": 9054,
     "status": "ok",
     "timestamp": 1585801776312,
     "user": {
      "displayName": "河本紘伸",
      "photoUrl": "",
      "userId": "18373138818416241917"
     },
     "user_tz": -540
    },
    "id": "yn0XkFeHAXE2",
    "outputId": "8d18dcf8-3207-4ea0-ac27-db5e633b4599"
   },
   "outputs": [
    {
     "data": {
      "text/plain": [
       "array(['1', '5', '3', '4', '2', nan, '8', '7', '6', '0', '11', '10', '9',\n",
       "       '12', '30分?60分', '13', '14', '16', '15', '19', '20', '18', '21',\n",
       "       '23', '25', '17', '29', '28', '26', '24', '22', '1H30?2H',\n",
       "       '1H?1H30', '2H?', '27'], dtype=object)"
      ]
     },
     "execution_count": 254,
     "metadata": {
      "tags": []
     },
     "output_type": "execute_result"
    }
   ],
   "source": [
    "all_data[\"TimeToNearestStation\"].unique()"
   ]
  },
  {
   "cell_type": "code",
   "execution_count": 0,
   "metadata": {
    "colab": {
     "base_uri": "https://localhost:8080/",
     "height": 90
    },
    "colab_type": "code",
    "executionInfo": {
     "elapsed": 9044,
     "status": "ok",
     "timestamp": 1585801776312,
     "user": {
      "displayName": "河本紘伸",
      "photoUrl": "",
      "userId": "18373138818416241917"
     },
     "user_tz": -540
    },
    "id": "YpJfDXdfjuLL",
    "outputId": "2cfd9dfc-489e-4a4c-aaaa-779111f3db34"
   },
   "outputs": [
    {
     "data": {
      "text/plain": [
       "array(['1', '5', '3', '4', '2', nan, '8', '7', '6', '0', '11', '10', '9',\n",
       "       '12', '30分?60分', '13', '14', '16', '15', '19', '20', '18', '21',\n",
       "       '23', '25', '17', '29', '28', '26', '24', '22', '1H30?2H',\n",
       "       '1H?1H30', '2H?', '27'], dtype=object)"
      ]
     },
     "execution_count": 255,
     "metadata": {
      "tags": []
     },
     "output_type": "execute_result"
    }
   ],
   "source": [
    "all_data[\"TimeToNearestStation\"].unique()"
   ]
  },
  {
   "cell_type": "code",
   "execution_count": 0,
   "metadata": {
    "colab": {},
    "colab_type": "code",
    "id": "TcvyLl3NjuHS"
   },
   "outputs": [],
   "source": [
    "all_data[\"TimeToNearestStation\"] = all_data[\"TimeToNearestStation\"].str.replace(\"30分?60分\", \"45\", regex = False)\n",
    "all_data[\"TimeToNearestStation\"] = all_data[\"TimeToNearestStation\"].str.replace(\"2H?\", \"120\", regex = False)\n",
    "all_data[\"TimeToNearestStation\"] = all_data[\"TimeToNearestStation\"].str.replace(\"1H30?2H\", \"105\", regex = False)\n",
    "all_data[\"TimeToNearestStation\"] = all_data[\"TimeToNearestStation\"].str.replace(\"1H?1H30\", \"75\", regex = False)"
   ]
  },
  {
   "cell_type": "code",
   "execution_count": 0,
   "metadata": {
    "colab": {},
    "colab_type": "code",
    "id": "8eyEoXOajHV3"
   },
   "outputs": [],
   "source": [
    "all_data[\"TimeToNearestStation\"] = pd.to_numeric(all_data[\"TimeToNearestStation\"])"
   ]
  },
  {
   "cell_type": "code",
   "execution_count": 0,
   "metadata": {
    "colab": {
     "base_uri": "https://localhost:8080/",
     "height": 235
    },
    "colab_type": "code",
    "executionInfo": {
     "elapsed": 9317,
     "status": "ok",
     "timestamp": 1585801776613,
     "user": {
      "displayName": "河本紘伸",
      "photoUrl": "",
      "userId": "18373138818416241917"
     },
     "user_tz": -540
    },
    "id": "PiURTfs8tdbH",
    "outputId": "5c8cfe36-df1a-4eef-9cab-ad5c1ea0d499"
   },
   "outputs": [
    {
     "data": {
      "text/plain": [
       "id                        0\n",
       "Type                      0\n",
       "Region                    0\n",
       "MunicipalityCode          0\n",
       "Municipality              0\n",
       "                         ..\n",
       "Structure_ＲＣ、鉄骨造、軽量鉄骨造    0\n",
       "Structure_ＳＲＣ             0\n",
       "Structure_ＳＲＣ、木造          0\n",
       "Structure_ＳＲＣ、鉄骨造         0\n",
       "Structure_ＳＲＣ、ＲＣ          0\n",
       "Length: 62, dtype: int64"
      ]
     },
     "execution_count": 258,
     "metadata": {
      "tags": []
     },
     "output_type": "execute_result"
    }
   ],
   "source": [
    "all_data.isnull().sum()"
   ]
  },
  {
   "cell_type": "code",
   "execution_count": 0,
   "metadata": {
    "colab": {},
    "colab_type": "code",
    "id": "eAPY_rJpVeON"
   },
   "outputs": [],
   "source": []
  },
  {
   "cell_type": "markdown",
   "metadata": {
    "colab_type": "text",
    "id": "Y2FVwiECVepI"
   },
   "source": [
    "# Purpose"
   ]
  },
  {
   "cell_type": "code",
   "execution_count": 0,
   "metadata": {
    "colab": {
     "base_uri": "https://localhost:8080/",
     "height": 35
    },
    "colab_type": "code",
    "executionInfo": {
     "elapsed": 9299,
     "status": "ok",
     "timestamp": 1585801776614,
     "user": {
      "displayName": "河本紘伸",
      "photoUrl": "",
      "userId": "18373138818416241917"
     },
     "user_tz": -540
    },
    "id": "Eg2afgUUjHMx",
    "outputId": "5d925ec2-dd08-49e8-ef7d-fb669006a4ec"
   },
   "outputs": [
    {
     "data": {
      "text/plain": [
       "array(['住宅', 'その他', '事務所', nan, '店舗', '倉庫', '工場'], dtype=object)"
      ]
     },
     "execution_count": 259,
     "metadata": {
      "tags": []
     },
     "output_type": "execute_result"
    }
   ],
   "source": [
    "all_data[\"Purpose\"].unique()"
   ]
  },
  {
   "cell_type": "code",
   "execution_count": 0,
   "metadata": {
    "colab": {
     "base_uri": "https://localhost:8080/",
     "height": 35
    },
    "colab_type": "code",
    "executionInfo": {
     "elapsed": 9289,
     "status": "ok",
     "timestamp": 1585801776614,
     "user": {
      "displayName": "河本紘伸",
      "photoUrl": "",
      "userId": "18373138818416241917"
     },
     "user_tz": -540
    },
    "id": "B4R305bO7hg3",
    "outputId": "9f0074f8-784f-4963-b198-9865162731e9"
   },
   "outputs": [
    {
     "data": {
      "text/plain": [
       "241371"
      ]
     },
     "execution_count": 260,
     "metadata": {
      "tags": []
     },
     "output_type": "execute_result"
    }
   ],
   "source": [
    "all_data[\"Purpose\"].isnull().sum()"
   ]
  },
  {
   "cell_type": "code",
   "execution_count": 0,
   "metadata": {
    "colab": {},
    "colab_type": "code",
    "id": "IWXXn1rZ76F7"
   },
   "outputs": [],
   "source": [
    "all_data[\"Purpose\"] = all_data[\"Purpose\"].fillna('住宅')"
   ]
  },
  {
   "cell_type": "code",
   "execution_count": 0,
   "metadata": {
    "colab": {
     "base_uri": "https://localhost:8080/",
     "height": 145
    },
    "colab_type": "code",
    "executionInfo": {
     "elapsed": 9271,
     "status": "ok",
     "timestamp": 1585801776615,
     "user": {
      "displayName": "河本紘伸",
      "photoUrl": "",
      "userId": "18373138818416241917"
     },
     "user_tz": -540
    },
    "id": "gSiUXSVs7M_T",
    "outputId": "00edca9d-ce04-4f5c-80fc-61e51cf37941"
   },
   "outputs": [
    {
     "data": {
      "text/plain": [
       "住宅     368484\n",
       "その他     12822\n",
       "事務所      2996\n",
       "店舗       1831\n",
       "倉庫        513\n",
       "工場        288\n",
       "Name: Purpose, dtype: int64"
      ]
     },
     "execution_count": 262,
     "metadata": {
      "tags": []
     },
     "output_type": "execute_result"
    }
   ],
   "source": [
    "all_data[\"Purpose\"].value_counts()"
   ]
  },
  {
   "cell_type": "code",
   "execution_count": 0,
   "metadata": {
    "colab": {},
    "colab_type": "code",
    "id": "RFV_mQ7NjA73"
   },
   "outputs": [],
   "source": [
    "le = LabelEncoder()\n",
    "le.fit(all_data[\"Purpose\"].fillna(\"NA\"))\n",
    "all_data[\"Purpose\"] = le.transform(all_data[\"Purpose\"].fillna(\"NA\"))"
   ]
  },
  {
   "cell_type": "code",
   "execution_count": 0,
   "metadata": {
    "colab": {
     "base_uri": "https://localhost:8080/",
     "height": 35
    },
    "colab_type": "code",
    "executionInfo": {
     "elapsed": 9591,
     "status": "ok",
     "timestamp": 1585801776954,
     "user": {
      "displayName": "河本紘伸",
      "photoUrl": "",
      "userId": "18373138818416241917"
     },
     "user_tz": -540
    },
    "id": "VdjM3kWmmGO4",
    "outputId": "8ba55241-c334-449a-bfd3-07705c89f936"
   },
   "outputs": [
    {
     "data": {
      "text/plain": [
       "array([2, 0, 1, 5, 3, 4])"
      ]
     },
     "execution_count": 264,
     "metadata": {
      "tags": []
     },
     "output_type": "execute_result"
    }
   ],
   "source": [
    "all_data[\"Purpose\"].unique()"
   ]
  },
  {
   "cell_type": "code",
   "execution_count": 0,
   "metadata": {
    "colab": {},
    "colab_type": "code",
    "id": "E3X-FaWqjA3k"
   },
   "outputs": [],
   "source": []
  },
  {
   "cell_type": "code",
   "execution_count": 0,
   "metadata": {
    "colab": {
     "base_uri": "https://localhost:8080/",
     "height": 290
    },
    "colab_type": "code",
    "executionInfo": {
     "elapsed": 9533,
     "status": "ok",
     "timestamp": 1585801776954,
     "user": {
      "displayName": "河本紘伸",
      "photoUrl": "",
      "userId": "18373138818416241917"
     },
     "user_tz": -540
    },
    "id": "OmBbTErYmHGT",
    "outputId": "8a1f8b47-62cc-4915-aabd-52447a4b029d"
   },
   "outputs": [
    {
     "data": {
      "text/plain": [
       "array([  nan,  330.,  460.,  250.,  500., 1200.,  830.,   55., 2000.,\n",
       "        400.,  950.,  870.,  145., 1100.,  195.,  670.,  310.,  210.,\n",
       "        120., 1600.,  610., 1000.,  240.,  580.,  800.,  600.,  280.,\n",
       "        900.,  200.,  570.,  380.,  620.,  270.,   75., 1800.,  370.,\n",
       "         70.,  125.,  230.,  560.,   60.,  260.,  185.,  430.,   85.,\n",
       "        470.,  530.,  640.,   80.,  920.,  320.,  290.,  180.,  410.,\n",
       "       1300.,  115.,  350.,  440.,  300.,  100.,  590.,  140.,  980.,\n",
       "        155.,  540.,  390.,  420., 1900.,  840.,  105.,  550.,  490.,\n",
       "        110.,  480.,  940.,  750.,  135.,  760., 1400.,  930.,  880.,\n",
       "        970.,  630., 1700.,  170.,  690.,  340.,  820.,  990.,  220.,\n",
       "        890.,  770.,   95.,  160.,   65.,  175.,  710.,  650.,  810.,\n",
       "        150.,  520.,  130., 1500.,  360.,   90.,  450.,  510.,  740.,\n",
       "         40.,   50.,   45.,  165.,  660.,  190.,  680.,  780.,  960.,\n",
       "        860.,  910.,   35.,   30.,  700.,  720.,  790.,   10.,   25.,\n",
       "        850.,  730.,   15.,   20.,    8.])"
      ]
     },
     "execution_count": 265,
     "metadata": {
      "tags": []
     },
     "output_type": "execute_result"
    }
   ],
   "source": [
    "all_data[\"TotalFloorArea\"].unique()"
   ]
  },
  {
   "cell_type": "code",
   "execution_count": 0,
   "metadata": {
    "colab": {},
    "colab_type": "code",
    "id": "k_ZAaRMwZnLB"
   },
   "outputs": [],
   "source": []
  },
  {
   "cell_type": "code",
   "execution_count": 0,
   "metadata": {
    "colab": {},
    "colab_type": "code",
    "id": "6kKhemjGZnH5"
   },
   "outputs": [],
   "source": []
  },
  {
   "cell_type": "code",
   "execution_count": 0,
   "metadata": {
    "colab": {
     "base_uri": "https://localhost:8080/",
     "height": 1000
    },
    "colab_type": "code",
    "executionInfo": {
     "elapsed": 9499,
     "status": "ok",
     "timestamp": 1585801776955,
     "user": {
      "displayName": "河本紘伸",
      "photoUrl": "",
      "userId": "18373138818416241917"
     },
     "user_tz": -540
    },
    "id": "syWilDzGnDAI",
    "outputId": "3281e487-2246-4df0-d57b-3787f7921ba8"
   },
   "outputs": [
    {
     "data": {
      "text/plain": [
       "id                             int64\n",
       "Type                           int64\n",
       "Region                         int64\n",
       "MunicipalityCode               int64\n",
       "Municipality                   int64\n",
       "DistrictName                   int64\n",
       "NearestStation                 int64\n",
       "TimeToNearestStation         float64\n",
       "FloorPlan                    float64\n",
       "Area                           int64\n",
       "LandShape                      int64\n",
       "Frontage                     float64\n",
       "TotalFloorArea               float64\n",
       "BuildingYear                 float64\n",
       "Purpose                        int64\n",
       "Direction                      int64\n",
       "Classification               float64\n",
       "Breadth                      float64\n",
       "CityPlanning                   int64\n",
       "CoverageRatio                float64\n",
       "FloorAreaRatio               float64\n",
       "Period                         int64\n",
       "Renovation                     int64\n",
       "Remarks                        int64\n",
       "SalePrice                    float64\n",
       "YearBuilt                    float64\n",
       "その他                          float64\n",
       "事務所                          float64\n",
       "住宅                           float64\n",
       "作業場                          float64\n",
       "倉庫                           float64\n",
       "共同                           float64\n",
       "工場                           float64\n",
       "店舗                           float64\n",
       "秘密                           float64\n",
       "駐車                           float64\n",
       "Structure_ブロック造                uint8\n",
       "Structure_ブロック造、軽量鉄骨造          uint8\n",
       "Structure_木造                   uint8\n",
       "Structure_木造、ブロック造             uint8\n",
       "Structure_木造、軽量鉄骨造             uint8\n",
       "Structure_軽量鉄骨造                uint8\n",
       "Structure_鉄骨造                  uint8\n",
       "Structure_鉄骨造、ブロック造            uint8\n",
       "Structure_鉄骨造、木造               uint8\n",
       "Structure_鉄骨造、木造、ブロック造         uint8\n",
       "Structure_鉄骨造、木造、軽量鉄骨造         uint8\n",
       "Structure_鉄骨造、軽量鉄骨造            uint8\n",
       "Structure_ＲＣ                   uint8\n",
       "Structure_ＲＣ、ブロック造             uint8\n",
       "Structure_ＲＣ、木造                uint8\n",
       "Structure_ＲＣ、木造、ブロック造          uint8\n",
       "Structure_ＲＣ、軽量鉄骨造             uint8\n",
       "Structure_ＲＣ、鉄骨造               uint8\n",
       "Structure_ＲＣ、鉄骨造、ブロック造         uint8\n",
       "Structure_ＲＣ、鉄骨造、木造            uint8\n",
       "Structure_ＲＣ、鉄骨造、木造、ブロック造      uint8\n",
       "Structure_ＲＣ、鉄骨造、軽量鉄骨造         uint8\n",
       "Structure_ＳＲＣ                  uint8\n",
       "Structure_ＳＲＣ、木造               uint8\n",
       "Structure_ＳＲＣ、鉄骨造              uint8\n",
       "Structure_ＳＲＣ、ＲＣ               uint8\n",
       "dtype: object"
      ]
     },
     "execution_count": 266,
     "metadata": {
      "tags": []
     },
     "output_type": "execute_result"
    }
   ],
   "source": [
    "pd.set_option('display.max_rows', None)\n",
    "all_data.dtypes"
   ]
  },
  {
   "cell_type": "code",
   "execution_count": 0,
   "metadata": {
    "colab": {
     "base_uri": "https://localhost:8080/",
     "height": 1000
    },
    "colab_type": "code",
    "executionInfo": {
     "elapsed": 9491,
     "status": "ok",
     "timestamp": 1585801776955,
     "user": {
      "displayName": "河本紘伸",
      "photoUrl": "",
      "userId": "18373138818416241917"
     },
     "user_tz": -540
    },
    "id": "N2S1FBeC46mB",
    "outputId": "08706d96-280a-47e5-a5ec-de4318b7a647"
   },
   "outputs": [
    {
     "data": {
      "text/plain": [
       "id                                0\n",
       "Type                              0\n",
       "Region                            0\n",
       "MunicipalityCode                  0\n",
       "Municipality                      0\n",
       "DistrictName                      0\n",
       "NearestStation                    0\n",
       "TimeToNearestStation           7532\n",
       "FloorPlan                    202489\n",
       "Area                              0\n",
       "LandShape                         0\n",
       "Frontage                     172555\n",
       "TotalFloorArea               232323\n",
       "BuildingYear                  81091\n",
       "Purpose                           0\n",
       "Direction                         0\n",
       "Classification                    0\n",
       "Breadth                      159631\n",
       "CityPlanning                      0\n",
       "CoverageRatio                  1970\n",
       "FloorAreaRatio                 1970\n",
       "Period                            0\n",
       "Renovation                        0\n",
       "Remarks                           0\n",
       "SalePrice                     34844\n",
       "YearBuilt                     81091\n",
       "その他                               0\n",
       "事務所                               0\n",
       "住宅                                0\n",
       "作業場                               0\n",
       "倉庫                                0\n",
       "共同                                0\n",
       "工場                                0\n",
       "店舗                                0\n",
       "秘密                                0\n",
       "駐車                                0\n",
       "Structure_ブロック造                   0\n",
       "Structure_ブロック造、軽量鉄骨造             0\n",
       "Structure_木造                      0\n",
       "Structure_木造、ブロック造                0\n",
       "Structure_木造、軽量鉄骨造                0\n",
       "Structure_軽量鉄骨造                   0\n",
       "Structure_鉄骨造                     0\n",
       "Structure_鉄骨造、ブロック造               0\n",
       "Structure_鉄骨造、木造                  0\n",
       "Structure_鉄骨造、木造、ブロック造            0\n",
       "Structure_鉄骨造、木造、軽量鉄骨造            0\n",
       "Structure_鉄骨造、軽量鉄骨造               0\n",
       "Structure_ＲＣ                      0\n",
       "Structure_ＲＣ、ブロック造                0\n",
       "Structure_ＲＣ、木造                   0\n",
       "Structure_ＲＣ、木造、ブロック造             0\n",
       "Structure_ＲＣ、軽量鉄骨造                0\n",
       "Structure_ＲＣ、鉄骨造                  0\n",
       "Structure_ＲＣ、鉄骨造、ブロック造            0\n",
       "Structure_ＲＣ、鉄骨造、木造               0\n",
       "Structure_ＲＣ、鉄骨造、木造、ブロック造         0\n",
       "Structure_ＲＣ、鉄骨造、軽量鉄骨造            0\n",
       "Structure_ＳＲＣ                     0\n",
       "Structure_ＳＲＣ、木造                  0\n",
       "Structure_ＳＲＣ、鉄骨造                 0\n",
       "Structure_ＳＲＣ、ＲＣ                  0\n",
       "dtype: int64"
      ]
     },
     "execution_count": 267,
     "metadata": {
      "tags": []
     },
     "output_type": "execute_result"
    }
   ],
   "source": [
    "all_data.isnull().sum()"
   ]
  },
  {
   "cell_type": "code",
   "execution_count": 0,
   "metadata": {
    "colab": {},
    "colab_type": "code",
    "id": "e7PihPFASy2X"
   },
   "outputs": [],
   "source": []
  },
  {
   "cell_type": "code",
   "execution_count": 0,
   "metadata": {
    "colab": {},
    "colab_type": "code",
    "id": "zhdfkBkP8iz6"
   },
   "outputs": [],
   "source": [
    "train = all_data.iloc[:train.shape[0],:].reset_index(drop=True)\n",
    "test = all_data.iloc[train.shape[0]:,:].reset_index(drop=True)"
   ]
  },
  {
   "cell_type": "code",
   "execution_count": 0,
   "metadata": {
    "colab": {},
    "colab_type": "code",
    "id": "fe02KUrwVY3X"
   },
   "outputs": [],
   "source": []
  },
  {
   "cell_type": "code",
   "execution_count": 0,
   "metadata": {
    "colab": {},
    "colab_type": "code",
    "id": "rH9L4MK5_-cj"
   },
   "outputs": [],
   "source": []
  },
  {
   "cell_type": "code",
   "execution_count": 0,
   "metadata": {
    "colab": {
     "base_uri": "https://localhost:8080/",
     "height": 35
    },
    "colab_type": "code",
    "executionInfo": {
     "elapsed": 9446,
     "status": "ok",
     "timestamp": 1585801776957,
     "user": {
      "displayName": "河本紘伸",
      "photoUrl": "",
      "userId": "18373138818416241917"
     },
     "user_tz": -540
    },
    "id": "CXWH8S30XYUF",
    "outputId": "79cdc2d5-8af1-4f23-fadf-2b84efe0d8c7"
   },
   "outputs": [
    {
     "name": "stdout",
     "output_type": "stream",
     "text": [
      "62.06769983686786\n"
     ]
    }
   ],
   "source": [
    "print(all_data[\"CoverageRatio\"].mean())"
   ]
  },
  {
   "cell_type": "code",
   "execution_count": 0,
   "metadata": {
    "colab": {},
    "colab_type": "code",
    "id": "yqMVmjQKXt4b"
   },
   "outputs": [],
   "source": [
    "all_data[\"CoverageRatio\"] = all_data[\"CoverageRatio\"].fillna(all_data[\"CoverageRatio\"].mean())"
   ]
  },
  {
   "cell_type": "code",
   "execution_count": 0,
   "metadata": {
    "colab": {},
    "colab_type": "code",
    "id": "r7k4kL7D_8Y0"
   },
   "outputs": [],
   "source": []
  },
  {
   "cell_type": "code",
   "execution_count": 0,
   "metadata": {
    "colab": {
     "base_uri": "https://localhost:8080/",
     "height": 1000
    },
    "colab_type": "code",
    "executionInfo": {
     "elapsed": 9897,
     "status": "ok",
     "timestamp": 1585801777441,
     "user": {
      "displayName": "河本紘伸",
      "photoUrl": "",
      "userId": "18373138818416241917"
     },
     "user_tz": -540
    },
    "id": "TWstT6bsXF8t",
    "outputId": "e4ecccce-f296-487d-87cc-706da81745e9"
   },
   "outputs": [
    {
     "data": {
      "text/plain": [
       "10.0    9146\n",
       "8.0     9121\n",
       "7.0     8719\n",
       "9.0     8621\n",
       "6.0     8327\n",
       "5.0     6971\n",
       "11.0    5735\n",
       "12.0    5708\n",
       "2.5     5171\n",
       "7.5     4487\n",
       "5.5     4380\n",
       "6.5     4117\n",
       "13.0    3798\n",
       "4.0     3691\n",
       "4.5     3637\n",
       "8.5     3622\n",
       "15.0    3493\n",
       "3.0     3320\n",
       "9.5     2804\n",
       "14.0    2779\n",
       "2.0     2350\n",
       "10.5    2194\n",
       "7.2     1790\n",
       "16.0    1749\n",
       "18.0    1665\n",
       "11.5    1648\n",
       "12.5    1539\n",
       "5.4     1505\n",
       "2.7     1489\n",
       "7.3     1451\n",
       "20.0    1449\n",
       "17.0    1393\n",
       "3.5     1348\n",
       "7.8     1338\n",
       "8.2     1281\n",
       "6.8     1279\n",
       "6.6     1260\n",
       "6.3     1246\n",
       "5.8     1207\n",
       "6.4     1197\n",
       "6.7     1178\n",
       "5.6     1176\n",
       "50.0    1165\n",
       "13.5    1144\n",
       "7.6     1126\n",
       "8.3     1103\n",
       "7.7     1102\n",
       "6.2     1084\n",
       "4.8     1082\n",
       "8.7     1070\n",
       "9.2     1047\n",
       "8.4     1045\n",
       "7.4     1044\n",
       "5.2     1021\n",
       "8.6     1017\n",
       "5.7     1017\n",
       "5.3     1006\n",
       "9.1      999\n",
       "4.7      986\n",
       "8.1      984\n",
       "14.5     969\n",
       "6.9      969\n",
       "4.2      967\n",
       "5.1      938\n",
       "8.8      937\n",
       "4.6      917\n",
       "7.9      914\n",
       "2.6      909\n",
       "9.3      908\n",
       "9.6      896\n",
       "6.1      886\n",
       "5.9      871\n",
       "7.1      849\n",
       "8.9      844\n",
       "19.0     811\n",
       "4.9      790\n",
       "9.4      787\n",
       "9.8      753\n",
       "2.8      752\n",
       "9.7      741\n",
       "10.8     730\n",
       "4.4      709\n",
       "10.2     699\n",
       "4.3      687\n",
       "21.0     667\n",
       "22.0     665\n",
       "9.9      614\n",
       "3.6      611\n",
       "10.9     598\n",
       "10.6     590\n",
       "10.3     586\n",
       "25.0     573\n",
       "15.5     568\n",
       "30.0     558\n",
       "11.8     541\n",
       "10.7     529\n",
       "10.4     523\n",
       "10.1     516\n",
       "4.1      507\n",
       "11.4     501\n",
       "23.0     469\n",
       "3.8      467\n",
       "24.0     467\n",
       "11.7     455\n",
       "3.2      443\n",
       "11.2     441\n",
       "11.3     439\n",
       "16.5     437\n",
       "11.6     433\n",
       "2.4      426\n",
       "12.7     415\n",
       "12.6     409\n",
       "12.8     407\n",
       "11.1     386\n",
       "3.7      367\n",
       "12.4     367\n",
       "13.2     364\n",
       "12.2     364\n",
       "27.0     350\n",
       "12.3     347\n",
       "3.3      337\n",
       "3.4      335\n",
       "17.5     334\n",
       "3.9      334\n",
       "11.9     328\n",
       "13.8     319\n",
       "40.0     314\n",
       "26.0     311\n",
       "2.3      299\n",
       "12.9     286\n",
       "12.1     283\n",
       "2.2      283\n",
       "35.0     279\n",
       "18.5     279\n",
       "13.7     277\n",
       "28.0     273\n",
       "13.6     253\n",
       "2.9      230\n",
       "13.4     223\n",
       "13.1     221\n",
       "14.8     217\n",
       "3.1      208\n",
       "14.2     205\n",
       "13.3     204\n",
       "13.9     196\n",
       "14.6     188\n",
       "19.5     184\n",
       "14.4     182\n",
       "15.4     179\n",
       "15.6     174\n",
       "14.7     172\n",
       "29.0     170\n",
       "33.0     168\n",
       "32.0     164\n",
       "16.2     162\n",
       "14.1     159\n",
       "14.3     154\n",
       "15.8     150\n",
       "45.0     147\n",
       "20.5     145\n",
       "16.4     144\n",
       "15.7     142\n",
       "36.0     141\n",
       "16.3     133\n",
       "31.0     131\n",
       "15.2     131\n",
       "16.8     126\n",
       "1.8      124\n",
       "15.3     124\n",
       "18.2     122\n",
       "34.0     121\n",
       "21.5     118\n",
       "18.3     115\n",
       "2.1      114\n",
       "22.5     113\n",
       "23.5     110\n",
       "17.4     109\n",
       "15.9     108\n",
       "38.0     108\n",
       "42.0     103\n",
       "14.9     101\n",
       "16.6      99\n",
       "16.7      95\n",
       "1.0       91\n",
       "15.1      91\n",
       "17.2      91\n",
       "17.3      90\n",
       "17.8      88\n",
       "37.0      86\n",
       "27.5      85\n",
       "43.0      84\n",
       "16.1      83\n",
       "24.5      78\n",
       "18.1      76\n",
       "18.7      74\n",
       "1.5       73\n",
       "18.4      72\n",
       "21.8      71\n",
       "17.6      70\n",
       "18.9      70\n",
       "18.6      69\n",
       "18.8      69\n",
       "16.9      69\n",
       "25.5      66\n",
       "33.7      64\n",
       "19.2      64\n",
       "26.5      63\n",
       "17.7      63\n",
       "17.1      61\n",
       "48.0      55\n",
       "17.9      54\n",
       "39.0      54\n",
       "19.4      53\n",
       "28.5      50\n",
       "1.2       49\n",
       "21.3      49\n",
       "41.0      49\n",
       "22.6      49\n",
       "19.6      48\n",
       "22.7      46\n",
       "19.3      46\n",
       "19.8      43\n",
       "21.7      42\n",
       "23.6      40\n",
       "47.0      40\n",
       "20.2      39\n",
       "19.7      39\n",
       "29.5      38\n",
       "20.8      38\n",
       "21.6      37\n",
       "20.4      36\n",
       "20.7      35\n",
       "19.1      35\n",
       "22.8      34\n",
       "21.1      33\n",
       "44.0      33\n",
       "1.9       33\n",
       "22.4      32\n",
       "20.9      31\n",
       "22.9      31\n",
       "32.5      31\n",
       "22.3      31\n",
       "21.2      30\n",
       "31.5      30\n",
       "22.2      29\n",
       "24.4      29\n",
       "46.0      29\n",
       "23.4      29\n",
       "1.6       28\n",
       "23.3      28\n",
       "20.3      27\n",
       "25.4      27\n",
       "30.5      26\n",
       "20.1      26\n",
       "19.9      26\n",
       "23.8      26\n",
       "20.6      25\n",
       "37.5      23\n",
       "21.4      23\n",
       "23.1      23\n",
       "24.2      22\n",
       "21.9      22\n",
       "1.3       21\n",
       "24.1      21\n",
       "36.5      21\n",
       "1.4       21\n",
       "24.3      20\n",
       "25.9      19\n",
       "23.2      19\n",
       "31.6      19\n",
       "25.8      19\n",
       "25.2      18\n",
       "24.6      18\n",
       "23.7      17\n",
       "1.7       17\n",
       "26.4      17\n",
       "27.9      16\n",
       "23.9      16\n",
       "0.9       15\n",
       "29.4      15\n",
       "27.6      15\n",
       "24.7      15\n",
       "25.6      15\n",
       "24.8      15\n",
       "32.2      15\n",
       "25.3      15\n",
       "22.1      15\n",
       "28.6      14\n",
       "26.6      14\n",
       "28.3      14\n",
       "27.2      14\n",
       "35.5      14\n",
       "38.5      13\n",
       "49.0      13\n",
       "26.3      13\n",
       "25.7      13\n",
       "27.3      13\n",
       "26.2      13\n",
       "24.9      13\n",
       "26.8      13\n",
       "32.4      13\n",
       "34.5      12\n",
       "29.7      12\n",
       "25.1      11\n",
       "27.7      11\n",
       "36.4      11\n",
       "30.8      11\n",
       "33.5      11\n",
       "30.2      11\n",
       "28.9      11\n",
       "26.9      10\n",
       "1.1       10\n",
       "27.4      10\n",
       "29.3      10\n",
       "37.9      10\n",
       "39.5      10\n",
       "27.8      10\n",
       "30.7       9\n",
       "0.5        9\n",
       "29.8       9\n",
       "26.7       9\n",
       "29.1       9\n",
       "28.7       9\n",
       "45.5       9\n",
       "33.4       8\n",
       "34.2       8\n",
       "30.6       8\n",
       "29.9       8\n",
       "36.6       8\n",
       "35.9       8\n",
       "36.8       8\n",
       "31.2       8\n",
       "32.7       8\n",
       "28.8       8\n",
       "37.7       8\n",
       "42.5       8\n",
       "37.8       8\n",
       "29.2       8\n",
       "30.4       7\n",
       "40.5       7\n",
       "27.1       7\n",
       "31.4       7\n",
       "31.9       7\n",
       "41.5       7\n",
       "44.5       7\n",
       "36.3       6\n",
       "45.6       6\n",
       "0.8        6\n",
       "38.4       6\n",
       "31.3       6\n",
       "46.1       6\n",
       "33.6       6\n",
       "31.8       6\n",
       "47.5       6\n",
       "31.7       6\n",
       "28.2       6\n",
       "33.3       5\n",
       "43.7       5\n",
       "35.4       5\n",
       "32.8       5\n",
       "37.6       5\n",
       "39.7       5\n",
       "33.1       5\n",
       "49.8       5\n",
       "30.1       5\n",
       "30.3       5\n",
       "43.5       5\n",
       "34.3       5\n",
       "41.3       5\n",
       "26.1       5\n",
       "34.8       5\n",
       "34.4       5\n",
       "35.6       5\n",
       "40.6       5\n",
       "38.7       5\n",
       "31.1       5\n",
       "37.2       5\n",
       "0.6        5\n",
       "34.6       5\n",
       "49.5       4\n",
       "49.4       4\n",
       "29.6       4\n",
       "41.7       4\n",
       "40.7       4\n",
       "36.9       4\n",
       "46.2       4\n",
       "38.1       4\n",
       "32.6       4\n",
       "44.6       4\n",
       "32.9       4\n",
       "48.6       4\n",
       "48.3       4\n",
       "38.2       4\n",
       "44.1       4\n",
       "30.9       4\n",
       "28.4       4\n",
       "35.1       4\n",
       "35.7       4\n",
       "38.6       4\n",
       "38.9       3\n",
       "45.4       3\n",
       "28.1       3\n",
       "33.8       3\n",
       "32.1       3\n",
       "44.7       3\n",
       "43.9       3\n",
       "43.2       3\n",
       "48.8       3\n",
       "37.1       3\n",
       "36.1       3\n",
       "43.4       3\n",
       "37.4       3\n",
       "40.9       3\n",
       "32.3       3\n",
       "39.8       3\n",
       "37.3       3\n",
       "43.8       3\n",
       "40.4       2\n",
       "34.7       2\n",
       "42.4       2\n",
       "33.9       2\n",
       "45.2       2\n",
       "33.2       2\n",
       "39.2       2\n",
       "42.2       2\n",
       "34.1       2\n",
       "40.2       2\n",
       "34.9       2\n",
       "48.5       2\n",
       "40.3       2\n",
       "47.8       2\n",
       "46.6       2\n",
       "47.7       2\n",
       "35.8       2\n",
       "47.6       2\n",
       "47.2       2\n",
       "48.9       2\n",
       "42.7       2\n",
       "46.3       2\n",
       "41.6       2\n",
       "35.2       2\n",
       "42.3       2\n",
       "42.1       2\n",
       "49.3       2\n",
       "49.1       2\n",
       "46.7       2\n",
       "39.4       2\n",
       "36.2       2\n",
       "41.8       2\n",
       "38.8       2\n",
       "44.3       2\n",
       "48.7       2\n",
       "35.3       1\n",
       "43.3       1\n",
       "46.5       1\n",
       "43.6       1\n",
       "41.4       1\n",
       "41.2       1\n",
       "39.3       1\n",
       "49.6       1\n",
       "44.2       1\n",
       "48.4       1\n",
       "0.4        1\n",
       "46.9       1\n",
       "49.9       1\n",
       "36.7       1\n",
       "42.8       1\n",
       "41.1       1\n",
       "44.4       1\n",
       "38.3       1\n",
       "41.9       1\n",
       "45.1       1\n",
       "49.2       1\n",
       "48.1       1\n",
       "47.4       1\n",
       "40.8       1\n",
       "Name: Frontage, dtype: int64"
      ]
     },
     "execution_count": 271,
     "metadata": {
      "tags": []
     },
     "output_type": "execute_result"
    }
   ],
   "source": [
    "all_data[\"Frontage\"].value_counts()"
   ]
  },
  {
   "cell_type": "code",
   "execution_count": 0,
   "metadata": {
    "colab": {},
    "colab_type": "code",
    "id": "y7PicV_o_7SL"
   },
   "outputs": [],
   "source": []
  },
  {
   "cell_type": "code",
   "execution_count": 0,
   "metadata": {
    "colab": {},
    "colab_type": "code",
    "id": "VddYkxVtX8pU"
   },
   "outputs": [],
   "source": [
    "all_data[\"FloorAreaRatio\"] = all_data[\"FloorAreaRatio\"].fillna(all_data[\"FloorAreaRatio\"].mean())"
   ]
  },
  {
   "cell_type": "code",
   "execution_count": 0,
   "metadata": {
    "colab": {},
    "colab_type": "code",
    "id": "WzuabG66_5l1"
   },
   "outputs": [],
   "source": []
  },
  {
   "cell_type": "code",
   "execution_count": 0,
   "metadata": {
    "colab": {},
    "colab_type": "code",
    "id": "rbZMD9DZAj0y"
   },
   "outputs": [],
   "source": []
  },
  {
   "cell_type": "code",
   "execution_count": 0,
   "metadata": {
    "colab": {
     "base_uri": "https://localhost:8080/",
     "height": 283
    },
    "colab_type": "code",
    "executionInfo": {
     "elapsed": 9853,
     "status": "ok",
     "timestamp": 1585801777443,
     "user": {
      "displayName": "河本紘伸",
      "photoUrl": "",
      "userId": "18373138818416241917"
     },
     "user_tz": -540
    },
    "id": "y_oKygtGYnL3",
    "outputId": "4b3b5a3f-c15d-4d66-b889-ebf12d7abb1d"
   },
   "outputs": [
    {
     "data": {
      "text/plain": [
       "<matplotlib.axes._subplots.AxesSubplot at 0x7f70c688d518>"
      ]
     },
     "execution_count": 273,
     "metadata": {
      "tags": []
     },
     "output_type": "execute_result"
    },
    {
     "data": {
      "image/png": "[encoded data removed]",
      "text/plain": [
       "<Figure size 432x288 with 1 Axes>"
      ]
     },
     "metadata": {
      "tags": []
     },
     "output_type": "display_data"
    }
   ],
   "source": [
    "all_data[\"Frontage\"].hist()"
   ]
  },
  {
   "cell_type": "code",
   "execution_count": 0,
   "metadata": {
    "colab": {
     "base_uri": "https://localhost:8080/",
     "height": 290
    },
    "colab_type": "code",
    "executionInfo": {
     "elapsed": 9845,
     "status": "ok",
     "timestamp": 1585801777443,
     "user": {
      "displayName": "河本紘伸",
      "photoUrl": "",
      "userId": "18373138818416241917"
     },
     "user_tz": -540
    },
    "id": "M7OWdtVtwEQV",
    "outputId": "0a2c167c-676f-466f-8980-8fed8f1b9e1f"
   },
   "outputs": [
    {
     "data": {
      "text/plain": [
       "1.0     183384\n",
       "7.0      93773\n",
       "6.0      73517\n",
       "2.0      18620\n",
       "4.0       9676\n",
       "3.0       4277\n",
       "8.0       1532\n",
       "5.0       1162\n",
       "9.0        384\n",
       "12.0       183\n",
       "11.0       165\n",
       "13.0       128\n",
       "10.0       121\n",
       "14.0        12\n",
       "Name: Classification, dtype: int64"
      ]
     },
     "execution_count": 274,
     "metadata": {
      "tags": []
     },
     "output_type": "execute_result"
    }
   ],
   "source": [
    "all_data[\"Classification\"].value_counts()"
   ]
  },
  {
   "cell_type": "code",
   "execution_count": 0,
   "metadata": {
    "colab": {},
    "colab_type": "code",
    "id": "y1tSrxESwEHZ"
   },
   "outputs": [],
   "source": []
  },
  {
   "cell_type": "code",
   "execution_count": 0,
   "metadata": {
    "colab": {},
    "colab_type": "code",
    "id": "ezNiOzfAYP9j"
   },
   "outputs": [],
   "source": [
    "all_data[\"Frontage\"] = all_data[\"Frontage\"].fillna(all_data[\"Frontage\"].mode().iloc[0])"
   ]
  },
  {
   "cell_type": "code",
   "execution_count": 0,
   "metadata": {
    "colab": {},
    "colab_type": "code",
    "id": "uePneou89lJj"
   },
   "outputs": [],
   "source": []
  },
  {
   "cell_type": "code",
   "execution_count": 0,
   "metadata": {
    "colab": {},
    "colab_type": "code",
    "id": "1AtoAuaoZgcF"
   },
   "outputs": [],
   "source": [
    "all_data[\"TimeToNearestStation\"] = all_data[\"TimeToNearestStation\"].fillna(all_data[\"TimeToNearestStation\"].mode().iloc[0])"
   ]
  },
  {
   "cell_type": "code",
   "execution_count": 0,
   "metadata": {
    "colab": {},
    "colab_type": "code",
    "id": "wlNl3ejz9kvP"
   },
   "outputs": [],
   "source": []
  },
  {
   "cell_type": "code",
   "execution_count": 0,
   "metadata": {
    "colab": {},
    "colab_type": "code",
    "id": "UcJiA97raNT7"
   },
   "outputs": [],
   "source": [
    "all_data[\"TotalFloorArea\"] = all_data[\"TotalFloorArea\"].fillna(all_data[\"TotalFloorArea\"].mode().iloc[0])"
   ]
  },
  {
   "cell_type": "code",
   "execution_count": 0,
   "metadata": {
    "colab": {},
    "colab_type": "code",
    "id": "4KmGLoC19mRO"
   },
   "outputs": [],
   "source": []
  },
  {
   "cell_type": "code",
   "execution_count": 0,
   "metadata": {
    "colab": {},
    "colab_type": "code",
    "id": "Wl35KLneam9t"
   },
   "outputs": [],
   "source": [
    "all_data[\"YearBuilt\"] = all_data[\"YearBuilt\"].fillna(10)"
   ]
  },
  {
   "cell_type": "code",
   "execution_count": 0,
   "metadata": {
    "colab": {
     "base_uri": "https://localhost:8080/",
     "height": 35
    },
    "colab_type": "code",
    "executionInfo": {
     "elapsed": 9769,
     "status": "ok",
     "timestamp": 1585801777446,
     "user": {
      "displayName": "河本紘伸",
      "photoUrl": "",
      "userId": "18373138818416241917"
     },
     "user_tz": -540
    },
    "id": "DdxLIG3iuWDF",
    "outputId": "036aa2b1-75b9-461a-d2ea-d4b45800b4d3"
   },
   "outputs": [
    {
     "data": {
      "text/plain": [
       "13.42415760827428"
      ]
     },
     "execution_count": 279,
     "metadata": {
      "tags": []
     },
     "output_type": "execute_result"
    }
   ],
   "source": [
    "all_data[\"YearBuilt\"].mean()"
   ]
  },
  {
   "cell_type": "code",
   "execution_count": 0,
   "metadata": {
    "colab": {
     "base_uri": "https://localhost:8080/",
     "height": 35
    },
    "colab_type": "code",
    "executionInfo": {
     "elapsed": 9758,
     "status": "ok",
     "timestamp": 1585801777446,
     "user": {
      "displayName": "河本紘伸",
      "photoUrl": "",
      "userId": "18373138818416241917"
     },
     "user_tz": -540
    },
    "id": "MEWn06jHsDns",
    "outputId": "d346c9aa-6a1e-4452-9b19-c86cd7727056"
   },
   "outputs": [
    {
     "data": {
      "text/plain": [
       "2002.352398600278"
      ]
     },
     "execution_count": 280,
     "metadata": {
      "tags": []
     },
     "output_type": "execute_result"
    }
   ],
   "source": [
    "a = all_data[\"Period\"].mean()-10\n",
    "a"
   ]
  },
  {
   "cell_type": "code",
   "execution_count": 0,
   "metadata": {
    "colab": {
     "base_uri": "https://localhost:8080/",
     "height": 35
    },
    "colab_type": "code",
    "executionInfo": {
     "elapsed": 9750,
     "status": "ok",
     "timestamp": 1585801777447,
     "user": {
      "displayName": "河本紘伸",
      "photoUrl": "",
      "userId": "18373138818416241917"
     },
     "user_tz": -540
    },
    "id": "9wjrAccQsMc0",
    "outputId": "aebb1494-87c6-47de-f1ca-71a5060ffb0e"
   },
   "outputs": [
    {
     "data": {
      "text/plain": [
       "1998.2247329512202"
      ]
     },
     "execution_count": 281,
     "metadata": {
      "tags": []
     },
     "output_type": "execute_result"
    }
   ],
   "source": [
    "all_data[\"BuildingYear\"].mean()"
   ]
  },
  {
   "cell_type": "code",
   "execution_count": 0,
   "metadata": {
    "colab": {},
    "colab_type": "code",
    "id": "1srlYCaGbEmf"
   },
   "outputs": [],
   "source": [
    "all_data[\"BuildingYear\"] = all_data[\"BuildingYear\"].fillna(all_data[\"BuildingYear\"].mean())"
   ]
  },
  {
   "cell_type": "code",
   "execution_count": 0,
   "metadata": {
    "colab": {
     "base_uri": "https://localhost:8080/",
     "height": 1000
    },
    "colab_type": "code",
    "executionInfo": {
     "elapsed": 9733,
     "status": "ok",
     "timestamp": 1585801777447,
     "user": {
      "displayName": "河本紘伸",
      "photoUrl": "",
      "userId": "18373138818416241917"
     },
     "user_tz": -540
    },
    "id": "h9YCXWUlCqDH",
    "outputId": "1efdc3f2-ef36-4387-9f17-f6de5677de73"
   },
   "outputs": [
    {
     "data": {
      "text/plain": [
       "id                                0\n",
       "Type                              0\n",
       "Region                            0\n",
       "MunicipalityCode                  0\n",
       "Municipality                      0\n",
       "DistrictName                      0\n",
       "NearestStation                    0\n",
       "TimeToNearestStation              0\n",
       "FloorPlan                    202489\n",
       "Area                              0\n",
       "LandShape                         0\n",
       "Frontage                          0\n",
       "TotalFloorArea                    0\n",
       "BuildingYear                      0\n",
       "Purpose                           0\n",
       "Direction                         0\n",
       "Classification                    0\n",
       "Breadth                      159631\n",
       "CityPlanning                      0\n",
       "CoverageRatio                     0\n",
       "FloorAreaRatio                    0\n",
       "Period                            0\n",
       "Renovation                        0\n",
       "Remarks                           0\n",
       "SalePrice                     34844\n",
       "YearBuilt                         0\n",
       "その他                               0\n",
       "事務所                               0\n",
       "住宅                                0\n",
       "作業場                               0\n",
       "倉庫                                0\n",
       "共同                                0\n",
       "工場                                0\n",
       "店舗                                0\n",
       "秘密                                0\n",
       "駐車                                0\n",
       "Structure_ブロック造                   0\n",
       "Structure_ブロック造、軽量鉄骨造             0\n",
       "Structure_木造                      0\n",
       "Structure_木造、ブロック造                0\n",
       "Structure_木造、軽量鉄骨造                0\n",
       "Structure_軽量鉄骨造                   0\n",
       "Structure_鉄骨造                     0\n",
       "Structure_鉄骨造、ブロック造               0\n",
       "Structure_鉄骨造、木造                  0\n",
       "Structure_鉄骨造、木造、ブロック造            0\n",
       "Structure_鉄骨造、木造、軽量鉄骨造            0\n",
       "Structure_鉄骨造、軽量鉄骨造               0\n",
       "Structure_ＲＣ                      0\n",
       "Structure_ＲＣ、ブロック造                0\n",
       "Structure_ＲＣ、木造                   0\n",
       "Structure_ＲＣ、木造、ブロック造             0\n",
       "Structure_ＲＣ、軽量鉄骨造                0\n",
       "Structure_ＲＣ、鉄骨造                  0\n",
       "Structure_ＲＣ、鉄骨造、ブロック造            0\n",
       "Structure_ＲＣ、鉄骨造、木造               0\n",
       "Structure_ＲＣ、鉄骨造、木造、ブロック造         0\n",
       "Structure_ＲＣ、鉄骨造、軽量鉄骨造            0\n",
       "Structure_ＳＲＣ                     0\n",
       "Structure_ＳＲＣ、木造                  0\n",
       "Structure_ＳＲＣ、鉄骨造                 0\n",
       "Structure_ＳＲＣ、ＲＣ                  0\n",
       "dtype: int64"
      ]
     },
     "execution_count": 283,
     "metadata": {
      "tags": []
     },
     "output_type": "execute_result"
    }
   ],
   "source": [
    "all_data.isnull().sum()"
   ]
  },
  {
   "cell_type": "code",
   "execution_count": 0,
   "metadata": {
    "colab": {
     "base_uri": "https://localhost:8080/",
     "height": 283
    },
    "colab_type": "code",
    "executionInfo": {
     "elapsed": 10226,
     "status": "ok",
     "timestamp": 1585801777948,
     "user": {
      "displayName": "河本紘伸",
      "photoUrl": "",
      "userId": "18373138818416241917"
     },
     "user_tz": -540
    },
    "id": "Bci-AzVRoZy3",
    "outputId": "0f95e2ce-f110-4057-ba73-4cb6ac319d2e"
   },
   "outputs": [
    {
     "data": {
      "text/plain": [
       "<matplotlib.axes._subplots.AxesSubplot at 0x7f70c6885710>"
      ]
     },
     "execution_count": 284,
     "metadata": {
      "tags": []
     },
     "output_type": "execute_result"
    },
    {
     "data": {
      "image/png": "[encoded data removed]",
      "text/plain": [
       "<Figure size 432x288 with 1 Axes>"
      ]
     },
     "metadata": {
      "tags": []
     },
     "output_type": "display_data"
    }
   ],
   "source": [
    "all_data[\"Breadth\"].hist()"
   ]
  },
  {
   "cell_type": "code",
   "execution_count": 0,
   "metadata": {
    "colab": {
     "base_uri": "https://localhost:8080/",
     "height": 35
    },
    "colab_type": "code",
    "executionInfo": {
     "elapsed": 10217,
     "status": "ok",
     "timestamp": 1585801777949,
     "user": {
      "displayName": "河本紘伸",
      "photoUrl": "",
      "userId": "18373138818416241917"
     },
     "user_tz": -540
    },
    "id": "DsXtlWaOompE",
    "outputId": "7a350e61-b224-4009-b2af-53b3bcd2b9e7"
   },
   "outputs": [
    {
     "data": {
      "text/plain": [
       "6.344071569666947"
      ]
     },
     "execution_count": 285,
     "metadata": {
      "tags": []
     },
     "output_type": "execute_result"
    }
   ],
   "source": [
    "all_data[\"Breadth\"].mean()"
   ]
  },
  {
   "cell_type": "code",
   "execution_count": 0,
   "metadata": {
    "colab": {},
    "colab_type": "code",
    "id": "SyuCSz3iopnP"
   },
   "outputs": [],
   "source": [
    "all_data[\"Breadth\"] = all_data[\"Breadth\"].fillna(all_data[\"Breadth\"].mean())"
   ]
  },
  {
   "cell_type": "code",
   "execution_count": 0,
   "metadata": {
    "colab": {
     "base_uri": "https://localhost:8080/",
     "height": 35
    },
    "colab_type": "code",
    "executionInfo": {
     "elapsed": 10200,
     "status": "ok",
     "timestamp": 1585801777949,
     "user": {
      "displayName": "河本紘伸",
      "photoUrl": "",
      "userId": "18373138818416241917"
     },
     "user_tz": -540
    },
    "id": "JFkI5uiPucb2",
    "outputId": "81221704-343f-4bc0-fc91-62c010267100"
   },
   "outputs": [
    {
     "data": {
      "text/plain": [
       "352090"
      ]
     },
     "execution_count": 287,
     "metadata": {
      "tags": []
     },
     "output_type": "execute_result"
    }
   ],
   "source": [
    "train.shape[0]"
   ]
  },
  {
   "cell_type": "code",
   "execution_count": 0,
   "metadata": {
    "colab": {
     "base_uri": "https://localhost:8080/",
     "height": 1000
    },
    "colab_type": "code",
    "executionInfo": {
     "elapsed": 1063,
     "status": "ok",
     "timestamp": 1585802026520,
     "user": {
      "displayName": "河本紘伸",
      "photoUrl": "",
      "userId": "18373138818416241917"
     },
     "user_tz": -540
    },
    "id": "7wZFKVy_KnDJ",
    "outputId": "86e2ec9c-cbd9-4dfe-b38c-6037ead640dd"
   },
   "outputs": [
    {
     "data": {
      "text/plain": [
       "id                                0\n",
       "Type                              0\n",
       "Region                            0\n",
       "MunicipalityCode                  0\n",
       "Municipality                      0\n",
       "DistrictName                      0\n",
       "NearestStation                    0\n",
       "TimeToNearestStation              0\n",
       "FloorPlan                    202489\n",
       "Area                              0\n",
       "LandShape                         0\n",
       "Frontage                          0\n",
       "TotalFloorArea                    0\n",
       "BuildingYear                      0\n",
       "Purpose                           0\n",
       "Direction                         0\n",
       "Classification                    0\n",
       "Breadth                           0\n",
       "CityPlanning                      0\n",
       "CoverageRatio                     0\n",
       "FloorAreaRatio                    0\n",
       "Period                            0\n",
       "Renovation                        0\n",
       "Remarks                           0\n",
       "SalePrice                     34844\n",
       "YearBuilt                         0\n",
       "その他                               0\n",
       "事務所                               0\n",
       "住宅                                0\n",
       "作業場                               0\n",
       "倉庫                                0\n",
       "共同                                0\n",
       "工場                                0\n",
       "店舗                                0\n",
       "秘密                                0\n",
       "駐車                                0\n",
       "Structure_ブロック造                   0\n",
       "Structure_ブロック造、軽量鉄骨造             0\n",
       "Structure_木造                      0\n",
       "Structure_木造、ブロック造                0\n",
       "Structure_木造、軽量鉄骨造                0\n",
       "Structure_軽量鉄骨造                   0\n",
       "Structure_鉄骨造                     0\n",
       "Structure_鉄骨造、ブロック造               0\n",
       "Structure_鉄骨造、木造                  0\n",
       "Structure_鉄骨造、木造、ブロック造            0\n",
       "Structure_鉄骨造、木造、軽量鉄骨造            0\n",
       "Structure_鉄骨造、軽量鉄骨造               0\n",
       "Structure_ＲＣ                      0\n",
       "Structure_ＲＣ、ブロック造                0\n",
       "Structure_ＲＣ、木造                   0\n",
       "Structure_ＲＣ、木造、ブロック造             0\n",
       "Structure_ＲＣ、軽量鉄骨造                0\n",
       "Structure_ＲＣ、鉄骨造                  0\n",
       "Structure_ＲＣ、鉄骨造、ブロック造            0\n",
       "Structure_ＲＣ、鉄骨造、木造               0\n",
       "Structure_ＲＣ、鉄骨造、木造、ブロック造         0\n",
       "Structure_ＲＣ、鉄骨造、軽量鉄骨造            0\n",
       "Structure_ＳＲＣ                     0\n",
       "Structure_ＳＲＣ、木造                  0\n",
       "Structure_ＳＲＣ、鉄骨造                 0\n",
       "Structure_ＳＲＣ、ＲＣ                  0\n",
       "dtype: int64"
      ]
     },
     "execution_count": 288,
     "metadata": {
      "tags": []
     },
     "output_type": "execute_result"
    }
   ],
   "source": [
    "all_data.isnull().sum()"
   ]
  },
  {
   "cell_type": "code",
   "execution_count": 0,
   "metadata": {
    "colab": {},
    "colab_type": "code",
    "id": "5Fr0uaBtFBJb"
   },
   "outputs": [],
   "source": [
    "all_data.to_csv(\"all_data_1.csv\", index = False)"
   ]
  },
  {
   "cell_type": "code",
   "execution_count": 0,
   "metadata": {
    "colab": {},
    "colab_type": "code",
    "id": "b0AVSN3QK2sR"
   },
   "outputs": [],
   "source": [
    "all_data = pd.read_csv(\"all_data_1.csv\")"
   ]
  },
  {
   "cell_type": "code",
   "execution_count": 0,
   "metadata": {
    "colab": {
     "base_uri": "https://localhost:8080/",
     "height": 1000
    },
    "colab_type": "code",
    "executionInfo": {
     "elapsed": 1046,
     "status": "ok",
     "timestamp": 1585802152841,
     "user": {
      "displayName": "河本紘伸",
      "photoUrl": "",
      "userId": "18373138818416241917"
     },
     "user_tz": -540
    },
    "id": "yTL1ZL3wLCK9",
    "outputId": "d972770b-d054-4ab4-e528-dd58f132d3ee"
   },
   "outputs": [
    {
     "data": {
      "text/plain": [
       "id                                0\n",
       "Type                              0\n",
       "Region                            0\n",
       "MunicipalityCode                  0\n",
       "Municipality                      0\n",
       "DistrictName                      0\n",
       "NearestStation                    0\n",
       "TimeToNearestStation              0\n",
       "FloorPlan                    202489\n",
       "Area                              0\n",
       "LandShape                         0\n",
       "Frontage                          0\n",
       "TotalFloorArea                    0\n",
       "BuildingYear                      0\n",
       "Purpose                           0\n",
       "Direction                         0\n",
       "Classification                    0\n",
       "Breadth                           0\n",
       "CityPlanning                      0\n",
       "CoverageRatio                     0\n",
       "FloorAreaRatio                    0\n",
       "Period                            0\n",
       "Renovation                        0\n",
       "Remarks                           0\n",
       "SalePrice                     34844\n",
       "YearBuilt                         0\n",
       "その他                               0\n",
       "事務所                               0\n",
       "住宅                                0\n",
       "作業場                               0\n",
       "倉庫                                0\n",
       "共同                                0\n",
       "工場                                0\n",
       "店舗                                0\n",
       "秘密                                0\n",
       "駐車                                0\n",
       "Structure_ブロック造                   0\n",
       "Structure_ブロック造、軽量鉄骨造             0\n",
       "Structure_木造                      0\n",
       "Structure_木造、ブロック造                0\n",
       "Structure_木造、軽量鉄骨造                0\n",
       "Structure_軽量鉄骨造                   0\n",
       "Structure_鉄骨造                     0\n",
       "Structure_鉄骨造、ブロック造               0\n",
       "Structure_鉄骨造、木造                  0\n",
       "Structure_鉄骨造、木造、ブロック造            0\n",
       "Structure_鉄骨造、木造、軽量鉄骨造            0\n",
       "Structure_鉄骨造、軽量鉄骨造               0\n",
       "Structure_ＲＣ                      0\n",
       "Structure_ＲＣ、ブロック造                0\n",
       "Structure_ＲＣ、木造                   0\n",
       "Structure_ＲＣ、木造、ブロック造             0\n",
       "Structure_ＲＣ、軽量鉄骨造                0\n",
       "Structure_ＲＣ、鉄骨造                  0\n",
       "Structure_ＲＣ、鉄骨造、ブロック造            0\n",
       "Structure_ＲＣ、鉄骨造、木造               0\n",
       "Structure_ＲＣ、鉄骨造、木造、ブロック造         0\n",
       "Structure_ＲＣ、鉄骨造、軽量鉄骨造            0\n",
       "Structure_ＳＲＣ                     0\n",
       "Structure_ＳＲＣ、木造                  0\n",
       "Structure_ＳＲＣ、鉄骨造                 0\n",
       "Structure_ＳＲＣ、ＲＣ                  0\n",
       "dtype: int64"
      ]
     },
     "execution_count": 292,
     "metadata": {
      "tags": []
     },
     "output_type": "execute_result"
    }
   ],
   "source": [
    "all_data.isnull().sum()"
   ]
  }
 ],
 "metadata": {
  "colab": {
   "collapsed_sections": [],
   "name": "house price 2.ipynb",
   "provenance": [],
   "toc_visible": true
  },
  "kernelspec": {
   "display_name": "Python 3",
   "language": "python",
   "name": "python3"
  },
  "language_info": {
   "codemirror_mode": {
    "name": "ipython",
    "version": 3
   },
   "file_extension": ".py",
   "mimetype": "text/x-python",
   "name": "python",
   "nbconvert_exporter": "python",
   "pygments_lexer": "ipython3",
   "version": "3.7.4"
  }
 },
 "nbformat": 4,
 "nbformat_minor": 1
}
